{
 "cells": [
  {
   "cell_type": "markdown",
   "metadata": {
    "slideshow": {
     "slide_type": "slide"
    }
   },
   "source": [
    "# Data IO (input/output)\n",
    "\n",
    "\n",
    "# Introduction\n",
    "\n",
    "ESRF data comes in (too many) different formats:\n",
    "\n",
    "* Specfile\n",
    "* EDF\n",
    "* HDF5\n",
    "\n",
    "And specific detector formats:\n",
    "\n",
    "* MarCCD\n",
    "* Pilatus CBF\n",
    "* Dectris Eiger\n",
    "* …\n"
   ]
  },
  {
   "cell_type": "markdown",
   "metadata": {
    "slideshow": {
     "slide_type": "slide"
    }
   },
   "source": [
    "# Accessing ESRF data\n",
    "\n",
    "## Libraries\n",
    "\n",
    "\n",
    "* h5py\n",
    "    * Access to HDF5 files\n",
    "* FabIO\n",
    "    * Access to several image data formats\n",
    "    * Managed by the DAU\n",
    "* silx\n",
    "    * Normalized way to access data\n",
    "    * Helper to simplify the transition to HDF5\n",
    "    * `silx view` to show the file structure\n",
    "    * Data processing functions\n",
    "    * Managed by the DAU"
   ]
  },
  {
   "cell_type": "markdown",
   "metadata": {
    "slideshow": {
     "slide_type": "slide"
    }
   },
   "source": [
    "# Accessing ESRF data\n",
    "\n",
    "## Libraries\n",
    "\n",
    "\n",
    "Those are already available for most ESRF computers."
   ]
  },
  {
   "cell_type": "raw",
   "metadata": {},
   "source": [
    "apt-get install python3-silx python3-fabio python3-h5py"
   ]
  },
  {
   "cell_type": "markdown",
   "metadata": {},
   "source": [
    "Cross platform (available for Windows, Linux, Mac OS X)"
   ]
  },
  {
   "cell_type": "raw",
   "metadata": {},
   "source": [
    "pip install silx fabio h5py"
   ]
  },
  {
   "cell_type": "markdown",
   "metadata": {},
   "source": [
    "Also available from source code (under MIT license)\n",
    "\n",
    "* https://github.com/silx-kit/silx\n",
    "* https://github.com/silx-kit/fabio\n",
    "* https://github.com/h5py/h5py"
   ]
  },
  {
   "cell_type": "markdown",
   "metadata": {
    "slideshow": {
     "slide_type": "slide"
    }
   },
   "source": [
    "## Spec files\n",
    "\n",
    "* Text format from Spec sequencer\n",
    "* Contains evolution of measurments and instruments during a scan\n",
    "* We do not recommand to use this format anymore\n",
    "* `silx` provides a HDF5-like read access to Spec files\n",
    "\n",
    "### Spec compatibility\n",
    "\n",
    "* PyMCA was previously often used as a Python library to read Spec files\n",
    "* Now prefer using silx"
   ]
  },
  {
   "cell_type": "code",
   "execution_count": null,
   "metadata": {},
   "outputs": [],
   "source": [
    "# instead of\n",
    "from PyMca5.PyMca import specfilewrapper\n",
    "# prefer using\n",
    "from silx.io import specfilewrapper"
   ]
  },
  {
   "cell_type": "markdown",
   "metadata": {
    "slideshow": {
     "slide_type": "slide"
    }
   },
   "source": [
    "### How to read a spec file\n",
    "\n",
    "An example is given later in [spec files using silx](#Read-Spec-file-as-an-HDF5)"
   ]
  },
  {
   "cell_type": "markdown",
   "metadata": {
    "slideshow": {
     "slide_type": "slide"
    }
   },
   "source": [
    "## EDF files\n",
    "\n",
    "\n",
    "* ESRF data format\n",
    "* It contains\n",
    "    * Header containing various information\n",
    "    * 1D/2D/3D array of float/integer\n",
    "    * Multi-frames (more than one image in a single file)\n",
    "    * Often used as file series\n",
    "* Library\n",
    "    * Use `fabio`\n",
    "    * `silx` provides a HDF5-like read access"
   ]
  },
  {
   "cell_type": "markdown",
   "metadata": {
    "slideshow": {
     "slide_type": "slide"
    }
   },
   "source": [
    "## Read a single EDF image"
   ]
  },
  {
   "cell_type": "code",
   "execution_count": null,
   "metadata": {
    "slideshow": {
     "slide_type": "-"
    }
   },
   "outputs": [],
   "source": [
    "import fabio\n",
    "\n",
    "image = fabio.open(\"data/medipix.edf\")"
   ]
  },
  {
   "cell_type": "code",
   "execution_count": null,
   "metadata": {},
   "outputs": [],
   "source": [
    "# Here is the data as a Numpy array\n",
    "print(image.data)\n",
    "# Here is the header as a key-value dictionary\n",
    "print(image.header.keys())"
   ]
  },
  {
   "cell_type": "code",
   "execution_count": null,
   "metadata": {},
   "outputs": [],
   "source": [
    "# Better to use a context manager\n",
    "with fabio.open(\"data/medipix.edf\") as image:\n",
    "    print(image.header[\"dir\"])"
   ]
  },
  {
   "cell_type": "markdown",
   "metadata": {
    "slideshow": {
     "slide_type": "slide"
    }
   },
   "source": [
    "## Read a multi-frame EDF image\n",
    "\n",
    "A file containing many frames."
   ]
  },
  {
   "cell_type": "code",
   "execution_count": null,
   "metadata": {},
   "outputs": [],
   "source": [
    "import fabio\n",
    "\n",
    "with fabio.open(\"data/ID16B_diatomee.edf\") as image:\n",
    "\n",
    "    print(\"Nb frames: %d\" % image.nframes)\n",
    "\n",
    "    for frame in image.frames():\n",
    "\n",
    "        average = frame.data.mean()\n",
    "        \n",
    "        message = \"Frame ID: %d    Data average: %0.2f\"\n",
    "        print(message % (frame.index, average))"
   ]
  },
  {
   "cell_type": "markdown",
   "metadata": {
    "slideshow": {
     "slide_type": "slide"
    }
   },
   "source": [
    "## Read a file-series of EDF image\n",
    "\n",
    "A file-series is a set of files that have to be iterated, and which may contains many frames.\n",
    "\n",
    "`open_series` can be used:\n",
    "\n",
    "- http://www.silx.org/doc/fabio/latest/getting_started.html#fabio-file-series"
   ]
  },
  {
   "cell_type": "code",
   "execution_count": null,
   "metadata": {},
   "outputs": [],
   "source": [
    "import fabio\n",
    "\n",
    "with fabio.open_series(first_filename=\"data/ID19_D2H2T2_0000.edf\") as series:\n",
    "\n",
    "    print(\"Nb frames: %d\" % series.nframes)\n",
    "\n",
    "    for frame in series.frames():\n",
    "\n",
    "        average = frame.data.mean()\n",
    "\n",
    "        message = \"Filename: %s    Frame ID: %d    Data average: %0.2f\"\n",
    "        print(message % (frame.file_container.filename, frame.index, average))"
   ]
  },
  {
   "cell_type": "markdown",
   "metadata": {
    "slideshow": {
     "slide_type": "slide"
    }
   },
   "source": [
    "## Write an EDF file"
   ]
  },
  {
   "cell_type": "code",
   "execution_count": null,
   "metadata": {
    "slideshow": {
     "slide_type": "-"
    }
   },
   "outputs": [],
   "source": [
    "import numpy as np\n",
    "import fabio\n",
    "\n",
    "image = np.random.rand(10, 10)\n",
    "metadata = {'pixel_size': '0.2'}\n",
    "\n",
    "image = fabio.edfimage.EdfImage(data=image, header=metadata)\n",
    "image.write('edf_writing_example.edf')"
   ]
  },
  {
   "cell_type": "markdown",
   "metadata": {
    "slideshow": {
     "slide_type": "slide"
    }
   },
   "source": [
    "## Other formats using FabIO\n",
    "\n",
    "### Reading other formats\n",
    "\n",
    "FabIO supports image formats from most manufacturers: \n",
    "Mar, Rayonix, Bruker, Dectris, ADSC, Rigaku, Oxford, General Electric…"
   ]
  },
  {
   "cell_type": "code",
   "execution_count": null,
   "metadata": {},
   "outputs": [],
   "source": [
    "import fabio\n",
    "\n",
    "pilatus_image    = fabio.open('filename.cbf')\n",
    "marccd_image     = fabio.open('filename.mccd')\n",
    "\n",
    "tiff_image       = fabio.open('filename.tif')\n",
    "fit2d_mask_image = fabio.open('filename.msk')\n",
    "jpeg_image       = fabio.open('filename.jpg')"
   ]
  },
  {
   "cell_type": "markdown",
   "metadata": {
    "slideshow": {
     "slide_type": "slide"
    }
   },
   "source": [
    "# Module `silx.io`\n",
    "\n",
    "* Try to simplify the transition to HDF5\n",
    "    * h5py-like API\n",
    "    * Single way to access to Spec/EDF/HDF5 files\n",
    "    * Based on NeXus specifications http://www.nexusformat.org/\n",
    "* Read-only"
   ]
  },
  {
   "cell_type": "markdown",
   "metadata": {
    "slideshow": {
     "slide_type": "slide"
    }
   },
   "source": [
    "## General mapping from Spec file\n",
    "\n",
    "Silx can expose spec files with a HDF5-like mapping.\n",
    "\n",
    "![Mapping from Spec to HDF5](images/spech5_arrows.png \"hdf5-like mapping for spec files\")\n"
   ]
  },
  {
   "cell_type": "markdown",
   "metadata": {
    "slideshow": {
     "slide_type": "slide"
    }
   },
   "source": [
    "## General mapping from EDF image\n",
    "\n",
    "Silx can expose EDF files (or any support formats from `fabio`) with a HDF5-like mapping.\n",
    "\n",
    "![Mapping from EDF to HDF5](images/fabioh5_arrows.png \"hdf5-like mapping for EDF files\")\n"
   ]
  },
  {
   "cell_type": "markdown",
   "metadata": {
    "slideshow": {
     "slide_type": "slide"
    }
   },
   "source": [
    "## Display the mapping with tools\n",
    "\n",
    "* `silx view` a command line Qt program.\n",
    "* `silx.io.utils.h5ls`"
   ]
  },
  {
   "cell_type": "code",
   "execution_count": null,
   "metadata": {},
   "outputs": [],
   "source": [
    "import silx.io\n",
    "import silx.io.utils\n",
    "\n",
    "with silx.io.open('data/oleg.dat') as h5file:\n",
    "    string = silx.io.utils.h5ls(h5file)\n",
    "    print(string)"
   ]
  },
  {
   "cell_type": "markdown",
   "metadata": {
    "slideshow": {
     "slide_type": "slide"
    }
   },
   "source": [
    "## Read Spec file as HDF5"
   ]
  },
  {
   "cell_type": "code",
   "execution_count": null,
   "metadata": {
    "slideshow": {
     "slide_type": "-"
    }
   },
   "outputs": [],
   "source": [
    "import time\n",
    "import silx.io\n",
    "data = silx.io.open('data/oleg.dat')\n",
    "\n",
    "# Available scans\n",
    "print(\"First childs:\", data['/'].keys())\n",
    "\n",
    "# Available measurements from the scan 94.1\n",
    "print(\"Containt of measurement:\", data['/94.1/measurement'].keys())\n",
    "\n",
    "# Get data from measurement\n",
    "epoch = data['/94.1/measurement/Epoch']\n",
    "bpmi = data['/94.1/measurement/bpmi']\n",
    "for t, data in zip(epoch, bpmi):\n",
    "    t = time.strftime(\"%X\", time.gmtime(int(t)))\n",
    "    print(\"%s   BPMi: %0.4e\" % (t, data))"
   ]
  },
  {
   "cell_type": "markdown",
   "metadata": {
    "slideshow": {
     "slide_type": "-"
    }
   },
   "source": [
    "For more information and examples you can read the silx IO tutorial: https://github.com/silx-kit/silx-training/blob/main/silx/io/io.pdf"
   ]
  },
  {
   "cell_type": "markdown",
   "metadata": {
    "slideshow": {
     "slide_type": "slide"
    }
   },
   "source": [
    "## Read EDF image as HDF5"
   ]
  },
  {
   "cell_type": "code",
   "execution_count": null,
   "metadata": {
    "slideshow": {
     "slide_type": "-"
    }
   },
   "outputs": [],
   "source": [
    "import silx.io\n",
    "data = silx.io.open('data/ID16B_diatomee.edf')\n",
    "\n",
    "# Access to the frames\n",
    "frames = data['/scan_0/instrument/detector_0/data']\n",
    "len(frames)  # number of frames\n",
    "frames[0]    # first frame\n",
    "print(\"Number of frames:\", len(frames))\n",
    "print(\"Size of an image:\", frames[0].shape)\n",
    "\n",
    "# Access to motors, monitors, timestamp\n",
    "srot = data['scan_0/instrument/positioners/srot'][...]\n",
    "mon = data['scan_0/measurement/mon'][...]\n",
    "timestamp = data['scan_0/instrument/detector_0/others/time_of_day'][...]\n",
    "for t, s, m in zip(timestamp, srot, mon):\n",
    "    t = time.strftime(\"%X\", time.gmtime(t))\n",
    "    message = \"%s   Rot:% 5.1fdeg   Monitor: %0.2f\"\n",
    "    print(message % (t, s, m))"
   ]
  },
  {
   "cell_type": "markdown",
   "metadata": {
    "slideshow": {
     "slide_type": "slide"
    }
   },
   "source": [
    "## Read HDF5 using silx\n",
    "\n",
    "For convenience, ``silx`` also provides the h5py API for HDF5 files."
   ]
  },
  {
   "cell_type": "code",
   "execution_count": null,
   "metadata": {
    "slideshow": {
     "slide_type": "-"
    }
   },
   "outputs": [],
   "source": [
    "import silx.io\n",
    "h5file = silx.io.open('data/test.h5')\n",
    "\n",
    "# print available names at the first level\n",
    "print(\"First children:\", h5file['/'].keys())\n",
    "\n",
    "# reaching a dataset from a sub group\n",
    "dataset = h5file['/diff_map_0004/data/map']\n",
    "\n",
    "# using size and type do not read the full stored dataset\n",
    "print(\"Dataset:\", dataset.shape, dataset.size, dataset.dtype)\n",
    "\n",
    "h5file.close()"
   ]
  },
  {
   "cell_type": "markdown",
   "metadata": {
    "slideshow": {
     "slide_type": "slide"
    }
   },
   "source": [
    "# Exercice: Flat field correction\n",
    "\n",
    "Flat-field correction is a technique used to improve quality in digital imaging.\n",
    "\n",
    "The goal is to normalize images and remove artifacts caused by variations in the pixel-to-pixel sensitivity of the detector and/or by distortions in the optical path. (see https://en.wikipedia.org/wiki/Flat-field_correction)\n",
    "\n",
    "$$ normalized = \\frac{raw - dark}{flat - dark} $$\n",
    "\n",
    "* `normalized`: Image after flat field correction\n",
    "* `raw`: Raw image. It is acquired with the sample.\n",
    "* `flat`: Flat field image. It is the response given out by the detector for a uniform input signal. This image is acquired without the sample.\n",
    "* `dark`: Also named `background` or `dark current`. It is the response given out by the detector when there is no signal. This image is acquired without the beam."
   ]
  },
  {
   "cell_type": "markdown",
   "metadata": {
    "slideshow": {
     "slide_type": "slide"
    }
   },
   "source": [
    "# Exercice: Implementation with EDF files\n",
    "\n",
    "Here is a function implementing the flat field correction:"
   ]
  },
  {
   "cell_type": "code",
   "execution_count": null,
   "metadata": {},
   "outputs": [],
   "source": [
    "import numpy as np\n",
    "\n",
    "def flatfield_correction(raw, flat, dark):\n",
    "    \"\"\"\n",
    "    Apply a flat-field correction to a raw data using a flat and a dark.\n",
    "    \"\"\"\n",
    "    # Make sure that the computation is done using float\n",
    "    # to avoid type overflow or loss of precision\n",
    "    raw = raw.astype(np.float32)\n",
    "    flat = flat.astype(np.float32)\n",
    "    dark = dark.astype(np.float32)\n",
    "    # Do the computation\n",
    "    return (raw - dark) / (flat - dark)"
   ]
  },
  {
   "cell_type": "markdown",
   "metadata": {},
   "source": [
    "And a `matplotlib` function to display the data."
   ]
  },
  {
   "cell_type": "code",
   "execution_count": null,
   "metadata": {},
   "outputs": [],
   "source": [
    "def imshowmany(*args, **kwargs):\n",
    "    \"\"\"\n",
    "    Display all array provided as argument as images.\n",
    "    \n",
    "    The image title is defined by the argument name.\n",
    "    \"\"\"\n",
    "    from matplotlib import pyplot\n",
    "\n",
    "    if len(kwargs) == 0:\n",
    "        import collections\n",
    "        kwargs = collections.OrderedDict()\n",
    "    for i, arg in enumerate(args):\n",
    "        if isinstance(arg, dict):\n",
    "            kwargs.update(arg)\n",
    "        else:\n",
    "            kwargs[\"arg\" + i]\n",
    "\n",
    "    fig = pyplot.figure()\n",
    "    columns = 3\n",
    "    nbrows = len(kwargs) // columns + 1\n",
    "    nbcols = len(kwargs) // nbrows\n",
    "    for i, (key, value) in enumerate(kwargs.items()):\n",
    "        a = fig.add_subplot(nbrows, nbcols, i + 1)\n",
    "        imgplot = plt.imshow(value)\n",
    "        a.set_title(key)"
   ]
  },
  {
   "cell_type": "markdown",
   "metadata": {},
   "source": [
    "Here is an implementation of a flat field correction applied to a single EDF file.\n",
    "\n",
    "The sample is a diatom, an unicellular algae inserted into a needle."
   ]
  },
  {
   "cell_type": "code",
   "execution_count": null,
   "metadata": {
    "slideshow": {
     "slide_type": "slide"
    }
   },
   "outputs": [],
   "source": [
    "# Provides interactive display in the notebook\n",
    "%pylab notebook"
   ]
  },
  {
   "cell_type": "code",
   "execution_count": null,
   "metadata": {
    "slideshow": {
     "slide_type": "-"
    }
   },
   "outputs": [],
   "source": [
    "import fabio\n",
    "\n",
    "# Read the data\n",
    "\n",
    "with fabio.open(\"data/ID16_diatomee/dark.edf\") as image:\n",
    "    dark = image.data\n",
    "with fabio.open(\"data/ID16_diatomee/flat.edf\") as image:\n",
    "    flat = image.data\n",
    "with fabio.open(\"data/ID16_diatomee/data.edf\") as image:\n",
    "    raw = image.data\n",
    "\n",
    "# Compute the result\n",
    "\n",
    "normalized = flatfield_correction(raw, flat, dark)\n",
    "\n",
    "# Save the result\n",
    "\n",
    "image = fabio.edfimage.EdfImage(data=normalized)\n",
    "image.save(\"result.edf\")\n",
    "\n",
    "# Check the saved result\n",
    "\n",
    "with fabio.open(\"result.edf\") as image:\n",
    "    saved = image.data\n",
    "imshowmany(Before=raw, After=saved)"
   ]
  },
  {
   "cell_type": "markdown",
   "metadata": {
    "slideshow": {
     "slide_type": "slide"
    }
   },
   "source": [
    "# Conclusion\n",
    "\n",
    "Preconized libraries according to the use case and the file format.\n",
    "\n",
    "| Formats              | Read            | Write |\n",
    "|----------------------|-----------------|-------|\n",
    "| HDF5                 | silx/h5py       | h5py  |\n",
    "| Specfile             | silx            |       |\n",
    "| EDF                  | silx/fabio      | fabio |\n",
    "| Other raster formats | silx/fabio      | fabio |"
   ]
  }
 ],
 "metadata": {
  "celltoolbar": "Slideshow",
  "kernelspec": {
   "display_name": "Python 3 (ipykernel)",
   "language": "python",
   "name": "python3"
  },
  "language_info": {
   "codemirror_mode": {
    "name": "ipython",
    "version": 3
   },
   "file_extension": ".py",
   "mimetype": "text/x-python",
   "name": "python",
   "nbconvert_exporter": "python",
   "pygments_lexer": "ipython3",
   "version": "3.12.7"
  },
  "widgets": {
   "application/vnd.jupyter.widget-state+json": {
    "state": {},
    "version_major": 2,
    "version_minor": 0
   }
  }
 },
 "nbformat": 4,
 "nbformat_minor": 4
}
