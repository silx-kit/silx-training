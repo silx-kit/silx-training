{
 "cells": [
  {
   "cell_type": "markdown",
   "metadata": {
    "slideshow": {
     "slide_type": "slide"
    }
   },
   "source": [
    "##### Introduction to Python \n",
    "\n",
    "## Provided by the Data Analysis Unit team\n",
    "\n",
    "These slides can be found at:\n",
    "\n",
    "https://github.com/silx-kit/silx-training/blob/master/python/python/0_Introduction.ipynb"
   ]
  },
  {
   "cell_type": "markdown",
   "metadata": {
    "slideshow": {
     "slide_type": "subslide"
    }
   },
   "source": [
    "Mutual introduction of trainers and trainees:\n",
    "\n",
    "* Activities\n",
    "* Background in programming (C, Fortran, matlab ?)\n",
    "* Expectation for the day"
   ]
  },
  {
   "cell_type": "markdown",
   "metadata": {
    "slideshow": {
     "slide_type": "slide"
    }
   },
   "source": [
    "# Introducing Jupyter Notebook"
   ]
  },
  {
   "cell_type": "markdown",
   "metadata": {
    "slideshow": {
     "slide_type": "fragment"
    }
   },
   "source": [
    "Jupyter-notebook is a web interface for interactively programming in languages like JUlia, PYThon or R.  \n",
    "\n",
    "Jupyter is a set of tools originally developed to make it easier for scientists to work with Python and data. \n",
    "It allows you to combine interactive Python exploration with prewritten programs and even text and equations for documentation."
   ]
  },
  {
   "cell_type": "markdown",
   "metadata": {
    "slideshow": {
     "slide_type": "fragment"
    }
   },
   "source": [
    "Jupyter isn’t a different programming language, it’s just a set of computer programs for working with the Python language. However, there are other ways to work with Python which will be introduced later in this course.\n"
   ]
  },
  {
   "cell_type": "markdown",
   "metadata": {
    "slideshow": {
     "slide_type": "subslide"
    }
   },
   "source": [
    "## Notebook cells\n",
    "\n",
    "Within the notebook, each box is called a “cell” and can be used for entering Python code or writing comments.\n"
   ]
  },
  {
   "cell_type": "markdown",
   "metadata": {
    "slideshow": {
     "slide_type": "fragment"
    }
   },
   "source": [
    "For now I will ask you to clean up the content of all cells in this document by clicking:\n",
    "\n",
    "> \n",
    "> Cell -> All Output -> Clear\n",
    "> \n"
   ]
  },
  {
   "cell_type": "markdown",
   "metadata": {
    "slideshow": {
     "slide_type": "fragment"
    }
   },
   "source": [
    "Try typing something like `print(\"Hello World\")` into the cell. To run the code in the cell and see the output, click the Run button (play icon) on the toolbar, or type **Shift-Enter**:"
   ]
  },
  {
   "cell_type": "code",
   "execution_count": null,
   "metadata": {
    "slideshow": {
     "slide_type": "-"
    }
   },
   "outputs": [],
   "source": [
    "print(\"Hello world\")"
   ]
  },
  {
   "cell_type": "markdown",
   "metadata": {
    "slideshow": {
     "slide_type": "slide"
    }
   },
   "source": [
    "# Introduction to Python for data analysis"
   ]
  },
  {
   "cell_type": "markdown",
   "metadata": {
    "slideshow": {
     "slide_type": "subslide"
    }
   },
   "source": [
    "## Presentation of Python\n",
    "\n",
    "- Computer language invented by Guido van Rossum in 1989\n",
    "    - Guido acted as Python's \"Benevolent Dictator For Life\" until 2018\n",
    "    - Massively used at Dropbox & Google (former employers of Guido)\n"
   ]
  },
  {
   "cell_type": "markdown",
   "metadata": {
    "slideshow": {
     "slide_type": "fragment"
    }
   },
   "source": [
    "\n",
    "- Open source\n",
    "    - BSD-like license\n",
    "    - Means free for you\n",
    "    - Guaranteed to stay free\n"
   ]
  },
  {
   "cell_type": "markdown",
   "metadata": {
    "slideshow": {
     "slide_type": "fragment"
    }
   },
   "source": [
    "\n",
    "- Portable\n",
    "    - Runs on any computer you may have access to:\n",
    "        - Supercomputers\n",
    "        - Servers\n",
    "        - Desktop computers\n",
    "        - Smartphones\n",
    "        - Microcontrollers ([micropython](https://micropython.org/))"
   ]
  },
  {
   "cell_type": "markdown",
   "metadata": {
    "slideshow": {
     "slide_type": "fragment"
    }
   },
   "source": [
    "- Easily extendable: The ideal `glue` language.\n",
    "    - in C, Fortran, …\n",
    "    - Once compiled, can be as fast as C"
   ]
  },
  {
   "cell_type": "markdown",
   "metadata": {
    "slideshow": {
     "slide_type": "subslide"
    }
   },
   "source": [
    "## Examples of applications in Python"
   ]
  },
  {
   "cell_type": "markdown",
   "metadata": {
    "slideshow": {
     "slide_type": "fragment"
    }
   },
   "source": [
    "- Scientific programs:\n",
    "    - PyMol, Sage\n"
   ]
  },
  {
   "cell_type": "markdown",
   "metadata": {
    "slideshow": {
     "slide_type": "skip"
    }
   },
   "source": [
    "- Web frameworks:\n",
    "    - Django, Zope, Plone, …\n"
   ]
  },
  {
   "cell_type": "markdown",
   "metadata": {
    "slideshow": {
     "slide_type": "skip"
    }
   },
   "source": [
    "\n",
    "- Scripting in large application:\n",
    "    - Blender, gimp, …\n"
   ]
  },
  {
   "cell_type": "markdown",
   "metadata": {
    "slideshow": {
     "slide_type": "fragment"
    }
   },
   "source": [
    "\n",
    "- Graphical user interfaces & visualization:\n",
    "    - Bindings to gtk, Qt, Tcl/Tk, wxWidgets, …\n",
    "    - Libraries for visualization: matplotlib, VTK, bokeh, bqplot, …\n",
    "\n"
   ]
  },
  {
   "cell_type": "markdown",
   "metadata": {
    "slideshow": {
     "slide_type": "fragment"
    }
   },
   "source": [
    "- Scientific libraries:\n",
    "    - Numpy, scipy, various scientific kits like scikit-image, scikit-learn, scikit-cuda …\n",
    "    - Pandas, numba, numexpr, …\n"
   ]
  },
  {
   "cell_type": "markdown",
   "metadata": {
    "slideshow": {
     "slide_type": "fragment"
    }
   },
   "source": [
    "\n",
    "- More locally developed programs and libraries (ESRF driven):\n",
    "    - PyMca, PyHST, PyFAI, PyNX, FabIO, silx, bliss …\n"
   ]
  },
  {
   "cell_type": "markdown",
   "metadata": {
    "slideshow": {
     "slide_type": "slide"
    }
   },
   "source": [
    "## Why Python for data-analysis ?\n",
    "\n",
    "- Python can be learned in a couple of days\n",
    "- JuPyteR is ideal for prototyping\n",
    "- Free alternative to Matlab\n",
    "- It runs everywhere\n",
    "- Batteries are included\n",
    "- Excellent community support & local expertise\n",
    "- Can be extended into larger projects\n",
    "- Interfaces to low-level languages (for performances)\n",
    "\n",
    "![batteries are included](img/batteries_included.png \"Batteries included\")\n"
   ]
  },
  {
   "cell_type": "markdown",
   "metadata": {
    "slideshow": {
     "slide_type": "slide"
    }
   },
   "source": [
    "##  Play with the notebook as a simple calculator \n",
    "\n",
    "- What is the result of 4+7/2?"
   ]
  },
  {
   "cell_type": "code",
   "execution_count": null,
   "metadata": {
    "slideshow": {
     "slide_type": "fragment"
    }
   },
   "outputs": [],
   "source": [
    "4+7/2"
   ]
  },
  {
   "cell_type": "code",
   "execution_count": null,
   "metadata": {
    "slideshow": {
     "slide_type": "fragment"
    }
   },
   "outputs": [],
   "source": [
    "#Nota: \n",
    "# - the integer division is obtained from: //\n",
    "# - The division has priority over addition\n",
    "4+7//2"
   ]
  },
  {
   "cell_type": "markdown",
   "metadata": {
    "slideshow": {
     "slide_type": "subslide"
    }
   },
   "source": [
    "- What Python version is used? Where is the Python interpreter located on the machine?"
   ]
  },
  {
   "cell_type": "code",
   "execution_count": null,
   "metadata": {
    "slideshow": {
     "slide_type": "-"
    }
   },
   "outputs": [],
   "source": [
    "import sys\n",
    "print(sys.version)"
   ]
  },
  {
   "cell_type": "code",
   "execution_count": null,
   "metadata": {
    "slideshow": {
     "slide_type": "-"
    }
   },
   "outputs": [],
   "source": [
    "print(sys.executable)"
   ]
  },
  {
   "cell_type": "code",
   "execution_count": null,
   "metadata": {
    "slideshow": {
     "slide_type": "subslide"
    }
   },
   "outputs": [],
   "source": [
    "#Calculator example\n",
    "N = [1, 3, 4, 5, 7, 8]\n",
    "print('The sum of ∑_i∈N i*i =', sum( i**2 for i in N ) )"
   ]
  },
  {
   "cell_type": "markdown",
   "metadata": {
    "slideshow": {
     "slide_type": "fragment"
    }
   },
   "source": [
    "**Python uses 0-based indexing**"
   ]
  },
  {
   "cell_type": "code",
   "execution_count": null,
   "metadata": {
    "slideshow": {
     "slide_type": "fragment"
    }
   },
   "outputs": [],
   "source": [
    "N[0]"
   ]
  },
  {
   "cell_type": "markdown",
   "metadata": {
    "slideshow": {
     "slide_type": "slide"
    }
   },
   "source": [
    "## Getting help!\n",
    "\n",
    "Python has extensive **help** built in. You can execute `help()` for an overview or `help(x)` for any library, object or type `x` to get more information. For example: `help()`. Use `quit` to leave the help mode\n"
   ]
  },
  {
   "cell_type": "code",
   "execution_count": null,
   "metadata": {
    "slideshow": {
     "slide_type": "-"
    }
   },
   "outputs": [],
   "source": [
    "help(print)"
   ]
  },
  {
   "cell_type": "markdown",
   "metadata": {
    "slideshow": {
     "slide_type": "subslide"
    }
   },
   "source": [
    "Another option is to use the `?` after a function name like `print?`"
   ]
  },
  {
   "cell_type": "code",
   "execution_count": null,
   "metadata": {
    "slideshow": {
     "slide_type": "-"
    }
   },
   "outputs": [],
   "source": [
    "print?"
   ]
  },
  {
   "cell_type": "markdown",
   "metadata": {
    "slideshow": {
     "slide_type": "slide"
    }
   },
   "source": [
    " ## Variables & Values\n",
    "    \n",
    "A `name` that is used to denote something or a `value` is called a **variable**. In python, variables can be declared and values can be assigned to it as follows, using the **=** sign."
   ]
  },
  {
   "cell_type": "code",
   "execution_count": null,
   "metadata": {
    "slideshow": {
     "slide_type": "-"
    }
   },
   "outputs": [],
   "source": [
    "x = 2          # anything after a '#' is a comment\n",
    "y = 5\n",
    "xy = 'Hey'\n",
    "print(x+y, xy) # not really necessary as the last value in a bit of code is displayed by default"
   ]
  },
  {
   "cell_type": "markdown",
   "metadata": {
    "slideshow": {
     "slide_type": "subslide"
    }
   },
   "source": [
    " Multiple variables can be assigned with the same value:"
   ]
  },
  {
   "cell_type": "code",
   "execution_count": null,
   "metadata": {
    "slideshow": {
     "slide_type": "-"
    }
   },
   "outputs": [],
   "source": [
    "x = y = 1\n",
    "print(x, \"+\", y, \"=\", x+y )"
   ]
  },
  {
   "cell_type": "markdown",
   "metadata": {
    "slideshow": {
     "slide_type": "slide"
    }
   },
   "source": [
    " ## Comments\n",
    " \n",
    " In Python, comments can be single-line or multi-line. \n",
    " \n",
    " Single-line comments start with `#`, multi-line comments are enclosed by triple quotes (`\"\"\"` or `'''`)."
   ]
  },
  {
   "cell_type": "code",
   "execution_count": null,
   "metadata": {
    "slideshow": {
     "slide_type": "subslide"
    }
   },
   "outputs": [],
   "source": [
    "# Add five to x\n",
    "x = x + 5\n",
    "# The following line is commented and will not be executed\n",
    "# y = x / 0\n",
    "\"\"\"\n",
    "This is a multi-lines comments.\n",
    "It can serve to write longer explanations, or functions documentation\n",
    "(see later)\n",
    "\"\"\"\n",
    "y = x / 2"
   ]
  }
 ],
 "metadata": {
  "celltoolbar": "Diaporama",
  "kernelspec": {
   "display_name": "Python 3",
   "language": "python",
   "name": "python3"
  },
  "language_info": {
   "codemirror_mode": {
    "name": "ipython",
    "version": 3
   },
   "file_extension": ".py",
   "mimetype": "text/x-python",
   "name": "python",
   "nbconvert_exporter": "python",
   "pygments_lexer": "ipython3",
   "version": "3.7.6"
  }
 },
 "nbformat": 4,
 "nbformat_minor": 4
}
