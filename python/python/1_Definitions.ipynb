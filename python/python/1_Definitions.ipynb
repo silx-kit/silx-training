{
 "cells": [
  {
   "cell_type": "markdown",
   "metadata": {
    "slideshow": {
     "slide_type": "slide"
    }
   },
   "source": [
    "# Definitions of Python:\n",
    "\n",
    "1. Primitive types, basic operations\n",
    "2. Composed types: lists, tuples, dictionaries\n",
    "3. Everything is an object\n",
    "4. Control structures: blocks, branching, loops\n"
   ]
  },
  {
   "cell_type": "markdown",
   "metadata": {
    "slideshow": {
     "slide_type": "slide"
    }
   },
   "source": [
    "## Primitive types\n",
    "\n",
    "The basic types build into Python include:\n",
    "* `int`: variable length integers,\n",
    "* `float`: double precision floating point numbers, \n",
    "* `complex`: composed of two floats for *real* and *imag* part,  \n",
    "* `str`: unicode character strings,\n",
    "* `bool`: boolean which can be only True or False\n",
    "* `None`: actually `NoneType` but there is only one, equivalent of *NULL* or *nil*"
   ]
  },
  {
   "cell_type": "markdown",
   "metadata": {
    "slideshow": {
     "slide_type": "subslide"
    }
   },
   "source": [
    "Some examples of each:"
   ]
  },
  {
   "cell_type": "code",
   "execution_count": null,
   "metadata": {
    "slideshow": {
     "slide_type": "fragment"
    }
   },
   "outputs": [],
   "source": [
    "-1234567890   # an integer\n",
    "2.0           # a floating point number\n",
    "6.02e23       # a floating point number with scientific notation\n",
    "complex(1, 5)  # a complex\n",
    "True or False # the two possible boolean values\n",
    "'This is a string'\n",
    "\"It's another string\"\n",
    "print(\"\"\"Triple quotes (also with '''), allow strings to break over multiple lines.\n",
    "Alternatively \\n is a newline character (\\t for tab, \\\\ is a single backslash)\"\"\")"
   ]
  },
  {
   "cell_type": "code",
   "execution_count": null,
   "metadata": {
    "slideshow": {
     "slide_type": "subslide"
    }
   },
   "outputs": [],
   "source": [
    "print(complex(1, 5), 'or', 1 + 5j)"
   ]
  },
  {
   "cell_type": "markdown",
   "metadata": {
    "slideshow": {
     "slide_type": "slide"
    }
   },
   "source": [
    "### Primary operations\n",
    "\n",
    "| Symbol | Task Performed |\n",
    "|----|---|\n",
    "| +  | Addition |\n",
    "| -  | Subtraction |\n",
    "| *  | Multiplication |\n",
    "| /  | Floating point division |\n",
    "| // | Floor division |\n",
    "| %  | Modulus or rest |\n",
    "| ** or pow(a, b) | Power |\n",
    "| abs(a) | absolute value |\n",
    "| round(a) | Banker's rounding |\n"
   ]
  },
  {
   "cell_type": "markdown",
   "metadata": {
    "slideshow": {
     "slide_type": "slide"
    }
   },
   "source": [
    "Some examples:"
   ]
  },
  {
   "cell_type": "code",
   "execution_count": null,
   "metadata": {
    "slideshow": {
     "slide_type": "-"
    }
   },
   "outputs": [],
   "source": [
    "#divisions\n",
    "print(3 / 2, 3 // 2)"
   ]
  },
  {
   "cell_type": "code",
   "execution_count": null,
   "metadata": {},
   "outputs": [],
   "source": [
    "print(3. / 2, 3. // 2)"
   ]
  },
  {
   "cell_type": "code",
   "execution_count": null,
   "metadata": {
    "slideshow": {
     "slide_type": "fragment"
    }
   },
   "outputs": [],
   "source": [
    "#operation with complex\n",
    "print((5. + 4.0j - 3.5) * 2.1)"
   ]
  },
  {
   "cell_type": "markdown",
   "metadata": {
    "slideshow": {
     "slide_type": "slide"
    }
   },
   "source": [
    "Relational Operators\n",
    " \n",
    "| Symbol | Task Performed |\n",
    "|---|---|\n",
    "| == | True if it is equal |\n",
    "| != | True if not equal to |\n",
    "| < | less than |\n",
    "| > | greater than |\n",
    "| <= | less than or equal to |\n",
    "| >= | greater than or equal to |\n",
    "|&nbsp;|\n",
    "| not | negate a `bool` value |\n",
    "| is | True if both are the same |\n",
    "| and | True if both are True |\n",
    "| or | True if any are are True |\n",
    "| ^ | True if one or the other but not both are True |\n",
    "|&nbsp;|\n",
    "| ^ | bitwise xor operator in `int` |\n",
    "| &  | bitwise and operator in `int` |\n",
    "| \\| | bitwise or  operator in `int` |\n",
    "| >> | right shift bitwise operation on `int`|\n",
    "| << | left shift bitwise operation on `int` |\n",
    "| | |\n",
    "\n",
    "Note the difference between: `==` **equality test** AND `=`  **assignment**"
   ]
  },
  {
   "cell_type": "code",
   "execution_count": null,
   "metadata": {
    "slideshow": {
     "slide_type": "subslide"
    }
   },
   "outputs": [],
   "source": [
    "# grouping comparison\n",
    "print(1 >= 0.5 and (2 > 3 or 5 % 2 == 1))"
   ]
  },
  {
   "cell_type": "markdown",
   "metadata": {
    "slideshow": {
     "slide_type": "slide"
    }
   },
   "source": [
    "## Strings\n",
    "\n",
    "* Basic operations on strings: `+` or `*`\n",
    "* Formating using `%s` or `.format`\n",
    "* Slicing using the [start: stop: step]\n"
   ]
  },
  {
   "cell_type": "code",
   "execution_count": null,
   "metadata": {
    "slideshow": {
     "slide_type": "-"
    }
   },
   "outputs": [],
   "source": [
    "s = \"a is equal to\"\n",
    "a = 5\n",
    "print(s+str(a))\n",
    "print(s, a)"
   ]
  },
  {
   "cell_type": "code",
   "execution_count": null,
   "metadata": {
    "scrolled": true,
    "slideshow": {
     "slide_type": "-"
    }
   },
   "outputs": [],
   "source": [
    "#/!\\ \n",
    "s+a"
   ]
  },
  {
   "cell_type": "code",
   "execution_count": null,
   "metadata": {
    "slideshow": {
     "slide_type": "subslide"
    }
   },
   "outputs": [],
   "source": [
    "# String muliplied by int works!\n",
    "\"*--*\" * 5"
   ]
  },
  {
   "cell_type": "markdown",
   "metadata": {
    "slideshow": {
     "slide_type": "subslide"
    }
   },
   "source": [
    "### String formating\n",
    "\n",
    "- \"Old style\" [printf-style formatting](https://docs.python.org/3/library/stdtypes.html#printf-style-string-formatting) using `%`"
   ]
  },
  {
   "cell_type": "code",
   "execution_count": null,
   "metadata": {
    "slideshow": {
     "slide_type": "-"
    }
   },
   "outputs": [],
   "source": [
    "# %s will convert anything to a str. %i, %d, %f works like in C or spec.\n",
    "print(\"a is equal to %s\" % a)\n",
    "print(\"%s %05i\" % (s, a))"
   ]
  },
  {
   "cell_type": "markdown",
   "metadata": {
    "slideshow": {
     "slide_type": "subslide"
    }
   },
   "source": [
    "- \"New style\" [format syntax](https://docs.python.org/3/library/string.html#format-string-syntax) using `str.format`"
   ]
  },
  {
   "cell_type": "code",
   "execution_count": null,
   "metadata": {
    "slideshow": {
     "slide_type": "-"
    }
   },
   "outputs": [],
   "source": [
    "'{2} {1} {2} {0}'.format('a','b','c')"
   ]
  },
  {
   "cell_type": "code",
   "execution_count": null,
   "metadata": {
    "slideshow": {
     "slide_type": "fragment"
    }
   },
   "outputs": [],
   "source": [
    "'{0:.2} {1:.1%}'.format(0.3698, 9.6/100)"
   ]
  },
  {
   "cell_type": "markdown",
   "metadata": {
    "slideshow": {
     "slide_type": "subslide"
    }
   },
   "source": [
    "### String access and slicing\n",
    "\n",
    "* It works the same on \"sequence\": lists, tuples, arrays, ...\n",
    "* Access a single element with `[index]`"
   ]
  },
  {
   "cell_type": "code",
   "execution_count": null,
   "metadata": {
    "slideshow": {
     "slide_type": "-"
    }
   },
   "outputs": [],
   "source": [
    "letters = \"abcdefghijklmnopqrstuvwxyz\"\n",
    "print(letters)\n",
    "len(letters)"
   ]
  },
  {
   "cell_type": "code",
   "execution_count": null,
   "metadata": {
    "slideshow": {
     "slide_type": "fragment"
    }
   },
   "outputs": [],
   "source": [
    "# remind you that python is 0-based indexing\n",
    "print(letters[0], letters[4], letters[25])"
   ]
  },
  {
   "cell_type": "code",
   "execution_count": null,
   "metadata": {
    "slideshow": {
     "slide_type": "fragment"
    }
   },
   "outputs": [],
   "source": [
    "#/!\\\n",
    "letters[56]"
   ]
  },
  {
   "cell_type": "markdown",
   "metadata": {
    "slideshow": {
     "slide_type": "subslide"
    }
   },
   "source": [
    "* Extract a sub part of a string using `[start:stop:step]` → **slicing**."
   ]
  },
  {
   "cell_type": "code",
   "execution_count": null,
   "metadata": {
    "slideshow": {
     "slide_type": "-"
    }
   },
   "outputs": [],
   "source": [
    "#slicing from beginging\n",
    "letters[0:4]"
   ]
  },
  {
   "cell_type": "code",
   "execution_count": null,
   "metadata": {
    "slideshow": {
     "slide_type": "fragment"
    }
   },
   "outputs": [],
   "source": [
    "#from the end\n",
    "letters[-5:]"
   ]
  },
  {
   "cell_type": "code",
   "execution_count": null,
   "metadata": {
    "slideshow": {
     "slide_type": "fragment"
    }
   },
   "outputs": [],
   "source": [
    "# two by two using a stepsize of 2\n",
    "letters[::2]"
   ]
  },
  {
   "cell_type": "code",
   "execution_count": null,
   "metadata": {
    "slideshow": {
     "slide_type": "fragment"
    }
   },
   "outputs": [],
   "source": [
    "# inverted using a stepsize of -1:\n",
    "letters[-1::-1] "
   ]
  },
  {
   "cell_type": "code",
   "execution_count": null,
   "metadata": {
    "slideshow": {
     "slide_type": "subslide"
    }
   },
   "outputs": [],
   "source": [
    "#strings are not mutable!\n",
    "letters[2] = \"d\""
   ]
  },
  {
   "cell_type": "code",
   "execution_count": null,
   "metadata": {
    "slideshow": {
     "slide_type": "-"
    }
   },
   "outputs": [],
   "source": [
    "#ask for help!\n",
    "help(str)"
   ]
  },
  {
   "cell_type": "markdown",
   "metadata": {
    "slideshow": {
     "slide_type": "subslide"
    }
   },
   "source": [
    "### Useful string methods\n",
    "\n",
    "```python\n",
    "my_str = 'toto'\n",
    "```\n",
    "\n",
    "* `len(my_str)`: returns the length of the string\n",
    "* `my_str.find('to')`, `my_str.index('to')`: returns the starting index. Find returns ``-1`` if not found, index fails.\n",
    "* `my_str.replace(str1, str2)`: replaces `str1` with `str2` in string\n",
    "* `my_str.split()` splits the string in a list of words\n",
    "* `my_str.startswith(sub)`, `my_str.endswith(sub)`: returns `True` if the string `my_str` starts with `sub`-string\n",
    "* `my_str.isalnum()`, `my_str.isalpha()`, `my_str.isdigit()`: returns `True` if the chain is alphanumeric, only letter or only numbers\n",
    "* `my_str.strip()`, `my_str.rstrip()`, `lstrip()`: removes spaces at the extremities of the string (R and L variant for Right/Left)\n",
    "* `my_str.upper()`, `my_str.lower()`, `my_str.swapcase()`: converts to all upper-case, all lowercase, swap case\n"
   ]
  },
  {
   "cell_type": "markdown",
   "metadata": {
    "slideshow": {
     "slide_type": "slide"
    }
   },
   "source": [
    "## Composed types\n",
    "\n",
    "* Lists\n",
    "* Tuples\n",
    "* Dictionaries"
   ]
  },
  {
   "cell_type": "markdown",
   "metadata": {
    "slideshow": {
     "slide_type": "subslide"
    }
   },
   "source": [
    "## List\n",
    "\n",
    "Lists are defined using square brackets `[]` or the `list(iter)` and can contain any type of objects. \n",
    "They are mutable.\n"
   ]
  },
  {
   "cell_type": "code",
   "execution_count": null,
   "metadata": {
    "slideshow": {
     "slide_type": "-"
    }
   },
   "outputs": [],
   "source": [
    "print([1, 2, 3]) \n",
    "digits = list(range(10))\n",
    "print(digits)"
   ]
  },
  {
   "cell_type": "code",
   "execution_count": null,
   "metadata": {
    "slideshow": {
     "slide_type": "fragment"
    }
   },
   "outputs": [],
   "source": [
    "print(list(letters))\n",
    "print(digits + list(letters))\n",
    "\n",
    "#but\n",
    "digits + letters"
   ]
  },
  {
   "cell_type": "code",
   "execution_count": null,
   "metadata": {
    "slideshow": {
     "slide_type": "subslide"
    }
   },
   "outputs": [],
   "source": [
    "# lists can contain anything\n",
    "a = ['my string', True, 5+7]\n",
    "print(len(a))"
   ]
  },
  {
   "cell_type": "code",
   "execution_count": null,
   "metadata": {
    "slideshow": {
     "slide_type": "fragment"
    }
   },
   "outputs": [],
   "source": [
    "a.append(3.141592) \n",
    "print(a, len(a))"
   ]
  },
  {
   "cell_type": "code",
   "execution_count": null,
   "metadata": {
    "slideshow": {
     "slide_type": "fragment"
    }
   },
   "outputs": [],
   "source": [
    "list(range(5, 12, 2))"
   ]
  },
  {
   "cell_type": "markdown",
   "metadata": {
    "slideshow": {
     "slide_type": "subslide"
    }
   },
   "source": [
    "## Useful methods for lists\n",
    "\n",
    "```python\n",
    "lst = [1, 2, 3, 'a', 'b', 'c']\n",
    "```\n",
    "* `lst.append(a)`: adds *a* at the end of lst\n",
    "* `lst.insert(idx, a)`: inserts one element at a given index\n",
    "* `lst.index(a)`: finds first index containing a value\n",
    "* `lst.count(a)`: counts the number of occurences of *a* in the list \n",
    "* `lst.pop(idx)`: removes and returns one element by index\n",
    "* `lst.remove(obj)`: removes an element by value\n",
    "* `lst.sort()` and `lst.reverse()`: sorts and reverses the list **in place** (no return value, the original list is changed)\n",
    "\n",
    "**Warning**: this deletes the list: `lst = lst.sort()`\n"
   ]
  },
  {
   "cell_type": "code",
   "execution_count": null,
   "metadata": {
    "slideshow": {
     "slide_type": "subslide"
    }
   },
   "outputs": [],
   "source": [
    "lst = ['eggs', 'sausages']\n",
    "print(len(lst))\n",
    "lst.append(\"spam\")\n",
    "print(lst, len(lst))"
   ]
  },
  {
   "cell_type": "code",
   "execution_count": null,
   "metadata": {
    "slideshow": {
     "slide_type": "fragment"
    }
   },
   "outputs": [],
   "source": [
    "lst.insert(0, \"spam\")\n",
    "print(lst)"
   ]
  },
  {
   "cell_type": "code",
   "execution_count": null,
   "metadata": {
    "slideshow": {
     "slide_type": "fragment"
    }
   },
   "outputs": [],
   "source": [
    "print(lst.index(\"spam\"), lst.index(\"sausages\"))\n",
    "#but:\n",
    "lst.index(5)"
   ]
  },
  {
   "cell_type": "code",
   "execution_count": null,
   "metadata": {
    "slideshow": {
     "slide_type": "fragment"
    }
   },
   "outputs": [],
   "source": [
    "lst.count(\"spam\")"
   ]
  },
  {
   "cell_type": "code",
   "execution_count": null,
   "metadata": {
    "slideshow": {
     "slide_type": "fragment"
    }
   },
   "outputs": [],
   "source": [
    "print(lst.pop(), lst.pop(2))"
   ]
  },
  {
   "cell_type": "code",
   "execution_count": null,
   "metadata": {
    "slideshow": {
     "slide_type": "subslide"
    }
   },
   "outputs": [],
   "source": [
    "# lists are mutable:\n",
    "print(lst)\n",
    "lst[0] = 1\n",
    "print(lst)"
   ]
  },
  {
   "cell_type": "code",
   "execution_count": null,
   "metadata": {
    "slideshow": {
     "slide_type": "fragment"
    }
   },
   "outputs": [],
   "source": [
    "lst.remove(\"eggs\")\n",
    "print(lst)\n",
    "# but not twice:\n",
    "lst.remove(\"eggs\")"
   ]
  },
  {
   "cell_type": "code",
   "execution_count": null,
   "metadata": {
    "slideshow": {
     "slide_type": "fragment"
    }
   },
   "outputs": [],
   "source": [
    "# and always:\n",
    "help(list)"
   ]
  },
  {
   "cell_type": "markdown",
   "metadata": {
    "slideshow": {
     "slide_type": "slide"
    }
   },
   "source": [
    "## Tuple\n",
    "\n",
    "* Tuples are defined by the `tuple(iter)` or by a ``,`` separated list in parenthesis ``()`` \n",
    "* Tuples are like lists, but not mutable !\n"
   ]
  },
  {
   "cell_type": "code",
   "execution_count": null,
   "metadata": {
    "slideshow": {
     "slide_type": "-"
    }
   },
   "outputs": [],
   "source": [
    "mytuple = ('spam', 'eggs', 5, 3.141592, 'sausages')\n",
    "print(mytuple[0], mytuple[-1])"
   ]
  },
  {
   "cell_type": "code",
   "execution_count": null,
   "metadata": {
    "slideshow": {
     "slide_type": "fragment"
    }
   },
   "outputs": [],
   "source": [
    "# /!\\ tuples are not mutable\n",
    "mytuple[3] = \"ham\""
   ]
  },
  {
   "cell_type": "code",
   "execution_count": null,
   "metadata": {
    "slideshow": {
     "slide_type": "fragment"
    }
   },
   "outputs": [],
   "source": [
    "# Single element tuple: mind the comma\n",
    "t = 5,\n",
    "print(t)"
   ]
  },
  {
   "cell_type": "markdown",
   "metadata": {
    "slideshow": {
     "slide_type": "slide"
    }
   },
   "source": [
    "## List comprehension and generators\n",
    "\n",
    "Very *pythonic* and convenient way of creating lists or tuples from an iterator: \n",
    "\n",
    "` [ f(i) for i in iterable if condition(i) ]`\n",
    "\n",
    "The content of the `[]` is called a *generator*.\n",
    "A *generator* generates elements on demand, which is *fast* and *low-memory usage*. \n",
    "It is the base of the asynchronous programming used in Python3 (out of scope).\n",
    "\n",
    "It is an alternative to functional programming based on `lambda`,  `map` & `filter`:\n",
    "* less *pythonic*, harder to read, and not faster\n",
    "* `lambda`, `map` and `filter` are reserved keywords, they should not be used as variable names, especially not **lambda**.\n"
   ]
  },
  {
   "cell_type": "code",
   "execution_count": null,
   "metadata": {
    "slideshow": {
     "slide_type": "subslide"
    }
   },
   "outputs": [],
   "source": [
    "[2*x+1 for x in range(5)]"
   ]
  },
  {
   "cell_type": "code",
   "execution_count": null,
   "metadata": {
    "slideshow": {
     "slide_type": "fragment"
    }
   },
   "outputs": [],
   "source": [
    "tuple(x**(1/2.) for x in range(5))"
   ]
  },
  {
   "cell_type": "code",
   "execution_count": null,
   "metadata": {
    "slideshow": {
     "slide_type": "fragment"
    }
   },
   "outputs": [],
   "source": [
    "(x**(1/2.) for x in range(5))"
   ]
  },
  {
   "cell_type": "code",
   "execution_count": null,
   "metadata": {
    "slideshow": {
     "slide_type": "subslide"
    }
   },
   "outputs": [],
   "source": [
    "[x for x in range(10) if x**3 - 15*x**2 + 71*x == 105]"
   ]
  },
  {
   "cell_type": "code",
   "execution_count": null,
   "metadata": {
    "slideshow": {
     "slide_type": "fragment"
    }
   },
   "outputs": [],
   "source": [
    "print([l.upper() for l in letters])"
   ]
  },
  {
   "cell_type": "markdown",
   "metadata": {
    "slideshow": {
     "slide_type": "slide"
    }
   },
   "source": [
    "## Mapping Types: Dictionaries\n",
    "\n",
    "Dictionaries associate a key to a value using curly braces `{key1: value1, key2:value2}`: \n",
    "* Keys must be *hashable*, i.e. any object that is unmutable, also known as *hash table* in other languages\n",
    "* Dictionaries were not ordered before Python 3.7 (`OrderedDict` are)\n"
   ]
  },
  {
   "cell_type": "code",
   "execution_count": null,
   "metadata": {
    "slideshow": {
     "slide_type": "fragment"
    }
   },
   "outputs": [],
   "source": [
    "help(dict)"
   ]
  },
  {
   "cell_type": "code",
   "execution_count": null,
   "metadata": {
    "slideshow": {
     "slide_type": "subslide"
    }
   },
   "outputs": [],
   "source": [
    "periodic_table = {\n",
    "    \"H\": 1,\n",
    "    \"He\": 2,\n",
    "    \"Li\": 3,\n",
    "    \"Be\": 4,\n",
    "    \"B\": 5,\n",
    "    \"C\": 6,\n",
    "    \"N\": 7,\n",
    "    \"O\": 8,\n",
    "    \"F\": 9,\n",
    "    \"Ne\": 10,\n",
    "}\n",
    "    \n",
    "print(periodic_table)"
   ]
  },
  {
   "cell_type": "code",
   "execution_count": null,
   "metadata": {
    "slideshow": {
     "slide_type": "fragment"
    }
   },
   "outputs": [],
   "source": [
    "print(periodic_table['He'])"
   ]
  },
  {
   "cell_type": "code",
   "execution_count": null,
   "metadata": {
    "slideshow": {
     "slide_type": "fragment"
    }
   },
   "outputs": [],
   "source": [
    "print(periodic_table.keys())"
   ]
  },
  {
   "cell_type": "code",
   "execution_count": null,
   "metadata": {
    "slideshow": {
     "slide_type": "fragment"
    }
   },
   "outputs": [],
   "source": [
    "print(periodic_table.values())"
   ]
  },
  {
   "cell_type": "code",
   "execution_count": null,
   "metadata": {
    "slideshow": {
     "slide_type": "fragment"
    }
   },
   "outputs": [],
   "source": [
    "#search for a key in a dict:\n",
    "'F' in periodic_table"
   ]
  },
  {
   "cell_type": "code",
   "execution_count": null,
   "metadata": {
    "slideshow": {
     "slide_type": "fragment"
    }
   },
   "outputs": [],
   "source": [
    "len(periodic_table)"
   ]
  },
  {
   "cell_type": "code",
   "execution_count": null,
   "metadata": {
    "slideshow": {
     "slide_type": "subslide"
    }
   },
   "outputs": [],
   "source": [
    "print(periodic_table)"
   ]
  },
  {
   "cell_type": "code",
   "execution_count": null,
   "metadata": {
    "slideshow": {
     "slide_type": "fragment"
    }
   },
   "outputs": [],
   "source": [
    "periodic_table[\"Z\"] "
   ]
  },
  {
   "cell_type": "code",
   "execution_count": null,
   "metadata": {
    "slideshow": {
     "slide_type": "fragment"
    }
   },
   "outputs": [],
   "source": [
    "# With a fallback value:\n",
    "periodic_table.get(\"Z\", \"unknown element\")"
   ]
  },
  {
   "cell_type": "code",
   "execution_count": null,
   "metadata": {
    "slideshow": {
     "slide_type": "fragment"
    }
   },
   "outputs": [],
   "source": [
    "other = periodic_table.copy()\n",
    "k1 = other.pop('Li')\n",
    "print(periodic_table)\n",
    "print(other)\n"
   ]
  },
  {
   "cell_type": "markdown",
   "metadata": {
    "slideshow": {
     "slide_type": "slide"
    }
   },
   "source": [
    "## In Python, everything is object\n",
    "\n",
    "* In Python everything is object (inherits from ``object``)\n",
    "* Names are just labels, references, attached to an object\n",
    "* Memory is freed when the number of references drops to 0\n",
    "\n",
    "- `dir(obj)`: lists the attributes of an object\n",
    "- `help(obj)`: prints the help of the object\n",
    "- `type(obj)`: gets the type of an object\n",
    "- `id(obj)`: gets the memory adress of an object\n"
   ]
  },
  {
   "cell_type": "code",
   "execution_count": null,
   "metadata": {
    "slideshow": {
     "slide_type": "subslide"
    }
   },
   "outputs": [],
   "source": [
    "a = object()\n",
    "print(dir(a))"
   ]
  },
  {
   "cell_type": "code",
   "execution_count": null,
   "metadata": {
    "slideshow": {
     "slide_type": "fragment"
    }
   },
   "outputs": [],
   "source": [
    "print(type(True), type(a), id(a))"
   ]
  },
  {
   "cell_type": "code",
   "execution_count": null,
   "metadata": {
    "slideshow": {
     "slide_type": "fragment"
    }
   },
   "outputs": [],
   "source": [
    "b = 5\n",
    "c = 5\n",
    "print(id(b), id(c), id(b) == id(c), b is c)"
   ]
  },
  {
   "cell_type": "code",
   "execution_count": null,
   "metadata": {
    "slideshow": {
     "slide_type": "subslide"
    }
   },
   "outputs": [],
   "source": [
    "# == vs `is`\n",
    "a, b = 5, 5.0\n",
    "print(a == b)\n",
    "print(type(a), type(b))"
   ]
  },
  {
   "cell_type": "code",
   "execution_count": null,
   "metadata": {
    "slideshow": {
     "slide_type": "subslide"
    }
   },
   "outputs": [],
   "source": [
    "# int are unique\n",
    "print(a, bin(a), a is 0b0101)\n",
    "print(a == 5.0, a is 5.0)"
   ]
  },
  {
   "cell_type": "code",
   "execution_count": null,
   "metadata": {
    "slideshow": {
     "slide_type": "subslide"
    }
   },
   "outputs": [],
   "source": [
    "print(1 is None, None is None)"
   ]
  },
  {
   "cell_type": "markdown",
   "metadata": {
    "slideshow": {
     "slide_type": "subslide"
    }
   },
   "source": [
    "### Warning: in Python, everything is object ..."
   ]
  },
  {
   "cell_type": "code",
   "execution_count": null,
   "metadata": {
    "slideshow": {
     "slide_type": "fragment"
    }
   },
   "outputs": [],
   "source": [
    "list1 = [3, 2, 1]\n",
    "print(\"list1=\", list1)\n",
    "list2 = list1\n",
    "list2[1] = 10\n",
    "print(\"list2=\", list2)"
   ]
  },
  {
   "cell_type": "code",
   "execution_count": null,
   "metadata": {
    "slideshow": {
     "slide_type": "fragment"
    }
   },
   "outputs": [],
   "source": [
    "# Did you expect ?\n",
    "print(\"list1= \", list1)"
   ]
  },
  {
   "cell_type": "markdown",
   "metadata": {
    "slideshow": {
     "slide_type": "subslide"
    }
   },
   "source": [
    "![a=1](img/Python_memory_1.png \"a=1\")"
   ]
  },
  {
   "cell_type": "markdown",
   "metadata": {
    "slideshow": {
     "slide_type": "subslide"
    }
   },
   "source": [
    "![list1](img/Python_memory_2.png \"list11\")"
   ]
  },
  {
   "cell_type": "markdown",
   "metadata": {
    "slideshow": {
     "slide_type": "subslide"
    }
   },
   "source": [
    "![list1](img/Python_memory_3.png \"list2\")"
   ]
  },
  {
   "cell_type": "markdown",
   "metadata": {
    "slideshow": {
     "slide_type": "subslide"
    }
   },
   "source": [
    "![mutate](img/Python_memory_4.png \"Mutate list2\")"
   ]
  },
  {
   "cell_type": "markdown",
   "metadata": {
    "slideshow": {
     "slide_type": "subslide"
    }
   },
   "source": [
    "![a=1](img/Python_memory_5.png \"a=1\")"
   ]
  },
  {
   "cell_type": "markdown",
   "metadata": {
    "slideshow": {
     "slide_type": "subslide"
    }
   },
   "source": [
    "![copy](img/Python_memory_6.png \"copy\")"
   ]
  },
  {
   "cell_type": "code",
   "execution_count": null,
   "metadata": {
    "slideshow": {
     "slide_type": "subslide"
    }
   },
   "outputs": [],
   "source": [
    "print(\"indeed: id(list1)=\", id(list1),\" and id(list2):\", id(list2), \"so list2 is list1:\", list2 is list1)"
   ]
  },
  {
   "cell_type": "code",
   "execution_count": null,
   "metadata": {
    "slideshow": {
     "slide_type": "fragment"
    }
   },
   "outputs": [],
   "source": [
    "#How to avoid this: make copies of mutable objects:\n",
    "list1 = [3, 2, 1]\n",
    "print(\"list1=\", list1)\n",
    "list3 = list1 [:] # copy the content !\n",
    "list3[1] = 10\n",
    "print(\"As expected: list3= \", list3)\n",
    "print(\"And now:     list1= \", list1)"
   ]
  },
  {
   "cell_type": "markdown",
   "metadata": {
    "slideshow": {
     "slide_type": "fragment"
    }
   },
   "source": [
    "**Warning:** This is very error prone when manipulating **any** mutable objects."
   ]
  },
  {
   "cell_type": "code",
   "execution_count": null,
   "metadata": {
    "slideshow": {
     "slide_type": "fragment"
    }
   },
   "outputs": [],
   "source": [
    "# Generic solution: use the copy module\n",
    "import copy\n",
    "list3 = copy.copy(list1)  # same, more explicit\n",
    "print(id(list1) == id(list3))"
   ]
  },
  {
   "cell_type": "markdown",
   "metadata": {
    "slideshow": {
     "slide_type": "slide"
    }
   },
   "source": [
    "## Control structures: blocks\n",
    "\n",
    "### Code structure\n",
    "\n",
    "\n",
    "Python uses a colon `:` at the end of the line and 4 white-spaces indentation\n",
    "to establish code block structure.\n",
    "\n",
    "Many other programming languages use braces { }, not python.\n",
    "\n",
    "\n"
   ]
  },
  {
   "cell_type": "markdown",
   "metadata": {
    "slideshow": {
     "slide_type": "subslide"
    }
   },
   "source": [
    "```\n",
    "    Block 1\n",
    "    ...\n",
    "    Header making new block:\n",
    "        Block 2\n",
    "        ...\n",
    "        Header making new block:\n",
    "            Block 3\n",
    "            ...\n",
    "        Block 2 (continuation)\n",
    "        ...\n",
    "    Block 1 continuation\n",
    "    ...\n",
    "```\n",
    "\n",
    "- Clearly indicates the beginning of a block.\n",
    "- Coding style is mostly uniform. Use **4 spaces**, never **< tabs >**.\n",
    "- Code structure is much more readable and clearer.\n",
    "\n"
   ]
  },
  {
   "cell_type": "markdown",
   "metadata": {
    "slideshow": {
     "slide_type": "subslide"
    }
   },
   "source": [
    "### Branching\n",
    "    \n",
    "- Condition branchings are made with `if elif else` statements\n",
    "- Can have many ``elif``'s (not recommended)\n",
    "- Can be nested (too much nesting is bad for readability)\n",
    "\n",
    "Example for solving a second order polynomial root:"
   ]
  },
  {
   "cell_type": "code",
   "execution_count": null,
   "metadata": {
    "slideshow": {
     "slide_type": "fragment"
    }
   },
   "outputs": [],
   "source": [
    "a = -1\n",
    "b = 2\n",
    "c = 1\n",
    "q2 = b * b - 4.0 * a * c\n",
    "print(\"Determinant is \", q2)"
   ]
  },
  {
   "cell_type": "code",
   "execution_count": null,
   "metadata": {},
   "outputs": [],
   "source": [
    "import math\n",
    "if q2 < 0:\n",
    "    print(\"No real solution\")\n",
    "elif q2 > 0:\n",
    "    x1 = (-b + math.sqrt(q2)) / (2.0 * a)\n",
    "    x2 = (-b - math.sqrt(q2)) / (2.0 * a)\n",
    "    print(\"Two solutions %.2f and %.2f\" % (x1, x2))\n",
    "else:\n",
    "    x = -b / (2.0 * a)\n",
    "    print(\"One solution: %.2f\" % x)\n"
   ]
  },
  {
   "cell_type": "markdown",
   "metadata": {
    "slideshow": {
     "slide_type": "subslide"
    }
   },
   "source": [
    "### For loop\n",
    "\n",
    "- iterate over a sequence (list, tuple, char in string, keys in dict, any iterator)\n",
    "- no indexes, uses directly the object in the sequence\n",
    "- when the index is really needed, use `enumerate`\n",
    "- One can use multiple sequences in parallel using `zip`"
   ]
  },
  {
   "cell_type": "code",
   "execution_count": null,
   "metadata": {
    "slideshow": {
     "slide_type": "fragment"
    }
   },
   "outputs": [],
   "source": [
    "ingredients = [\"spam\", \"eggs\", \"ham\", \"spam\", \"sausages\"]\n",
    "for food in ingredients:\n",
    "     print(\"I like %s\" % food)"
   ]
  },
  {
   "cell_type": "code",
   "execution_count": null,
   "metadata": {
    "slideshow": {
     "slide_type": "fragment"
    }
   },
   "outputs": [],
   "source": [
    "for idx, food in enumerate(ingredients[-1::-1]):\n",
    "    print(\"%s is number %d in my top 5 of foods\" % (food, len(ingredients)- idx))"
   ]
  },
  {
   "cell_type": "code",
   "execution_count": null,
   "metadata": {
    "slideshow": {
     "slide_type": "subslide"
    }
   },
   "outputs": [],
   "source": [
    "subjects = [\"Roses\", \"Violets\", \"Sugar\"]\n",
    "verbs = [\"are\", \"are\", \"is\"]\n",
    "adjectives = [\"red,\", \"blue,\", \"sweet.\"] \n",
    "for s, v, a in zip(subjects, verbs, adjectives):\n",
    "    print(\"%s %s %s\" % (s, v, a))"
   ]
  },
  {
   "cell_type": "markdown",
   "metadata": {
    "slideshow": {
     "slide_type": "subslide"
    }
   },
   "source": [
    "### While loop\n",
    "\n",
    "- Iterate while a condition is fulfilled\n",
    "- Make sure the condition becomes unfulfilled, else it could result in infinite loops ...\n"
   ]
  },
  {
   "cell_type": "code",
   "execution_count": null,
   "metadata": {
    "slideshow": {
     "slide_type": "fragment"
    }
   },
   "outputs": [],
   "source": [
    "a, b = 175, 3650\n",
    "stop = False\n",
    "possible_divisor = max(a, b) // 2\n",
    "while possible_divisor >= 1 and not stop:\n",
    "    if a % possible_divisor == 0 and b % possible_divisor == 0:\n",
    "        print(\"Found greatest common divisor: %d\" % possible_divisor)\n",
    "        stop = True\n",
    "    possible_divisor = possible_divisor - 1  \n"
   ]
  },
  {
   "cell_type": "code",
   "execution_count": null,
   "metadata": {
    "slideshow": {
     "slide_type": "fragment"
    }
   },
   "outputs": [],
   "source": [
    "while True: \n",
    "    print(\"I will print this forever\")\n",
    "    \n",
    "# Now you are ready to interrupt the kernel !\n",
    "#go in the menu and click kernel-> interrput\n"
   ]
  },
  {
   "cell_type": "markdown",
   "metadata": {
    "slideshow": {
     "slide_type": "subslide"
    }
   },
   "source": [
    "### Useful commands in loops\n",
    "\n",
    "- `continue`: go directly to the next iteration of the most inner loop\n",
    "- `break`: quit the most inner loop\n",
    "- `pass`: a block cannot be empty; ``pass`` is a command that does nothing\n",
    "- `else`: block executed after the normal exit of the loop.\n"
   ]
  },
  {
   "cell_type": "code",
   "execution_count": null,
   "metadata": {
    "slideshow": {
     "slide_type": "fragment"
    }
   },
   "outputs": [],
   "source": [
    "for i in range(10):\n",
    "    if not i % 7 == 0:\n",
    "        print(\"%d is *not* a multiple of 7\" % i)\n",
    "        continue\n",
    "    print(\"%d is a multiple of 7\" % i)"
   ]
  },
  {
   "cell_type": "code",
   "execution_count": null,
   "metadata": {
    "slideshow": {
     "slide_type": "subslide"
    }
   },
   "outputs": [],
   "source": [
    "n = 112\n",
    "# divide n by 2 until this does no longer return an integer\n",
    "while True:\n",
    "    if n % 2 != 0:\n",
    "        print(\"%d is not a multiple of 2\" % n)\n",
    "        break\n",
    "    print(\"%d is a multiple of 2\" % n)\n",
    "    n = n // 2\n"
   ]
  },
  {
   "cell_type": "markdown",
   "metadata": {
    "slideshow": {
     "slide_type": "slide"
    }
   },
   "source": [
    "### Exercise: Fibonacci series\n",
    "\n",
    "\n",
    "- Fibonacci:\n",
    "    - Each element is the sum of the previous two elements\n",
    "    - The first two elements are 0 and 1\n",
    "\n",
    "- Calculate all elements in this series up to 1000, put them in a list, then print the list.\n",
    "\n",
    "``[0, 1, 1, 2, 3, 5, 8, 13, 21, 34, 55, 89, 144, 233, 377, 610, 987]``\n",
    "\n",
    "prepend the cell with `%%timeit` to measure the execution time"
   ]
  },
  {
   "cell_type": "code",
   "execution_count": null,
   "metadata": {
    "slideshow": {
     "slide_type": "subslide"
    }
   },
   "outputs": [],
   "source": [
    "# One possible solution\n",
    "res = [0, 1]\n",
    "next_el = 1\n",
    "while next_el < 1000: \n",
    "    res.append(next_el)\n",
    "    next_el = res[-2] + res[-1]\n",
    "print(res)"
   ]
  },
  {
   "cell_type": "code",
   "execution_count": null,
   "metadata": {},
   "outputs": [],
   "source": []
  }
 ],
 "metadata": {
  "celltoolbar": "Diaporama",
  "kernelspec": {
   "display_name": "Python 3",
   "language": "python",
   "name": "python3"
  },
  "language_info": {
   "codemirror_mode": {
    "name": "ipython",
    "version": 3
   },
   "file_extension": ".py",
   "mimetype": "text/x-python",
   "name": "python",
   "nbconvert_exporter": "python",
   "pygments_lexer": "ipython3",
   "version": "3.7.6"
  }
 },
 "nbformat": 4,
 "nbformat_minor": 4
}
