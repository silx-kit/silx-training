{
 "cells": [
  {
   "cell_type": "markdown",
   "metadata": {
    "slideshow": {
     "slide_type": "slide"
    },
    "tags": []
   },
   "source": [
    "# Introduction to NumPy\n",
    "\n",
    "* What is numpy ?\n",
    "* Why do we need NumPy?\n",
    "* NumPy overview\n",
    "* The NumPy array\n",
    "    * Creation\n",
    "    * Save and load\n",
    "    * Manipulation\n",
    "    * Indexing\n",
    "    * Copy vs view\n",
    "* NumPy modules"
   ]
  },
  {
   "cell_type": "markdown",
   "metadata": {
    "slideshow": {
     "slide_type": "slide"
    },
    "tags": []
   },
   "source": [
    "# What is numpy ?\n",
    "\n",
    "* NumPy (Numerical Python) is a fundamental library for scientific computing in Python.\n",
    "* It provides support for (multi dimensional)arrays and many mathematical functions."
   ]
  },
  {
   "cell_type": "markdown",
   "metadata": {
    "slideshow": {
     "slide_type": "subslide"
    },
    "tags": []
   },
   "source": [
    "# Why do we need NumPy?"
   ]
  },
  {
   "cell_type": "markdown",
   "metadata": {
    "slideshow": {
     "slide_type": "fragment"
    },
    "tags": []
   },
   "source": [
    "## Python basic types\n",
    "\n",
    "* Numbers: ``10, 10.0, 1.0e+01, (10.0+3j)``\n",
    "* Strings: ``\"Hello world\"``\n",
    "* Bytes: ``b\"Hello world\"``\n",
    "* Lists: ``[\"abc\", 3, \"x\"]``\n",
    "* Tuples: ``(\"abc\", 3, \"x\")``\n",
    "* Dictionnaries: ``{\"key1\": \"abc\", \"key2\": 3, \"key3\": \"x\"}``"
   ]
  },
  {
   "cell_type": "markdown",
   "metadata": {
    "slideshow": {
     "slide_type": "fragment"
    }
   },
   "source": [
    "## Python basic operators\n",
    "\n",
    "* `+`: Addition\n",
    "* `-`: Substraction\n",
    "* `*`: Multiplication\n",
    "* `/`: Division\n",
    "* `**`: Exponentiation\n",
    "* ``abs(x)``: Absolute value of x\n",
    "* `x % y`: Remainder of x divided by y\n",
    "* `x // y`: Quotient of the x divided by y"
   ]
  },
  {
   "cell_type": "markdown",
   "metadata": {
    "slideshow": {
     "slide_type": "subslide"
    },
    "tags": []
   },
   "source": [
    "## Operations on basic Python types"
   ]
  },
  {
   "cell_type": "code",
   "execution_count": null,
   "metadata": {
    "slideshow": {
     "slide_type": "fragment"
    },
    "tags": []
   },
   "outputs": [],
   "source": [
    "# Let a be a list\n",
    "a = [1, 2, 3]\n",
    "print(a)"
   ]
  },
  {
   "cell_type": "code",
   "execution_count": null,
   "metadata": {
    "slideshow": {
     "slide_type": "fragment"
    },
    "tags": []
   },
   "outputs": [],
   "source": [
    "# What is the results of\n",
    "2 * a[2]"
   ]
  },
  {
   "cell_type": "code",
   "execution_count": null,
   "metadata": {
    "slideshow": {
     "slide_type": "fragment"
    },
    "tags": []
   },
   "outputs": [],
   "source": [
    "# and\n",
    "2 * a\n",
    "# is [2, 4, 6] the expected result?\n",
    "\n",
    "# You can try other combinations of operations and data types."
   ]
  },
  {
   "cell_type": "markdown",
   "metadata": {
    "slideshow": {
     "slide_type": "fragment"
    }
   },
   "source": [
    "Without additional libraries Python is almost useless for scientific computing."
   ]
  },
  {
   "cell_type": "markdown",
   "metadata": {
    "slideshow": {
     "slide_type": "subslide"
    },
    "tags": []
   },
   "source": [
    "## Scientist's Swiss Army knife\n",
    "\n",
    "- Numpy provides support for large, multi-dimensional arrays and matrices.\n",
    "- Matplotlib provides support for high quality visualizations.\n",
    "- SciPy provides additional scientific capabilities."
   ]
  },
  {
   "cell_type": "markdown",
   "metadata": {
    "slideshow": {
     "slide_type": "slide"
    },
    "tags": []
   },
   "source": [
    "# NumPy overview\n",
    "\n",
    "NumPy is **the** library providing number crunching capabilities to Python, and enhances Python with tools for:\n",
    "\n",
    "* treatment of multi-dimensional data\n",
    "* access to optimized linear algebra libraries\n",
    "* encapsulation of C and Fortran code"
   ]
  },
  {
   "cell_type": "markdown",
   "metadata": {
    "slideshow": {
     "skip": false,
     "slide_type": ""
    },
    "tags": []
   },
   "source": [
    "## Installation\n",
    "\n",
    "```bash\n",
    "pip install numpy\n",
    "```"
   ]
  },
  {
   "cell_type": "code",
   "execution_count": null,
   "metadata": {
    "slideshow": {
     "slide_type": "fragment"
    },
    "tags": []
   },
   "outputs": [],
   "source": [
    "import numpy as np"
   ]
  },
  {
   "cell_type": "markdown",
   "metadata": {
    "slideshow": {
     "slide_type": "skip"
    },
    "tags": []
   },
   "source": [
    "## numpy v2\n",
    "\n",
    "numpy is now at version 2. If necessary you can have a look at the [migration guide](https://numpy.org/devdocs/numpy_2_0_migration_guide.html)\n",
    "\n",
    "This tutorial targets numpy v2. But remains valid for numpy v1."
   ]
  },
  {
   "cell_type": "code",
   "execution_count": null,
   "metadata": {
    "slideshow": {
     "slide_type": "skip"
    },
    "tags": []
   },
   "outputs": [],
   "source": [
    "np.__version__"
   ]
  },
  {
   "cell_type": "markdown",
   "metadata": {
    "slideshow": {
     "slide_type": "slide"
    },
    "tags": []
   },
   "source": [
    "# The NumPy array\n",
    "\n",
    "The ``np.ndarray`` object is:\n",
    "\n",
    "* a collection of elements of the same type\n",
    "* multidimensional with flexible indexing\n",
    "* handled as any other Python object\n",
    "* implemented in memory as a true table optimized for performance\n",
    "    \n",
    "It can be interfaced with other languages."
   ]
  },
  {
   "cell_type": "markdown",
   "metadata": {
    "slideshow": {
     "slide_type": "subslide"
    },
    "tags": []
   },
   "source": [
    "## Array creation"
   ]
  },
  {
   "cell_type": "code",
   "execution_count": null,
   "metadata": {
    "slideshow": {
     "slide_type": "fragment"
    },
    "tags": []
   },
   "outputs": [],
   "source": [
    "# Create an array from a list of values.\n",
    "a = np.array([1, 2, 3, 5, 7, 11, 13, 17])\n",
    "a"
   ]
  },
  {
   "cell_type": "code",
   "execution_count": null,
   "metadata": {
    "slideshow": {
     "slide_type": "fragment"
    },
    "tags": []
   },
   "outputs": [],
   "source": [
    "# Create an array from a list of values and dimensions.\n",
    "b = np.array([[1, 2, 3], [4, 5, 6]])\n",
    "b"
   ]
  },
  {
   "cell_type": "code",
   "execution_count": null,
   "metadata": {
    "slideshow": {
     "slide_type": "fragment"
    },
    "tags": []
   },
   "outputs": [],
   "source": [
    "?np.array"
   ]
  },
  {
   "cell_type": "markdown",
   "metadata": {
    "slideshow": {
     "slide_type": "subslide"
    },
    "tags": []
   },
   "source": [
    "## Array creation with dedicated methods\n",
    "Documentation: https://docs.scipy.org/doc/numpy/reference/routines.array-creation.html"
   ]
  },
  {
   "cell_type": "code",
   "execution_count": null,
   "metadata": {
    "slideshow": {
     "slide_type": "fragment"
    },
    "tags": []
   },
   "outputs": [],
   "source": [
    "np.empty((2, 4))"
   ]
  },
  {
   "cell_type": "code",
   "execution_count": null,
   "metadata": {
    "slideshow": {
     "slide_type": "fragment"
    },
    "tags": []
   },
   "outputs": [],
   "source": [
    "np.zeros((1, 3))"
   ]
  },
  {
   "cell_type": "code",
   "execution_count": null,
   "metadata": {
    "slideshow": {
     "slide_type": "fragment"
    },
    "tags": []
   },
   "outputs": [],
   "source": [
    "np.ones((2, 2, 3))"
   ]
  },
  {
   "cell_type": "code",
   "execution_count": null,
   "metadata": {
    "slideshow": {
     "slide_type": "fragment"
    },
    "tags": []
   },
   "outputs": [],
   "source": [
    "np.arange(start=0, stop=10, step=1)"
   ]
  },
  {
   "cell_type": "code",
   "execution_count": null,
   "metadata": {
    "slideshow": {
     "slide_type": "fragment"
    },
    "tags": []
   },
   "outputs": [],
   "source": [
    "np.linspace(start=0, stop=10, num=11)"
   ]
  },
  {
   "cell_type": "code",
   "execution_count": null,
   "metadata": {
    "slideshow": {
     "slide_type": "fragment"
    },
    "tags": []
   },
   "outputs": [],
   "source": [
    "np.identity(2)"
   ]
  },
  {
   "cell_type": "markdown",
   "metadata": {
    "slideshow": {
     "slide_type": "subslide"
    },
    "tags": []
   },
   "source": [
    "## Array access"
   ]
  },
  {
   "cell_type": "code",
   "execution_count": null,
   "metadata": {
    "slideshow": {
     "slide_type": "fragment"
    },
    "tags": []
   },
   "outputs": [],
   "source": [
    "a = np.array([1, 2, 3, 5, 7, 11, 13, 17])\n",
    "# Access the first element\n",
    "print(a[0])"
   ]
  },
  {
   "cell_type": "code",
   "execution_count": null,
   "metadata": {
    "slideshow": {
     "slide_type": "fragment"
    },
    "tags": []
   },
   "outputs": [],
   "source": [
    "# Access the second element\n",
    "print(a[1])"
   ]
  },
  {
   "cell_type": "code",
   "execution_count": null,
   "metadata": {
    "slideshow": {
     "slide_type": "fragment"
    },
    "tags": []
   },
   "outputs": [],
   "source": [
    "b = np.array([[1, 2, 3], [4, 5, 6]])\n",
    "# Access first-dimension elements (first row here).\n",
    "print(b[0])"
   ]
  },
  {
   "cell_type": "code",
   "execution_count": null,
   "metadata": {
    "slideshow": {
     "slide_type": "fragment"
    },
    "tags": []
   },
   "outputs": [],
   "source": [
    "# Access the second element (column) of the first row.\n",
    "print(b[0, 1])"
   ]
  },
  {
   "cell_type": "markdown",
   "metadata": {
    "slideshow": {
     "slide_type": "subslide"
    },
    "tags": []
   },
   "source": [
    "## Exercise\n",
    "\n",
    "Use Python as a simple calculator and try the basic operations on Python lists and NumPy arrays."
   ]
  },
  {
   "cell_type": "code",
   "execution_count": null,
   "metadata": {
    "slideshow": {
     "slide_type": "fragment"
    },
    "tags": []
   },
   "outputs": [],
   "source": [
    "a = [1, 2, 3]\n",
    "b = np.array(a)"
   ]
  },
  {
   "cell_type": "code",
   "execution_count": null,
   "metadata": {
    "slideshow": {
     "slide_type": "fragment"
    },
    "tags": []
   },
   "outputs": [],
   "source": [
    "# Python list\n",
    "print(\"2 * a[2] =\", 2 * a[2])\n",
    "print(\"2 * a =\", 2 * a)"
   ]
  },
  {
   "cell_type": "code",
   "execution_count": null,
   "metadata": {
    "slideshow": {
     "slide_type": "fragment"
    },
    "tags": []
   },
   "outputs": [],
   "source": [
    "# NumPy array\n",
    "print(\"2 * b[2] =\", 2 * b[2])\n",
    "print(\"2 * b =\", 2 * b)"
   ]
  },
  {
   "cell_type": "markdown",
   "metadata": {
    "slideshow": {
     "slide_type": "slide"
    },
    "tags": []
   },
   "source": [
    "## Types of elements\n",
    "\n",
    "* Integers and real numbers with different precision\n",
    "* Complex numbers\n",
    "* Chains of characters\n",
    "* Any Python object\n",
    "\n",
    "The element type can be specified using the ``dtype`` argument."
   ]
  },
  {
   "cell_type": "code",
   "execution_count": null,
   "metadata": {
    "slideshow": {
     "slide_type": "fragment"
    },
    "tags": []
   },
   "outputs": [],
   "source": [
    "np.zeros((1, 3), dtype=int)"
   ]
  },
  {
   "cell_type": "code",
   "execution_count": null,
   "metadata": {
    "slideshow": {
     "slide_type": "fragment"
    }
   },
   "outputs": [],
   "source": [
    "np.arange(3, dtype=np.float64)"
   ]
  },
  {
   "cell_type": "code",
   "execution_count": null,
   "metadata": {
    "slideshow": {
     "slide_type": "fragment"
    },
    "tags": []
   },
   "outputs": [],
   "source": [
    "a = dict({\"key1\": 0})\n",
    "b = [1, 2, 3]\n",
    "c = \"element\"\n",
    "np.array([a, b, c], dtype=object)"
   ]
  },
  {
   "cell_type": "markdown",
   "metadata": {
    "slideshow": {
     "slide_type": "subslide"
    },
    "tags": []
   },
   "source": [
    "https://numpy.org/doc/stable/reference/arrays.scalars.html#sized-aliases\n",
    "\n",
    "* Integers: ``np.int32``, ``np.int64``, ``np.uint8`` ...\n",
    "* Real numbers: ``np.float32``, ``np.float64`` ...\n",
    "* Complex: ``np.complex64``, ``np.complex128``"
   ]
  },
  {
   "cell_type": "code",
   "execution_count": null,
   "metadata": {
    "slideshow": {
     "slide_type": "fragment"
    },
    "tags": []
   },
   "outputs": [],
   "source": [
    "a = np.arange(10, dtype=np.float32)\n",
    "print(f\"The size of the array is {a.size * a.itemsize} bytes.\")"
   ]
  },
  {
   "cell_type": "code",
   "execution_count": null,
   "metadata": {
    "slideshow": {
     "slide_type": "fragment"
    },
    "tags": []
   },
   "outputs": [],
   "source": [
    "a = np.arange(10, dtype=np.float64)\n",
    "print(f\"The size of the array is {a.size * a.itemsize} bytes.\")"
   ]
  },
  {
   "cell_type": "markdown",
   "metadata": {
    "slideshow": {
     "slide_type": "fragment"
    }
   },
   "source": [
    "Note the two important array attributes:\n",
    "- `a.size`: total number of elements in the array.\n",
    "- `a.itemsize`: size of each element in bytes.\n",
    "More on this later."
   ]
  },
  {
   "cell_type": "markdown",
   "metadata": {
    "slideshow": {
     "slide_type": "skip"
    },
    "tags": []
   },
   "source": [
    "## Structured/Record arrays\n",
    "\n",
    "They allow access to the data using named fields. Imagine your data being a spreadsheet, the field names would be the column heading."
   ]
  },
  {
   "cell_type": "code",
   "execution_count": null,
   "metadata": {
    "slideshow": {
     "slide_type": "skip"
    },
    "tags": []
   },
   "outputs": [],
   "source": [
    "img = np.zeros((3,), dtype=[(\"r\", np.float32), (\"g\", np.float64), (\"b\", np.int32)])\n",
    "img"
   ]
  },
  {
   "cell_type": "code",
   "execution_count": null,
   "metadata": {
    "slideshow": {
     "slide_type": "skip"
    },
    "tags": []
   },
   "outputs": [],
   "source": [
    "img[\"r\"] = 1.0\n",
    "img"
   ]
  },
  {
   "cell_type": "markdown",
   "metadata": {
    "slideshow": {
     "slide_type": "slide"
    },
    "tags": []
   },
   "source": [
    "## Save and load\n",
    "Documentation: https://docs.scipy.org/doc/numpy/reference/routines.io.html"
   ]
  },
  {
   "cell_type": "code",
   "execution_count": null,
   "metadata": {
    "slideshow": {
     "slide_type": "fragment"
    },
    "tags": []
   },
   "outputs": [],
   "source": [
    "a = np.arange(start=0, stop=10, step=1, dtype=np.int32)\n",
    "a"
   ]
  },
  {
   "cell_type": "code",
   "execution_count": null,
   "metadata": {
    "slideshow": {
     "slide_type": "fragment"
    },
    "tags": []
   },
   "outputs": [],
   "source": [
    "# Save as a binary file (.npy).\n",
    "np.save(\"data.npy\", a)"
   ]
  },
  {
   "cell_type": "code",
   "execution_count": null,
   "metadata": {
    "slideshow": {
     "slide_type": "fragment"
    },
    "tags": []
   },
   "outputs": [],
   "source": [
    "np.load(\"data.npy\")"
   ]
  },
  {
   "cell_type": "code",
   "execution_count": null,
   "metadata": {
    "slideshow": {
     "slide_type": "fragment"
    },
    "tags": []
   },
   "outputs": [],
   "source": [
    "# Save as a text file.\n",
    "np.savetxt(\"myarray.txt\", a, fmt=\"%d\")"
   ]
  },
  {
   "cell_type": "code",
   "execution_count": null,
   "metadata": {
    "slideshow": {
     "slide_type": "fragment"
    },
    "tags": []
   },
   "outputs": [],
   "source": [
    "!cat myarray.txt"
   ]
  },
  {
   "cell_type": "code",
   "execution_count": null,
   "metadata": {
    "slideshow": {
     "slide_type": "fragment"
    },
    "tags": []
   },
   "outputs": [],
   "source": [
    "np.loadtxt(\"myarray.txt\", dtype=np.int32)"
   ]
  },
  {
   "cell_type": "markdown",
   "metadata": {
    "slideshow": {
     "slide_type": "slide"
    },
    "tags": []
   },
   "source": [
    "## Plotting NumPy arrays using Matplotlib\n",
    "\n",
    "Matplotlib is a versatile plotting library that can be used to produce high-quality figures. It provides MATLAB-like functions, such as ``plot`` and ``imshow``.\n",
    "\n",
    "Integration in the notebooks can be enabled using ``%matplotlib`` magic.\n",
    "\n",
    "See details in the [dedicated notebook](../plot/matplotlib.ipynb)"
   ]
  },
  {
   "cell_type": "code",
   "execution_count": null,
   "metadata": {
    "slideshow": {
     "slide_type": "fragment"
    },
    "tags": []
   },
   "outputs": [],
   "source": [
    "# %matplotlib inline\n",
    "%matplotlib widget\n",
    "# %matplotlib nbagg\n",
    "\n",
    "from matplotlib import pyplot as plt"
   ]
  },
  {
   "cell_type": "code",
   "execution_count": null,
   "metadata": {
    "slideshow": {
     "slide_type": "subslide"
    },
    "tags": []
   },
   "outputs": [],
   "source": [
    "x = np.array([0.0, 0.33, 0.66, 0.99, 1.32, 1.65, 1.98, 2.31, 2.64, 2.98, 3.31, 3.64, 3.97, 4.3, 4.63, 4.96, 5.29, 5.62, 5.95, 6.28])\n",
    "y = np.array([ 1.0, 0.94, 0.79, 0.55, 0.24, -0.08, -0.4, -0.68, -0.88, -0.99, -0.99, -0.88, -0.68, -0.4, -0.08, 0.24, 0.55, 0.79, 0.95, 1.0])\n",
    "\n",
    "fig = plt.figure()\n",
    "plt.plot(y)\n",
    "# plt.plot(x, y)"
   ]
  },
  {
   "cell_type": "code",
   "execution_count": null,
   "metadata": {
    "slideshow": {
     "slide_type": "fragment"
    },
    "tags": []
   },
   "outputs": [],
   "source": [
    "image = np.random.rand(100, 50)\n",
    "plt.figure()\n",
    "plt.imshow(image)\n",
    "plt.colorbar()"
   ]
  },
  {
   "cell_type": "markdown",
   "metadata": {
    "slideshow": {
     "slide_type": "subslide"
    },
    "tags": []
   },
   "source": [
    "## Exercise\n",
    "\n",
    "Open the [HPLC exercise notebook](Exercise-HPLC.ipynb#Exercise:-HPLC-experiment) - Part I"
   ]
  },
  {
   "cell_type": "markdown",
   "metadata": {
    "slideshow": {
     "slide_type": "slide"
    },
    "tags": []
   },
   "source": [
    "## Manipulation"
   ]
  },
  {
   "cell_type": "markdown",
   "metadata": {
    "slideshow": {
     "slide_type": "subslide"
    },
    "tags": []
   },
   "source": [
    "### Array operations\n",
    "\n",
    "Common functions are:\n",
    "    \n",
    "* Linear algebra: ``matmul`` matrix multiplication, ``dot`` product, ``inner`` product, ``outer`` product\n",
    "* Statistics: ``mean``, ``std``, ``median``, ``percentile``, ... (https://docs.scipy.org/doc/numpy/reference/routines.statistics.html)\n",
    "* Sums: ``sum``, ``cumsum``, ...\n",
    "* Math: ``cos``, ``sin``, ``log10``, ``interp``, ... (https://docs.scipy.org/doc/numpy/reference/routines.math.html)\n",
    "* Indexing, logic functions, sorting\n",
    "* See: https://docs.scipy.org/doc/numpy/reference/routines.html\n",
    "\n",
    "Beware that all these functions are part of `numpy` and must be called with the prefix `np.`."
   ]
  },
  {
   "cell_type": "code",
   "execution_count": null,
   "metadata": {
    "slideshow": {
     "slide_type": "fragment"
    },
    "tags": []
   },
   "outputs": [],
   "source": [
    "a = np.linspace(0.0, 1.0, 100)\n",
    "print(\"Mean:\", np.mean(a), \", Standard deviation:\", np.std(a))"
   ]
  },
  {
   "cell_type": "code",
   "execution_count": null,
   "metadata": {
    "slideshow": {
     "slide_type": "fragment"
    },
    "tags": []
   },
   "outputs": [],
   "source": [
    "# Standard operations operate element by element.\n",
    "angles = np.linspace(0, np.pi, 5)\n",
    "np.cos(angles)"
   ]
  },
  {
   "cell_type": "code",
   "execution_count": null,
   "metadata": {
    "slideshow": {
     "slide_type": "fragment"
    },
    "tags": []
   },
   "outputs": [],
   "source": [
    "a = np.array([[0.0, 1.0, 2.0], [3.0, 4.0, 5.0], [6.0, 7.0, 8.0]])\n",
    "b = np.identity(3)\n",
    "np.matmul(a, b)  # Or equivalently a @ b"
   ]
  },
  {
   "cell_type": "markdown",
   "metadata": {
    "slideshow": {
     "slide_type": "subslide"
    },
    "tags": []
   },
   "source": [
    "### Array operations along an axis\n",
    "\n",
    "Many NumPy *reduction* functions take an `axis` argument."
   ]
  },
  {
   "cell_type": "markdown",
   "metadata": {
    "slideshow": {
     "slide_type": "fragment"
    }
   },
   "source": [
    "Suppose you have an array that stacks 10 spectra of 8 energy bins."
   ]
  },
  {
   "cell_type": "code",
   "execution_count": null,
   "metadata": {
    "slideshow": {
     "slide_type": "fragment"
    },
    "tags": []
   },
   "outputs": [],
   "source": [
    "a = np.stack([k*np.ones(8) for k in range(1,11)],axis=1) #Don't focus on the syntax...\n",
    "a"
   ]
  },
  {
   "cell_type": "code",
   "execution_count": null,
   "metadata": {
    "slideshow": {
     "slide_type": "fragment"
    },
    "tags": []
   },
   "outputs": [],
   "source": [
    "# You can compute the mean f the whole array...\n",
    "np.mean(a)"
   ]
  },
  {
   "cell_type": "code",
   "execution_count": null,
   "metadata": {
    "slideshow": {
     "slide_type": "fragment"
    },
    "tags": []
   },
   "outputs": [],
   "source": [
    "# ... or the mean of each spectrum\n",
    "np.mean(a, axis=0)"
   ]
  },
  {
   "cell_type": "code",
   "execution_count": null,
   "metadata": {
    "slideshow": {
     "slide_type": "fragment"
    }
   },
   "outputs": [],
   "source": [
    "# or the mean of each energy bin:\n",
    "np.mean(a,axis=1)"
   ]
  },
  {
   "cell_type": "markdown",
   "metadata": {
    "slideshow": {
     "slide_type": "subslide"
    },
    "tags": []
   },
   "source": [
    "### Array methods\n",
    "\n",
    "Some Numpy functions are also available as methods."
   ]
  },
  {
   "cell_type": "code",
   "execution_count": null,
   "metadata": {
    "slideshow": {
     "slide_type": "fragment"
    },
    "tags": []
   },
   "outputs": [],
   "source": [
    "a = np.array([[7, 6, 5, 4], [3, 2, 1, 0]])\n",
    "a"
   ]
  },
  {
   "cell_type": "code",
   "execution_count": null,
   "metadata": {
    "slideshow": {
     "slide_type": "fragment"
    },
    "tags": []
   },
   "outputs": [],
   "source": [
    "# Returns a value computed from the array\n",
    "a.min(), a.max(), a.sum()"
   ]
  },
  {
   "cell_type": "code",
   "execution_count": null,
   "metadata": {
    "slideshow": {
     "slide_type": "fragment"
    },
    "tags": []
   },
   "outputs": [],
   "source": [
    "# An in-place sort operation.\n",
    "a.sort(axis=1)\n",
    "a"
   ]
  },
  {
   "cell_type": "markdown",
   "metadata": {
    "slideshow": {
     "slide_type": "subslide"
    },
    "tags": []
   },
   "source": [
    "### More on array methods"
   ]
  },
  {
   "cell_type": "code",
   "execution_count": null,
   "metadata": {
    "slideshow": {
     "slide_type": "fragment"
    },
    "tags": []
   },
   "outputs": [],
   "source": [
    "a = np.array([(0, 1), (2, 3)])\n",
    "a"
   ]
  },
  {
   "cell_type": "code",
   "execution_count": null,
   "metadata": {
    "slideshow": {
     "slide_type": "fragment"
    },
    "tags": []
   },
   "outputs": [],
   "source": [
    "a.transpose()"
   ]
  },
  {
   "cell_type": "code",
   "execution_count": null,
   "metadata": {
    "slideshow": {
     "slide_type": "fragment"
    },
    "tags": []
   },
   "outputs": [],
   "source": [
    "np.transpose(a)"
   ]
  },
  {
   "cell_type": "markdown",
   "metadata": {
    "slideshow": {
     "slide_type": "slide"
    }
   },
   "source": [
    "### Exercise\n",
    "\n",
    "Continue the [HPLC exercise notebook - Part II](Exercise-HPLC.ipynb#Part-II)"
   ]
  },
  {
   "cell_type": "markdown",
   "metadata": {
    "slideshow": {
     "slide_type": "slide"
    }
   },
   "source": [
    "### A focus on copying arrays (WARNING: slippery!)"
   ]
  },
  {
   "cell_type": "code",
   "execution_count": null,
   "metadata": {
    "slideshow": {
     "slide_type": "fragment"
    }
   },
   "outputs": [],
   "source": [
    "# You can create an array by \"copying\" another one\n",
    "a = np.array([[0, 1], [2, 3]])\n",
    "b = a\n",
    "print(f\"a=\\n{a}\") \n",
    "print(f\"b=\\n{b}\")"
   ]
  },
  {
   "cell_type": "code",
   "execution_count": null,
   "metadata": {
    "slideshow": {
     "slide_type": "fragment"
    }
   },
   "outputs": [],
   "source": [
    "#What if you change something in a?\n",
    "a[0, 0] = 100\n",
    "print(f\"a=\\n{a}\")\n",
    "print(f\"b=\\n{b}\")"
   ]
  },
  {
   "cell_type": "markdown",
   "metadata": {
    "slideshow": {
     "slide_type": "fragment"
    }
   },
   "source": [
    "- When creating an array with `b=a`, `b` is only a VIEW on the elements of `a`.\n",
    "- Any change on `a` will impact `b`\n",
    "\n",
    "=> Solution: use `b=a.copy()` instead."
   ]
  },
  {
   "cell_type": "markdown",
   "metadata": {
    "slideshow": {
     "slide_type": "subslide"
    }
   },
   "source": [
    "- When creating an array with `b=a`, `b` is only a VIEW on the elements of `a`.\n",
    "- Any change on `a` will impact `b`\n",
    "\n",
    "=> Solution: use `b=a.copy()` instead."
   ]
  },
  {
   "cell_type": "code",
   "execution_count": null,
   "metadata": {
    "slideshow": {
     "slide_type": "fragment"
    },
    "tags": []
   },
   "outputs": [],
   "source": [
    "a = np.array([[0, 1], [2, 3]])\n",
    "b = a.copy()\n",
    "c = np.copy(a)\n",
    "d = np.array(a, copy=True)\n",
    "a [0,0] = 100\n",
    "print(f\"a=\\n{a}\")\n",
    "print(f\"b=\\n{b}\")\n",
    "print(f\"c=\\n{c}\")\n",
    "print(f\"d=\\n{d}\")"
   ]
  },
  {
   "cell_type": "markdown",
   "metadata": {
    "slideshow": {
     "slide_type": "slide"
    }
   },
   "source": [
    "#### Copy vs view"
   ]
  },
  {
   "cell_type": "markdown",
   "metadata": {
    "slideshow": {
     "slide_type": "subslide"
    }
   },
   "source": [
    "You saw previously data copy. But you can work on the same raw data with different views (representations).\n",
    "\n",
    "* copy: duplicate the data\n",
    "* view: new array object pointing to the same data\n",
    "\n",
    "![a in memory](img/array_in_memory.png)"
   ]
  },
  {
   "cell_type": "code",
   "execution_count": null,
   "metadata": {
    "slideshow": {
     "slide_type": "subslide"
    }
   },
   "outputs": [],
   "source": [
    "a = np.array([[0, 1], [2, 3]])\n",
    "b = a.transpose()\n",
    "a, b"
   ]
  },
  {
   "cell_type": "markdown",
   "metadata": {
    "slideshow": {
     "slide_type": "subslide"
    }
   },
   "source": [
    "![a view](img/a_view.png)\n",
    "![b view](img/b_view.png)"
   ]
  },
  {
   "cell_type": "code",
   "execution_count": null,
   "metadata": {
    "slideshow": {
     "slide_type": "subslide"
    }
   },
   "outputs": [],
   "source": [
    "c = a[0]\n",
    "c"
   ]
  },
  {
   "cell_type": "markdown",
   "metadata": {
    "slideshow": {
     "slide_type": "subslide"
    }
   },
   "source": [
    "![c view](img/c_view.png)"
   ]
  },
  {
   "cell_type": "code",
   "execution_count": null,
   "metadata": {
    "slideshow": {
     "slide_type": "subslide"
    }
   },
   "outputs": [],
   "source": [
    "d = a.copy()"
   ]
  },
  {
   "cell_type": "markdown",
   "metadata": {
    "slideshow": {
     "slide_type": "subslide"
    }
   },
   "source": [
    "![d copy](img/d_copy.png)"
   ]
  },
  {
   "cell_type": "code",
   "execution_count": null,
   "metadata": {
    "slideshow": {
     "slide_type": "subslide"
    }
   },
   "outputs": [],
   "source": [
    "a[0, 0] = 4"
   ]
  },
  {
   "cell_type": "code",
   "execution_count": null,
   "metadata": {
    "slideshow": {
     "slide_type": "subslide"
    }
   },
   "outputs": [],
   "source": [
    "print(\"a:\", a)\n",
    "print(\"b:\", b)\n",
    "print(\"c:\", c)\n",
    "print(\"d:\", d)"
   ]
  },
  {
   "cell_type": "markdown",
   "metadata": {
    "slideshow": {
     "slide_type": "slide"
    },
    "tags": []
   },
   "source": [
    "Be careful when using `numpy.copy` as it is shallow, and it will not copy object elements within arrays. For these corner cases, you need to use `copy.deepcopy`."
   ]
  },
  {
   "cell_type": "code",
   "execution_count": null,
   "metadata": {
    "slideshow": {
     "slide_type": "subslide"
    },
    "tags": []
   },
   "outputs": [],
   "source": [
    "a = np.array([1, \"m\", [2, 3, 4]], dtype=object)\n",
    "c = np.copy(a)\n",
    "a[0] = 2\n",
    "a[2][0] = -1\n",
    "a, c"
   ]
  },
  {
   "cell_type": "markdown",
   "metadata": {
    "slideshow": {
     "slide_type": "slide"
    },
    "tags": []
   },
   "source": [
    "### Array attributes"
   ]
  },
  {
   "cell_type": "markdown",
   "metadata": {
    "slideshow": {
     "slide_type": "fragment"
    },
    "tags": []
   },
   "source": [
    "The ``dtype`` attribute identifies the type of the elements of the array."
   ]
  },
  {
   "cell_type": "code",
   "execution_count": null,
   "metadata": {
    "slideshow": {
     "slide_type": "fragment"
    },
    "tags": []
   },
   "outputs": [],
   "source": [
    "a = np.array([[3, 2], [8, 12]])\n",
    "a.dtype"
   ]
  },
  {
   "cell_type": "code",
   "execution_count": null,
   "metadata": {
    "slideshow": {
     "slide_type": "fragment"
    },
    "tags": []
   },
   "outputs": [],
   "source": [
    "a.dtype.name, a.dtype.str"
   ]
  },
  {
   "cell_type": "markdown",
   "metadata": {
    "slideshow": {
     "slide_type": "subslide"
    },
    "tags": []
   },
   "source": [
    "The ``shape`` attribute is a tuple containing the array dimensions."
   ]
  },
  {
   "cell_type": "code",
   "execution_count": null,
   "metadata": {
    "slideshow": {
     "slide_type": "fragment"
    },
    "tags": []
   },
   "outputs": [],
   "source": [
    "a = np.array([1, 2, 3, 4])\n",
    "a.shape"
   ]
  },
  {
   "cell_type": "code",
   "execution_count": null,
   "metadata": {
    "slideshow": {
     "slide_type": "fragment"
    },
    "tags": []
   },
   "outputs": [],
   "source": [
    "# It can also be set.\n",
    "a.shape = (2, 2)\n",
    "a"
   ]
  },
  {
   "cell_type": "code",
   "execution_count": null,
   "metadata": {
    "slideshow": {
     "slide_type": "fragment"
    },
    "tags": []
   },
   "outputs": [],
   "source": [
    "# or define using 'reshape'\n",
    "b = a.reshape((1, 1, 4))\n",
    "print(a.shape)\n",
    "print(b.shape)\n"
   ]
  },
  {
   "cell_type": "markdown",
   "metadata": {
    "slideshow": {
     "slide_type": "subslide"
    },
    "tags": []
   },
   "source": [
    "### More array attributes\n",
    "\n",
    "* ``ndim``: Number of dimensions\n",
    "* ``size``: Total number of elements\n",
    "* ``itemsize``: Size of a single item (in bytes))\n",
    "* ``strides``: Bytes to step in each dimension\n",
    "* ``flags``: Contiguity of the data in the buffer\n",
    "* ``nbytes``: Size in bytes occupied in memory\n",
    "* ``data``: Read/write buffer containing the data"
   ]
  },
  {
   "cell_type": "code",
   "execution_count": null,
   "metadata": {
    "slideshow": {
     "slide_type": "fragment"
    },
    "tags": []
   },
   "outputs": [],
   "source": [
    "a = np.array([[1, 2], [3, 4]])\n",
    "print(a.ndim,a.dtype,a.size,a.itemsize,a.nbytes)"
   ]
  },
  {
   "cell_type": "markdown",
   "metadata": {
    "slideshow": {
     "slide_type": "slide"
    },
    "tags": []
   },
   "source": [
    "## Indexing\n",
    "\n",
    "Select elements as with any other Python sequence.\n",
    "\n",
    "* Indexing starts at `0` for each array dimension\n",
    "* Indexes can be negative: `x[-1]` is the same as `x[len(x) - 1]`"
   ]
  },
  {
   "cell_type": "code",
   "execution_count": null,
   "metadata": {
    "slideshow": {
     "slide_type": "fragment"
    },
    "tags": []
   },
   "outputs": [],
   "source": [
    "a = np.array([0, 1, 2, 3])\n",
    "print(\"a[0] =\", a[0])\n",
    "print(\"a[-1] =\", a[-1])"
   ]
  },
  {
   "cell_type": "code",
   "execution_count": null,
   "metadata": {
    "slideshow": {
     "slide_type": "fragment"
    },
    "tags": []
   },
   "outputs": [],
   "source": [
    "a = np.array([(1, 2, 3, 4), (5, 6, 7, 8), (9, 10, 11, 12)])\n",
    "a"
   ]
  },
  {
   "cell_type": "code",
   "execution_count": null,
   "metadata": {
    "slideshow": {
     "slide_type": "fragment"
    },
    "tags": []
   },
   "outputs": [],
   "source": [
    "a[2]  # Select all the elements of the third row."
   ]
  },
  {
   "cell_type": "code",
   "execution_count": null,
   "metadata": {
    "slideshow": {
     "slide_type": "fragment"
    },
    "tags": []
   },
   "outputs": [],
   "source": [
    "a[2, :]  # Same as previous, assuming the array has at least two dimensions."
   ]
  },
  {
   "cell_type": "code",
   "execution_count": null,
   "metadata": {
    "slideshow": {
     "slide_type": "fragment"
    },
    "tags": []
   },
   "outputs": [],
   "source": [
    "a[1, 2]  # Select the element from the second row and third column."
   ]
  },
  {
   "cell_type": "code",
   "execution_count": null,
   "metadata": {
    "slideshow": {
     "slide_type": "fragment"
    },
    "tags": []
   },
   "outputs": [],
   "source": [
    "a[0, -1]  # Select the last element of the first row."
   ]
  },
  {
   "cell_type": "code",
   "execution_count": null,
   "metadata": {
    "slideshow": {
     "slide_type": "fragment"
    },
    "tags": []
   },
   "outputs": [],
   "source": [
    "a[0:2, 0:4:2]  # More elaborate indexing using the `start:stop:step` syntax."
   ]
  },
  {
   "cell_type": "markdown",
   "metadata": {
    "slideshow": {
     "slide_type": "subslide"
    },
    "tags": []
   },
   "source": [
    "### More indexing"
   ]
  },
  {
   "cell_type": "code",
   "execution_count": null,
   "metadata": {
    "slideshow": {
     "slide_type": "fragment"
    },
    "tags": []
   },
   "outputs": [],
   "source": [
    "a = np.arange(10.0, 18.0)\n",
    "a"
   ]
  },
  {
   "cell_type": "code",
   "execution_count": null,
   "metadata": {
    "slideshow": {
     "slide_type": "fragment"
    },
    "tags": []
   },
   "outputs": [],
   "source": [
    "# The index argument can be a list or an array.\n",
    "a[[0, 3, 5]]"
   ]
  },
  {
   "cell_type": "code",
   "execution_count": null,
   "metadata": {
    "slideshow": {
     "slide_type": "fragment"
    },
    "tags": []
   },
   "outputs": [],
   "source": [
    "# A boolean mask can be used to filter elements in an array with greater precision\n",
    "mask = np.array([True, True, True, False, False, False, True, False])\n",
    "a[mask]"
   ]
  },
  {
   "cell_type": "code",
   "execution_count": null,
   "metadata": {
    "slideshow": {
     "slide_type": "fragment"
    },
    "tags": []
   },
   "outputs": [],
   "source": [
    "# The index argument can be a logical array.\n",
    "mask_threshold = a > 13\n",
    "print(\"a > 13 =\", mask_threshold)\n",
    "a[mask_threshold]"
   ]
  },
  {
   "cell_type": "markdown",
   "metadata": {
    "slideshow": {
     "slide_type": "subslide"
    },
    "tags": []
   },
   "source": [
    "### Assignment"
   ]
  },
  {
   "cell_type": "code",
   "execution_count": null,
   "metadata": {
    "slideshow": {
     "slide_type": "fragment"
    },
    "tags": []
   },
   "outputs": [],
   "source": [
    "a"
   ]
  },
  {
   "cell_type": "code",
   "execution_count": null,
   "metadata": {
    "slideshow": {
     "slide_type": "fragment"
    },
    "tags": []
   },
   "outputs": [],
   "source": [
    "a[0:2] = 5  # Assign new values to array elements.\n",
    "a"
   ]
  },
  {
   "cell_type": "markdown",
   "metadata": {
    "slideshow": {
     "slide_type": "subslide"
    },
    "tags": []
   },
   "source": [
    "## Exercise\n",
    "\n",
    "Continue the [HPLC exercise notebook - Part III](Exercise-HPLC.ipynb#Part-III)"
   ]
  },
  {
   "cell_type": "markdown",
   "metadata": {
    "slideshow": {
     "slide_type": "slide"
    },
    "tags": []
   },
   "source": [
    "## Exercise\n",
    "\n",
    "1. Calculate the element-wise difference between ``x`` and ``y``?\n",
    "2. Provide an expression to calculate the difference ``x[i+1]-x[i]`` for all the elements of the 1D array."
   ]
  },
  {
   "cell_type": "code",
   "execution_count": null,
   "metadata": {
    "slideshow": {
     "slide_type": "fragment"
    },
    "tags": []
   },
   "outputs": [],
   "source": [
    "x = np.arange(10)\n",
    "y = np.arange(1, 11)\n",
    "print(\"x =\", x)\n",
    "print(\"y =\", y)"
   ]
  },
  {
   "cell_type": "code",
   "execution_count": null,
   "metadata": {
    "slideshow": {
     "slide_type": "fragment"
    },
    "tags": []
   },
   "outputs": [],
   "source": [
    "# TODO"
   ]
  },
  {
   "cell_type": "code",
   "execution_count": null,
   "metadata": {
    "slideshow": {
     "slide_type": "subslide"
    },
    "tags": []
   },
   "outputs": [],
   "source": [
    "import exercicesolution\n",
    "\n",
    "exercicesolution.show(\"ex3_1\")"
   ]
  },
  {
   "cell_type": "code",
   "execution_count": null,
   "metadata": {
    "slideshow": {
     "slide_type": "subslide"
    },
    "tags": []
   },
   "outputs": [],
   "source": [
    "exercicesolution.show(\"ex3_2\")"
   ]
  },
  {
   "cell_type": "markdown",
   "metadata": {
    "slideshow": {
     "slide_type": "slide"
    },
    "tags": []
   },
   "source": [
    "## Exercise \n",
    "\n",
    "Suppose we want to shrink the physical size of a 1000x1000 gray-value image by a factor 4, without changing the type of the pixels.\n",
    "A natural approach is to reduce the number of pixels by a factor 2 in each dimension. This operation is called **binning**. It consists in replacing each 2x2 square in the image by one single pixel value. The next question is: which value should be assigned to each pixel in the new image.\n",
    "\n",
    "\n",
    "1. Binning with a 1D array\n",
    "      \n",
    "   * 1.1: Generate a **1D** array with 100 elements in increasing order\n",
    "   * 1.2: Perform a binning such that:\n",
    "   \n",
    "      raw data:\n",
    "      $\n",
    "      \\begin{bmatrix}\n",
    "      1 & 2 & 3 & 4 & \\cdots\\\\\n",
    "      \\end{bmatrix}\n",
    "      $\n",
    "      (100 values)\n",
    "\n",
    "\n",
    "      binned data:\n",
    "      $\n",
    "      \\begin{bmatrix}\n",
    "      1 + 2 & 3 + 4 & \\cdots\\\\\n",
    "      \\end{bmatrix}\n",
    "      $\n",
    "      (50 values)\n",
    "\n",
    "\n",
    "2. Binning with a 2D array 2x2 binning\n",
    "\n",
    "   * 2.1: Generate a 100x100 **2D** array with increasing integers\n",
    "   * 2.2: Perform a 2x2 binning:\n",
    "\n",
    "      Raw data should look like \n",
    "      $\n",
    "      \\begin{bmatrix}\n",
    "      1 & 2 & 3 & 4 & \\cdots\\\\\n",
    "      5 & 6 & 7 & 8& \\cdots\\\\\n",
    "      9 & 10 & 11 & 12& \\cdots\\\\\n",
    "      13 & 14 & 15 & 16& \\cdots\\\\\n",
    "      \\vdots& \\vdots& \\vdots& \\vdots & \\ddots\\\\\n",
    "      \\end{bmatrix}\n",
    "      $\n",
    "      (size 100 x 100)\n",
    "\n",
    "\n",
    "      Binned data should look like\n",
    "      $\n",
    "      \\begin{bmatrix}\n",
    "      1 + 2 + 5 + 6 &  3+4+7+8 & \\cdots\\\\\\\\\n",
    "      9+10+13+14 & 11+12+15+16 & \\cdots\\\\\\\\\n",
    "      \\vdots& \\vdots& \\ddots\\\\\n",
    "      \\end{bmatrix}\n",
    "      $\n",
    "      (size: 50 x 50)\n",
    "\n",
    "\n",
    "3. Set all elements of the resulting array that are below 1000 to 0."
   ]
  },
  {
   "cell_type": "code",
   "execution_count": null,
   "metadata": {
    "slideshow": {
     "slide_type": "fragment"
    },
    "tags": []
   },
   "outputs": [],
   "source": [
    "# TODO"
   ]
  },
  {
   "cell_type": "code",
   "execution_count": null,
   "metadata": {
    "slideshow": {
     "slide_type": "subslide"
    },
    "tags": []
   },
   "outputs": [],
   "source": [
    "import exercicesolution\n",
    "\n",
    "exercicesolution.show(\"ex4_1\")"
   ]
  },
  {
   "cell_type": "code",
   "execution_count": null,
   "metadata": {
    "slideshow": {
     "slide_type": "subslide"
    }
   },
   "outputs": [],
   "source": [
    "exercicesolution.show(\"ex4_2\")"
   ]
  },
  {
   "cell_type": "code",
   "execution_count": null,
   "metadata": {
    "slideshow": {
     "slide_type": "subslide"
    }
   },
   "outputs": [],
   "source": [
    "exercicesolution.show(\"ex4_2_alt\")"
   ]
  },
  {
   "cell_type": "markdown",
   "metadata": {
    "slideshow": {
     "slide_type": "subslide"
    }
   },
   "source": [
    "### Explanations part 1\n",
    "\n",
    "<details>\n",
    "    <summary>...</summary>\n",
    "    A naive approach for the simple case of a 4*4 matrix would be to compute the binning of each \"cell to bin\" with a bit of thinking on how to catch the good indices of the original array to fill the binned array.<br>\n",
    "\n",
    "<img src=\"img/naive_binning_2d.png\" width=250 />\n",
    "\n",
    "```python\n",
    "# You can change the dimension for an other even number to see other examples\n",
    "dim = 8\n",
    "a = np.arange(dim**2).reshape((dim,dim))\n",
    "a = a+1\n",
    "\n",
    "a_bin = np.zeros((dim//2,dim//2))\n",
    "# This naive binning requires two 'for' loops to go over each item of the binned_array.\n",
    "# This is rather suboptimal.\n",
    "for x in range(0, dim//2):\n",
    "    for y in range(0, dim//2):\n",
    "        a_bin[x, y] = a[2*x,2*y] + a[2*x+1,2*y] + a[2*x,2*y+1] + a[2*x+1,2*y+1]\n",
    "print(\"a\\n\", a)\n",
    "print()\n",
    "print(\"binned a\\n\", a_bin)\n",
    "print()\n",
    "print(a.reshape(2, 2 ,2, 2))\n",
    "```\n",
    "</details>"
   ]
  },
  {
   "cell_type": "markdown",
   "metadata": {
    "slideshow": {
     "slide_type": "subslide"
    }
   },
   "source": [
    "### Explanations part 2\n",
    "\n",
    "<details>\n",
    "    <summary>...</summary>\n",
    "    \n",
    "A better (and optimal) approach would be to keep the calculus at a matrix level and slice through the original array in different ways to get what we want.\n",
    "For instance, we can slice the original array to separate each element in each of the \"cell to bin\":<br>\n",
    "\n",
    "<img src=\"img/better_binning_2d.png\" width=250 />\n",
    "\n",
    "With this slicing, we create 4 subarrays that contain each an element of the \"cell to bin\" for each \"cell to bin\". The matrix addition will then naturally compute the binning for each cell:<br>\n",
    "\n",
    "<img src=\"img/compute_binning_2d.png\" width=750 />\n",
    "\n",
    "Python-wise, the computation of this binning looks a lot like what we did naively above inside the two `for` loops, but this time, this is all done at a matrix level.\n",
    "\n",
    "```python\n",
    "# You can change the dimension for an other even one to see other examples\n",
    "dim = 4\n",
    "a = np.arange(dim**2).reshape((dim,dim))\n",
    "a = a+1\n",
    "\n",
    "# Keeping the computation at a matrix level makes the code cleaner, \n",
    "# though it can be a bit confusing at first\n",
    "a_bin = a[:-1:2, :-1:2] + a[1::2, :-1:2] + a[:-1:2, 1::2] + a[1::2, 1::2]\n",
    "a_bin\n",
    "```\n",
    "</details>"
   ]
  },
  {
   "cell_type": "markdown",
   "metadata": {
    "slideshow": {
     "slide_type": "slide"
    }
   },
   "source": [
    "### Take home message: avoid loops!"
   ]
  },
  {
   "cell_type": "code",
   "execution_count": null,
   "metadata": {
    "slideshow": {
     "slide_type": "fragment"
    }
   },
   "outputs": [],
   "source": [
    "%timeit exercicesolution.ex4_2_0()    # Double loop over the new array.\n",
    "%timeit exercicesolution.ex4_2()      # Using slicing\n"
   ]
  },
  {
   "cell_type": "markdown",
   "metadata": {
    "slideshow": {
     "slide_type": "fragment"
    }
   },
   "source": [
    "Doing loops on array is **100 times slower** than smart use of slicing.\n",
    "\n",
    "=> Take home message: **avoid loops!**"
   ]
  },
  {
   "cell_type": "markdown",
   "metadata": {
    "slideshow": {
     "slide_type": "slide"
    },
    "tags": []
   },
   "source": [
    "# NumPy modules\n",
    "\n",
    "Documentation: https://docs.scipy.org/doc/numpy/reference"
   ]
  },
  {
   "cell_type": "markdown",
   "metadata": {
    "slideshow": {
     "slide_type": "subslide"
    },
    "tags": []
   },
   "source": [
    "## Linear algebra: ``numpy.linalg``\n",
    "\n",
    "* ``numpy.linalg.det(x)``: determinant of x\n",
    "* ``numpy.linalg.eig(x)``: eigenvalues and eigenvectors of x\n",
    "* ``numpy.linalg.inv(x)``: inverse matrix of x\n",
    "* ``numpy.linalg.svd(x)``: singular value decomposition of x"
   ]
  },
  {
   "cell_type": "code",
   "execution_count": null,
   "metadata": {
    "slideshow": {
     "slide_type": ""
    },
    "tags": []
   },
   "outputs": [],
   "source": [
    "?np.linalg.det"
   ]
  },
  {
   "cell_type": "code",
   "execution_count": null,
   "metadata": {},
   "outputs": [],
   "source": [
    "help(np.linalg.det)"
   ]
  },
  {
   "cell_type": "markdown",
   "metadata": {
    "slideshow": {
     "slide_type": "subslide"
    },
    "tags": []
   },
   "source": [
    "## Random sampling: ``numpy.random``"
   ]
  },
  {
   "cell_type": "markdown",
   "metadata": {
    "slideshow": {
     "slide_type": "-"
    },
    "tags": []
   },
   "source": [
    "### Simple random data"
   ]
  },
  {
   "cell_type": "code",
   "execution_count": null,
   "metadata": {},
   "outputs": [],
   "source": [
    "# Random integers in the interval [low:high)\n",
    "np.random.randint(low=0, high=5, size=10)"
   ]
  },
  {
   "cell_type": "code",
   "execution_count": null,
   "metadata": {},
   "outputs": [],
   "source": [
    "# Random floats in the interval [0.0:1.0)\n",
    "np.random.random(10)"
   ]
  },
  {
   "cell_type": "code",
   "execution_count": null,
   "metadata": {},
   "outputs": [],
   "source": [
    "np.random.bytes(10)"
   ]
  },
  {
   "cell_type": "markdown",
   "metadata": {
    "slideshow": {
     "slide_type": "subslide"
    },
    "tags": []
   },
   "source": [
    "### Permutations"
   ]
  },
  {
   "cell_type": "code",
   "execution_count": null,
   "metadata": {},
   "outputs": [],
   "source": [
    "a = np.arange(1, 10)\n",
    "a"
   ]
  },
  {
   "cell_type": "code",
   "execution_count": null,
   "metadata": {},
   "outputs": [],
   "source": [
    "# In-place element permutation\n",
    "np.random.shuffle(a)\n",
    "a"
   ]
  },
  {
   "cell_type": "code",
   "execution_count": null,
   "metadata": {},
   "outputs": [],
   "source": [
    "# Out-of-place permutation\n",
    "np.random.permutation(a)"
   ]
  },
  {
   "cell_type": "markdown",
   "metadata": {
    "slideshow": {
     "slide_type": "subslide"
    },
    "tags": []
   },
   "source": [
    "### Statistical distributions\n",
    "\n",
    "Normal (Gaussian), Poisson, etc."
   ]
  },
  {
   "cell_type": "code",
   "execution_count": null,
   "metadata": {
    "slideshow": {
     "slide_type": ""
    },
    "tags": []
   },
   "outputs": [],
   "source": [
    "data = np.random.normal(loc=1.0, scale=1.0, size=100000)"
   ]
  },
  {
   "cell_type": "code",
   "execution_count": null,
   "metadata": {
    "slideshow": {
     "slide_type": ""
    },
    "tags": []
   },
   "outputs": [],
   "source": [
    "%matplotlib inline\n",
    "from matplotlib import pyplot as plt\n",
    "\n",
    "histo, bin_edges = np.histogram(data, bins=100)\n",
    "bin_centers = (bin_edges[:-1] + bin_edges[1:]) / 2.0\n",
    "plt.plot(bin_centers, histo)\n",
    "# Or: plt.hist(data, bins=100)"
   ]
  },
  {
   "cell_type": "markdown",
   "metadata": {
    "slideshow": {
     "slide_type": "slide"
    },
    "tags": []
   },
   "source": [
    "## Fast Fourier Transform: ``numpy.fft``\n",
    "\n",
    "* ``numpy.fft.fft``: 1D FFT\n",
    "* ``numpy.fft.fft2``: 2D FFT\n",
    "* ``numpy.fft.fftn``: nD FFT"
   ]
  },
  {
   "cell_type": "markdown",
   "metadata": {
    "slideshow": {
     "slide_type": "slide"
    },
    "tags": []
   },
   "source": [
    "## Polynomials: ``numpy.polynomial``\n",
    "\n",
    "In NumPy, polynomials can be created, manipulated, and even fitted. Numpy provides Polynomial, Chebyshev, Legendre, Laguerre, Hermite and HermiteE series."
   ]
  },
  {
   "cell_type": "markdown",
   "metadata": {
    "slideshow": {
     "slide_type": "slide"
    },
    "tags": []
   },
   "source": [
    "## Exercise\n",
    "\n",
    "* Write a function ``fill_array(height, width)`` to generate an array of dimensions (height, width) in which ``X[row, column] = cos(row) * sin(column)``\n",
    "* Time-it for height=1000, width=1000\n",
    "\n",
    "Bonus: Do the same for ``X[row, column] = cos(row) + sin(column)``"
   ]
  },
  {
   "cell_type": "code",
   "execution_count": null,
   "metadata": {},
   "outputs": [],
   "source": [
    "def fill_array(height, width):\n",
    "    a = np\n",
    "\n",
    "\n",
    "%timeit fill_array(1000, 1000)"
   ]
  },
  {
   "cell_type": "code",
   "execution_count": null,
   "metadata": {
    "slideshow": {
     "slide_type": "skip"
    }
   },
   "outputs": [],
   "source": [
    "# inefficient fill\n",
    "import exercicesolution\n",
    "\n",
    "exercicesolution.show(\"ex5_inefficient_fill\")\n",
    "%timeit exercicesolution.ex5_inefficient_fill(1000, 1000)"
   ]
  },
  {
   "cell_type": "code",
   "execution_count": null,
   "metadata": {
    "slideshow": {
     "slide_type": "skip"
    }
   },
   "outputs": [],
   "source": [
    "# naive fill\n",
    "exercicesolution.show(\"ex5_naive_fill\")\n",
    "%timeit exercicesolution.ex5_naive_fill(1000, 1000)"
   ]
  },
  {
   "cell_type": "code",
   "execution_count": null,
   "metadata": {
    "slideshow": {
     "slide_type": "skip"
    }
   },
   "outputs": [],
   "source": [
    "# clever fill\n",
    "exercicesolution.show(\"ex5_clever_fill\")\n",
    "%timeit exercicesolution.ex5_clever_fill(1000, 1000)"
   ]
  },
  {
   "cell_type": "code",
   "execution_count": null,
   "metadata": {
    "slideshow": {
     "slide_type": "skip"
    }
   },
   "outputs": [],
   "source": [
    "# practical fill\n",
    "exercicesolution.show(\"ex5_practical_fill\")\n",
    "%timeit exercicesolution.ex5_practical_fill(1000, 1000)"
   ]
  },
  {
   "cell_type": "code",
   "execution_count": null,
   "metadata": {
    "slideshow": {
     "slide_type": "skip"
    }
   },
   "outputs": [],
   "source": [
    "# optimized fill\n",
    "exercicesolution.show(\"ex5_optimized_fill\")\n",
    "%timeit exercicesolution.ex5_optimized_fill(1000, 1000)"
   ]
  },
  {
   "cell_type": "code",
   "execution_count": null,
   "metadata": {
    "slideshow": {
     "slide_type": "skip"
    }
   },
   "outputs": [],
   "source": [
    "# atleast_2d fill\n",
    "exercicesolution.show(\"ex5_atleast_2d_fill\")\n",
    "%timeit exercicesolution.ex5_atleast_2d_fill(1000, 1000)"
   ]
  },
  {
   "cell_type": "markdown",
   "metadata": {
    "slideshow": {
     "slide_type": "subslide"
    },
    "tags": []
   },
   "source": [
    "Speed is a question of algorithm. It is not just a question of language.\n",
    "    \n",
    "| Implementation       | Duration (seconds) |\n",
    "|----------------------|--------------------|\n",
    "| ex5_inefficient_fill | 5.052937           |\n",
    "| ex5_naive_fill       | 0.886003           |\n",
    "| ex5_clever_fill      | 0.016836           |\n",
    "| ex5_practical_fill   | 0.014959           |\n",
    "| ex5_optimized_fill   | 0.004497           |\n",
    "| ex5_atleast_2d_fill  | 0.005262           |\n",
    "\n",
    "Done on Intel(R) Xeon(R) CPU E5-1650 @ 3.50GHz"
   ]
  },
  {
   "cell_type": "markdown",
   "metadata": {
    "slideshow": {
     "slide_type": "slide"
    },
    "tags": []
   },
   "source": [
    "# Additional resources\n",
    "\n",
    "- Complete reference material:\n",
    "  http://docs.scipy.org/doc/numpy/reference\n",
    "- NumPy user guide:\n",
    "  https://docs.scipy.org/doc/numpy/user\n",
    "- Many recipes for different purposes:\n",
    "  https://scipy-cookbook.readthedocs.io\n",
    "- Active mailing list where you can ask your questions:\n",
    "  numpy-discussion@scipy.org\n",
    "- Internal data-analysis mailing list:\n",
    "  data-analysis@esrf.fr"
   ]
  },
  {
   "cell_type": "markdown",
   "metadata": {
    "slideshow": {
     "slide_type": "slide"
    },
    "tags": []
   },
   "source": [
    "## More exercises for the braves\n",
    "\n",
    "Thanks to Nicolas Rougier: https://github.com/rougier/numpy-100:\n",
    "\n",
    "* Create a 5x5 matrix with values 1,2,3,4 just below the diagonal.\n",
    "* Create a 8x8 matrix and fill it with a checkerboard pattern.\n",
    "* Normalize a 5x5 random matrix.\n",
    "* Create a 5x5 matrix with row values ranging from 0 to 4.\n",
    "* Consider a random 10x2 matrix representing cartesian coordinates, convert them to polar coordinates.\n",
    "* Create random vector of size 10 and replace the maximum value by 0.\n",
    "* Consider a random vector with shape (100,2) representing coordinates, find point by point distances.\n",
    "* Generate a generic 2D Gaussian-like array.\n",
    "* Subtract the mean of each row of a matrix.\n",
    "* How to I sort an array by the nth column?\n",
    "* Find the nearest value from a given value in an array."
   ]
  }
 ],
 "metadata": {
  "celltoolbar": "Slideshow",
  "kernelspec": {
   "display_name": "Python 3 (ipykernel)",
   "language": "python",
   "name": "python3"
  },
  "language_info": {
   "codemirror_mode": {
    "name": "ipython",
    "version": 3
   },
   "file_extension": ".py",
   "mimetype": "text/x-python",
   "name": "python",
   "nbconvert_exporter": "python",
   "pygments_lexer": "ipython3",
   "version": "3.11.3"
  }
 },
 "nbformat": 4,
 "nbformat_minor": 4
}
