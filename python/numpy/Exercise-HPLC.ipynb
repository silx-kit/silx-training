{
 "cells": [
  {
   "attachments": {},
   "cell_type": "markdown",
   "id": "cb1a9b1f-5495-417a-a21b-10f1f6132e56",
   "metadata": {},
   "source": [
    "# Exercise: HPLC experiment\n",
    "\n",
    "Credits [ESRF/BM29 beamline](https://www.esrf.fr/home/UsersAndScience/Experiments/MX/About_our_beamlines/bm29.html)"
   ]
  },
  {
   "attachments": {},
   "cell_type": "markdown",
   "id": "36b6b654-fbc3-4124-ba7c-3340225a3356",
   "metadata": {},
   "source": [
    "## Introduction"
   ]
  },
  {
   "attachments": {},
   "cell_type": "markdown",
   "id": "77205b12-3f0b-4e8a-90b5-c2964d4cb34c",
   "metadata": {},
   "source": [
    "Process data from a [High-performance Liquid Chromatography (HPLC)](https://en.wikipedia.org/wiki/High-performance_liquid_chromatography) experiment performed on [ESRF/BM29 BioSAXS beamline](https://www.esrf.fr/home/UsersAndScience/Experiments/MX/About_our_beamlines/bm29.html).\n",
    "\n",
    "<div align=\"center\"><img src=\"img/BM29_picture.jpg\" width=\"40%\" alt=\"BM29 picture\" /><img src=\"img/BM29_setup.jpg\" width=\"40%\" alt=\"BM29 setup\" /></div>"
   ]
  },
  {
   "attachments": {},
   "cell_type": "markdown",
   "id": "be649cc3-56f7-4ab9-b2a8-1fb6235e6493",
   "metadata": {},
   "source": [
    "The sample is [Bovin Serum Albumin (BSA)](https://en.wikipedia.org/wiki/Bovine_serum_albumin) protein (used as a standard sample):\n",
    "\n",
    "<img src=\"img/Bovine_serum_albumin_3v03_crystal_structure.jpg\" width=\"100px\" alt=\"BSA\"/>"
   ]
  },
  {
   "attachments": {},
   "cell_type": "markdown",
   "id": "93503d83-1b11-4c91-8155-3f51a28ab6a7",
   "metadata": {},
   "source": [
    "The buffer and sample are exposed to X-rays while passing through a capillary.\n",
    "Images are recorded over time (400 in this experiment) and an azimuthal integration is performed for each image with [pyFAI](http://www.silx.org/doc/pyFAI/latest/).\n",
    "\n",
    "<div align=\"center\"><img src=\"img/saxs_setup.jpg\" alt=\"SAXS setup\"/>\n",
    "<img src=\"img/azimuthal_integration.png\" alt=\"Azimuthal integration\" width=\"400px\" /></div>\n",
    "\n",
    "\n",
    "This results in 400 curves of integrated intensities **I** for 1000 values of **q**.\n",
    "Those **I** values are stored as a 2D dataset of shape (400, 1000) in the `intensities.npy` file.\n",
    "The **q** values are stored in the `q.txt` file.\n",
    "\n",
    "At first, only the buffer is passing through the capillary, then sample + buffer and finally buffer again.\n",
    "\n",
    "The goal is to extract the intensity contributed by the sample.\n",
    "The steps are:\n",
    "\n",
    "1. Separate integrated intensities corresponding to buffer+sample from those corresponding to buffer only\n",
    "2. Estimate the buffer and the sample + buffer intensities by averaging the selected integrated intensities\n",
    "3. Remove the buffer background from sample + buffer"
   ]
  },
  {
   "attachments": {},
   "cell_type": "markdown",
   "id": "98afc9af-cdb1-4bf7-8c93-c0d1a7fb2a8e",
   "metadata": {},
   "source": [
    "## Part I"
   ]
  },
  {
   "cell_type": "code",
   "execution_count": null,
   "id": "a5f120da-9b54-4732-bdb9-8b4707fe5163",
   "metadata": {},
   "outputs": [],
   "source": [
    "import numpy as np"
   ]
  },
  {
   "attachments": {},
   "cell_type": "markdown",
   "id": "d2c55c1c-c588-40e5-ae01-c476a1c2616e",
   "metadata": {},
   "source": [
    "### Load data\n",
    "\n",
    "Load intensities **I** from the `intensities.npy` file and **q** values from the `q.txt` file."
   ]
  },
  {
   "cell_type": "code",
   "execution_count": null,
   "id": "65ad1400-1a67-4296-9245-d9aff895b012",
   "metadata": {},
   "outputs": [],
   "source": [
    "intensities = # TODO\n",
    "q = # TODO"
   ]
  },
  {
   "attachments": {},
   "cell_type": "markdown",
   "id": "c70d852d-470d-45d1-adc7-a6a23feb5854",
   "metadata": {},
   "source": [
    "### Plot data"
   ]
  },
  {
   "cell_type": "code",
   "execution_count": null,
   "id": "0bf81bd2-c96c-4d5f-b56e-c8c8b3e62bc5",
   "metadata": {},
   "outputs": [],
   "source": [
    "%matplotlib widget\n",
    "# This requires ipympl\n",
    "# Or for non-interactive plots: %matplotlib inline\n",
    "\n",
    "from matplotlib import pyplot as plt"
   ]
  },
  {
   "cell_type": "code",
   "execution_count": null,
   "id": "de4e08b6-9653-4072-af74-53eae161104f",
   "metadata": {},
   "outputs": [],
   "source": [
    "# Plot the intensities\n",
    "import matplotlib.colors as colors\n",
    "\n",
    "fig = plt.figure()\n",
    "#plt.imshow(intensities, norm=colors.LogNorm(), aspect=\"auto\")\n",
    "# Note: with latest version of matplotlib:\n",
    "plt.imshow(intensities, norm=\"log\", aspect=\"auto\")\n",
    "plt.colorbar()\n",
    "plt.xlabel('q index')\n",
    "plt.ylabel('Curve index')\n",
    "plt.title('Each row of that 2d array (image) is a 1d curve')\n"
   ]
  },
  {
   "cell_type": "code",
   "execution_count": null,
   "id": "ee50d53e-6f0c-4c5e-b4c7-dbd71e2ff2d0",
   "metadata": {},
   "outputs": [],
   "source": [
    "# Plot the curves 0 and 310\n",
    "fig = plt.figure()\n",
    "plt.plot(q, intensities[0],label=f\"Curve #0 (first row of the intensities array) - no sample\")\n",
    "plt.plot(q, intensities[310],label=f\"Curve #310 (311th row of the intensities array) - with sample\")\n",
    "plt.yscale(\"log\")  # Use logarithmic scale for y axis\n",
    "plt.xlabel(\"q\")\n",
    "plt.ylabel(\"Intensity\")\n",
    "plt.title(\"Intensity vs q\")\n",
    "plt.legend()"
   ]
  },
  {
   "attachments": {},
   "cell_type": "markdown",
   "id": "de96e9c6-5421-4d74-8b4d-9da68716cac2",
   "metadata": {},
   "source": [
    "## Part II"
   ]
  },
  {
   "attachments": {},
   "cell_type": "markdown",
   "id": "4961fad5-fe0b-4d6e-9663-228c630fb60c",
   "metadata": {
    "tags": []
   },
   "source": [
    "### Average of all azimuthal integrations\n",
    "\n",
    "Compute the averaged intensity over `intensities` for each value of `q`"
   ]
  },
  {
   "cell_type": "code",
   "execution_count": null,
   "id": "c7cc6842-9a08-4795-9402-4bd67ecb62a1",
   "metadata": {},
   "outputs": [],
   "source": [
    "intensities_mean = # TODO"
   ]
  },
  {
   "cell_type": "code",
   "execution_count": null,
   "id": "1d8c0a9b-6207-4e23-bfe7-acbfd2c533bb",
   "metadata": {},
   "outputs": [],
   "source": [
    "fig = plt.figure()\n",
    "plt.plot(q, intensities_mean)\n",
    "plt.xlabel(\"q\")\n",
    "plt.ylabel(\"I\")\n",
    "plt.yscale(\"log\")\n",
    "plt.title(\"Average intensity\")  # Add a title to the plot"
   ]
  },
  {
   "attachments": {},
   "cell_type": "markdown",
   "id": "9c2026c6-a04a-4ad5-92a4-5e473ce3dd3b",
   "metadata": {},
   "source": [
    "Note: This is not meaningful, the buffer and sample + buffer cases should be separated."
   ]
  },
  {
   "attachments": {},
   "cell_type": "markdown",
   "id": "3adff22d-4835-4f3c-935f-a06f71372e01",
   "metadata": {},
   "source": [
    "### Summed intensity of each azimuthal integration\n",
    "\n",
    "Compute the sum of each row of the `intensities` data"
   ]
  },
  {
   "cell_type": "code",
   "execution_count": null,
   "id": "f5709a87-068f-40d4-826a-c80a0f8de65d",
   "metadata": {},
   "outputs": [],
   "source": [
    "intensities_per_frame = # TODO"
   ]
  },
  {
   "cell_type": "code",
   "execution_count": null,
   "id": "f658ceb3-7267-4812-9e74-714156f00b86",
   "metadata": {},
   "outputs": [],
   "source": [
    "fig = plt.figure()\n",
    "plt.plot(intensities_per_frame)\n",
    "plt.xlabel(\"Frame ID\")\n",
    "plt.ylabel(\"I\")"
   ]
  },
  {
   "attachments": {},
   "cell_type": "markdown",
   "id": "37949d27-0a36-488b-b230-df7765a6f286",
   "metadata": {},
   "source": [
    "## Part III"
   ]
  },
  {
   "attachments": {},
   "cell_type": "markdown",
   "id": "de3ad40e-97b1-4ef9-aae7-168117aad0a0",
   "metadata": {
    "tags": []
   },
   "source": [
    "### Separate sample + buffer from buffer only\n",
    "\n",
    "Select buffer and sample + buffer intensities by using a threshold over `intensities_per_frame`."
   ]
  },
  {
   "cell_type": "code",
   "execution_count": null,
   "id": "e8e50575-4787-4f3d-8bcf-3269e995ff60",
   "metadata": {},
   "outputs": [],
   "source": [
    "buffer = # TODO"
   ]
  },
  {
   "cell_type": "code",
   "execution_count": null,
   "id": "ef721cb8-848e-4345-a589-1e1f7b996165",
   "metadata": {},
   "outputs": [],
   "source": [
    "sample_buffer = # TODO"
   ]
  },
  {
   "cell_type": "code",
   "execution_count": null,
   "id": "68ebb11c-30ea-4c7c-a39f-2c6db5b12152",
   "metadata": {},
   "outputs": [],
   "source": [
    "print(\"buffer shape:\", buffer.shape, \"sample_buffer shape:\", sample_buffer.shape)"
   ]
  },
  {
   "attachments": {},
   "cell_type": "markdown",
   "id": "51fa7126-33b6-4fb2-8fa9-0c5b427325ba",
   "metadata": {},
   "source": [
    "### Average sample + buffer and buffer intensities\n",
    "\n",
    "Compute the average of azimuthal integrations of `buffer` for each `q`."
   ]
  },
  {
   "cell_type": "code",
   "execution_count": null,
   "id": "0636c039-4cce-429a-987f-82d537649147",
   "metadata": {},
   "outputs": [],
   "source": [
    "buffer_mean = # TODO"
   ]
  },
  {
   "attachments": {},
   "cell_type": "markdown",
   "id": "93b16a5e-466a-4a7f-8da5-6b591bf6c3ce",
   "metadata": {},
   "source": [
    "Do the same for `sample_buffer`."
   ]
  },
  {
   "cell_type": "code",
   "execution_count": null,
   "id": "d0c70ba4-5a50-4502-8574-cf8ed9034cd1",
   "metadata": {},
   "outputs": [],
   "source": [
    "sample_buffer_mean = # TODO"
   ]
  },
  {
   "cell_type": "code",
   "execution_count": null,
   "id": "bce0ac5a-dd75-49e6-bf22-ebae55ee1aad",
   "metadata": {},
   "outputs": [],
   "source": [
    "fig = plt.figure()\n",
    "plt.plot(q, buffer_mean, \"black\", q, sample_buffer_mean, \"red\")\n",
    "plt.title(\"buffer and sample + buffer average\")\n",
    "plt.xlabel(\"q\")\n",
    "plt.ylabel(\"I\")\n",
    "plt.yscale(\"log\")"
   ]
  },
  {
   "attachments": {},
   "cell_type": "markdown",
   "id": "13476124-7e14-4a6a-a49f-1f3b02dd1a6f",
   "metadata": {},
   "source": [
    "### Remove buffer background\n",
    "\n",
    "Compute the different between `sample_buffer_mean` and `buffer_mean`."
   ]
  },
  {
   "cell_type": "code",
   "execution_count": null,
   "id": "cb0b0b43-8ccd-4d32-8eca-598ce983b2ee",
   "metadata": {},
   "outputs": [],
   "source": [
    "sample = # TODO"
   ]
  },
  {
   "cell_type": "code",
   "execution_count": null,
   "id": "918b0ac9-c6dd-459d-b28c-762509fe541b",
   "metadata": {},
   "outputs": [],
   "source": [
    "fig = plt.figure()\n",
    "plt.plot(q, sample)\n",
    "plt.yscale(\"log\")"
   ]
  },
  {
   "attachments": {},
   "cell_type": "markdown",
   "id": "dbc81e5b-19b4-4aac-8648-7e8b67f3c9e0",
   "metadata": {},
   "source": [
    "## Solution\n",
    "\n",
    "<details><summary>...</summary>\n",
    "\n",
    "    \n",
    "```python\n",
    "# Part I\n",
    "\n",
    "import numpy as np\n",
    "\n",
    "# Load data\n",
    "intensities = np.load(\"intensities.npy\")\n",
    "q = np.loadtxt(\"q.txt\")\n",
    "\n",
    "# Part II\n",
    "\n",
    "# Average of all azimuthal integrations\n",
    "intensities_mean = np.mean(intensities, axis=0)\n",
    "\n",
    "# Summed intensity of each azimuthal integration\n",
    "intensities_per_frame = np.sum(intensities, axis=1)\n",
    "\n",
    "# Part III\n",
    "\n",
    "# Separate sample + buffer from buffer only\n",
    "# 1. with thresholds\n",
    "buffer_mask = intensities_per_frame < 32500\n",
    "buffer = intensities[buffer_mask]\n",
    "sample_buffer_mask = frames_intensities > 33000\n",
    "sample_buffer = intensities[sample_buffer_mask]\n",
    "# 2. With slicing\n",
    "buffer = intensities[:200]\n",
    "sample_buffer = intensities[270:340]\n",
    "\n",
    "# Average sample + buffer and buffer intensities\n",
    "buffer_mean = np.mean(buffer, axis=0)\n",
    "sample_buffer_mean = np.mean(sample_buffer, axis=0)\n",
    "\n",
    "# Remove buffer background\n",
    "sample = sample_buffer_mean - buffer_mean\n",
    "```\n",
    "    \n",
    "</details>"
   ]
  }
 ],
 "metadata": {
  "language_info": {
   "name": "python"
  }
 },
 "nbformat": 4,
 "nbformat_minor": 5
}
