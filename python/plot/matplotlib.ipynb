{
 "cells": [
  {
   "cell_type": "markdown",
   "id": "633d13e1-3f41-4b38-9167-0245aed59103",
   "metadata": {
    "editable": true,
    "slideshow": {
     "slide_type": "slide"
    },
    "tags": []
   },
   "source": [
    "# Plotting in python - tools\n",
    "\n",
    "For plenty of reasons you might need to plot data of any dimension\n",
    "\n",
    "* [Matplotlib](https://matplotlib.org/) is a 2D plotting library for Python that enables the creation of a wide variety of plots and charts.\n",
    "    * The library is highly customizable, allowing you to adjust visual elements like colors, fonts, labels, and more.\n",
    "    * widly used and with a large community"
   ]
  },
  {
   "cell_type": "markdown",
   "id": "b8db012a-a3b4-4d86-a3fb-aafd2feece84",
   "metadata": {
    "editable": true,
    "slideshow": {
     "slide_type": "fragment"
    },
    "tags": []
   },
   "source": [
    "Other tools can be used like\n",
    "* [seaborn](https://seaborn.pydata.org/) -> add one top level layer to matplotlib. \n",
    "* [plotly](https://plotly.com/) / [bokeh](https://bokeh.org/)-> oriented web-browser (like for jupyterlab notebook)"
   ]
  },
  {
   "cell_type": "markdown",
   "id": "01f2bb48-0729-4f6e-be59-ca9e8c21338b",
   "metadata": {
    "editable": true,
    "slideshow": {
     "slide_type": "slide"
    },
    "tags": []
   },
   "source": [
    "## Getting Started"
   ]
  },
  {
   "cell_type": "markdown",
   "id": "dd22a3e4-da64-4b11-a86e-edf582c8816f",
   "metadata": {
    "editable": true,
    "slideshow": {
     "slide_type": "fragment"
    },
    "tags": []
   },
   "source": [
    "To begin using Matplotlib, you need to install it using\n",
    "```bash\n",
    "pip install matplotlib\n",
    "```"
   ]
  },
  {
   "cell_type": "markdown",
   "id": "9ecf56d0-461c-4d34-ae84-9c5d3af7c252",
   "metadata": {
    "editable": true,
    "slideshow": {
     "slide_type": "fragment"
    },
    "tags": []
   },
   "source": [
    "Integration in the notebooks can be enabled using %matplotlib magic."
   ]
  },
  {
   "cell_type": "code",
   "execution_count": null,
   "id": "1a8aa8d5-ac3a-493c-81a8-114b5a878eb0",
   "metadata": {
    "editable": true,
    "slideshow": {
     "slide_type": "fragment"
    },
    "tags": []
   },
   "outputs": [],
   "source": [
    "%matplotlib inline\n",
    "# %matplotlib widget (for interactive plots, but requires the ipympl package)\n",
    "# %matplotlib nbagg\n",
    "\n",
    "from matplotlib import pyplot as plt"
   ]
  },
  {
   "cell_type": "markdown",
   "id": "63152128-09d1-401b-8815-327469534175",
   "metadata": {
    "editable": true,
    "slideshow": {
     "slide_type": "slide"
    },
    "tags": []
   },
   "source": [
    "## Basic plotting"
   ]
  },
  {
   "cell_type": "code",
   "execution_count": null,
   "id": "82cb516b-03a0-442b-a0ff-4e61b8a8820c",
   "metadata": {
    "editable": true,
    "slideshow": {
     "slide_type": "fragment"
    },
    "tags": []
   },
   "outputs": [],
   "source": [
    "import matplotlib.pyplot as plt\n",
    "\n",
    "plt.plot([1, 2, 3, 4], [10, 20, 25, 30])  # x and y data\n",
    "plt.show()  # Displays the plot"
   ]
  },
  {
   "cell_type": "markdown",
   "id": "36dafd32-24eb-4d34-9bf7-20ec20980f83",
   "metadata": {
    "editable": true,
    "slideshow": {
     "slide_type": "subslide"
    },
    "tags": []
   },
   "source": [
    "### customizing plots\n",
    "\n",
    "You can customize plots with titles, axis labels, gridlines, and legends using functions like `plt.title()`, `plt.xlabel()`, `plt.ylabel()`, `yscale`, and `plt.legend()`"
   ]
  },
  {
   "cell_type": "code",
   "execution_count": null,
   "id": "95fc38c1-f030-4053-8de3-ed14e5db0f79",
   "metadata": {
    "editable": true,
    "slideshow": {
     "slide_type": "fragment"
    },
    "tags": []
   },
   "outputs": [],
   "source": [
    "plt.plot([1, 2, 3, 4], [10, 100, 250, 500])\n",
    "plt.title(\"My First Plot\")\n",
    "plt.xlabel(\"X-axis\")\n",
    "plt.ylabel(\"my Y-axis\")\n",
    "plt.yscale(\"log\")\n",
    "plt.grid(True)\n",
    "plt.show()"
   ]
  },
  {
   "cell_type": "markdown",
   "id": "8813a24d-38fa-4199-a80c-d183f60c743b",
   "metadata": {
    "editable": true,
    "slideshow": {
     "slide_type": "subslide"
    },
    "tags": []
   },
   "source": [
    "### bar plots"
   ]
  },
  {
   "cell_type": "code",
   "execution_count": null,
   "id": "b00fe531-6507-48a8-8dca-67230c10b747",
   "metadata": {
    "editable": true,
    "slideshow": {
     "slide_type": "fragment"
    },
    "tags": []
   },
   "outputs": [],
   "source": [
    "categories = [\"A\", \"B\", \"C\"]\n",
    "values = [3, 7, 2]\n",
    "plt.bar(categories, values)\n",
    "plt.show()"
   ]
  },
  {
   "cell_type": "markdown",
   "id": "17c37383-bbc0-4c90-a282-3753cb4e3227",
   "metadata": {
    "editable": true,
    "slideshow": {
     "slide_type": "subslide"
    },
    "tags": []
   },
   "source": [
    "### scatter plots"
   ]
  },
  {
   "cell_type": "code",
   "execution_count": null,
   "id": "b27fe152-563d-4ba5-abdd-de2b84764b91",
   "metadata": {
    "editable": true,
    "slideshow": {
     "slide_type": "fragment"
    },
    "tags": []
   },
   "outputs": [],
   "source": [
    "x = [1, 2, 3, 4]\n",
    "y = [10, 20, 25, 30]\n",
    "plt.scatter(x, y)\n",
    "plt.show()"
   ]
  },
  {
   "cell_type": "markdown",
   "id": "0654dab2-a952-48b6-8a52-7e987971264c",
   "metadata": {
    "editable": true,
    "slideshow": {
     "slide_type": "subslide"
    },
    "tags": []
   },
   "source": [
    "### histogram"
   ]
  },
  {
   "cell_type": "code",
   "execution_count": null,
   "id": "c34fdf70-c2c7-4ccd-abc7-13594ad1be44",
   "metadata": {
    "editable": true,
    "slideshow": {
     "slide_type": "fragment"
    },
    "tags": []
   },
   "outputs": [],
   "source": [
    "data = [1, 2, 2, 3, 3, 3, 4, 4, 5]\n",
    "plt.hist(data, bins=5)\n",
    "plt.show()"
   ]
  },
  {
   "cell_type": "markdown",
   "id": "06ef1f89-5007-459a-b518-6a2b9aacc4e1",
   "metadata": {
    "editable": true,
    "slideshow": {
     "slide_type": "subslide"
    },
    "tags": []
   },
   "source": [
    "## Exercise 1\n",
    "\n",
    "Create a plot that shows both a sine and a cosine curve on the same axes. The x-axis should range from 0 to $2{\\pi}$, and the y-axis should represent the sine and cosine values.\n",
    "\n",
    "1. Load data contained in `data/spectrum.txt` (using `numpy.loadtxt`)\n",
    "2. Extract `energy` and `mu` as two 1D numpy arrays of ... points\n",
    "3. Plot `mu` values according to `energy`\n",
    "4. Add labels for the x-axis, y-axis, a title for the plot, and a legend to distinguish the two curves."
   ]
  },
  {
   "cell_type": "code",
   "execution_count": null,
   "id": "4c179de4-103d-4817-8df9-82fd97de00b7",
   "metadata": {},
   "outputs": [],
   "source": [
    "# TODO"
   ]
  },
  {
   "cell_type": "markdown",
   "id": "b967570f-ed33-4432-8f10-14a67504a660",
   "metadata": {
    "editable": true,
    "slideshow": {
     "slide_type": "subslide"
    },
    "tags": []
   },
   "source": [
    "## saving plots"
   ]
  },
  {
   "cell_type": "code",
   "execution_count": null,
   "id": "363bb48e-6c35-4820-a81d-7d2f35df41c2",
   "metadata": {
    "editable": true,
    "slideshow": {
     "slide_type": "fragment"
    },
    "tags": []
   },
   "outputs": [],
   "source": [
    "plt.plot([1, 2, 3, 4], [10, 20, 25, 30])\n",
    "plt.savefig(\"my_plot.png\")"
   ]
  },
  {
   "cell_type": "markdown",
   "id": "be81bfb0-d671-462e-b896-f0bfa7af83bd",
   "metadata": {
    "editable": true,
    "slideshow": {
     "slide_type": "subslide"
    },
    "tags": []
   },
   "source": [
    "## subplots\n",
    "\n",
    "You can create multiple plots in a single figure using plt.subplot()."
   ]
  },
  {
   "cell_type": "code",
   "execution_count": null,
   "id": "7f76f69d-dcf3-44ee-9042-aab45186de1a",
   "metadata": {
    "editable": true,
    "slideshow": {
     "slide_type": "fragment"
    },
    "tags": []
   },
   "outputs": [],
   "source": [
    "plt.subplot(1, 2, 1)  # 1 row, 2 columns, first plot\n",
    "plt.plot([1, 2, 3, 4], [10, 20, 25, 30])\n",
    "plt.subplot(1, 2, 2)  # 1 row, 2 columns, second plot\n",
    "plt.bar([\"A\", \"B\", \"C\"], [3, 7, 2])\n",
    "plt.show()"
   ]
  },
  {
   "cell_type": "markdown",
   "id": "74612322-8440-476f-bd76-1ce1919a4614",
   "metadata": {
    "editable": true,
    "slideshow": {
     "slide_type": "slide"
    },
    "tags": []
   },
   "source": [
    "## Advanced customizations"
   ]
  },
  {
   "cell_type": "markdown",
   "id": "363e3d5c-e95a-4d8b-8174-312d86a1437e",
   "metadata": {
    "editable": true,
    "slideshow": {
     "slide_type": "subslide"
    },
    "tags": []
   },
   "source": [
    "### plot style"
   ]
  },
  {
   "cell_type": "markdown",
   "id": "b3a1c530-ead2-428a-85c5-3f3b149cb284",
   "metadata": {
    "editable": true,
    "slideshow": {
     "slide_type": "subslide"
    },
    "tags": []
   },
   "source": [
    "### markers and annotations"
   ]
  },
  {
   "cell_type": "markdown",
   "id": "00dc9bd5-d59a-49fa-bd8b-5f6814f064d6",
   "metadata": {
    "editable": true,
    "slideshow": {
     "slide_type": "subslide"
    },
    "tags": []
   },
   "source": [
    "### themes"
   ]
  },
  {
   "cell_type": "markdown",
   "id": "800058d2-2a48-413c-85f9-a08f0ddad667",
   "metadata": {
    "editable": true,
    "slideshow": {
     "slide_type": "subslide"
    },
    "tags": []
   },
   "source": [
    "## Exercise 2\n",
    "\n",
    "From `data/spectrum.txt` create the following plots:\n",
    "![result](img/plot_result.png)\n",
    "\n",
    "note: `spectrum.txt` contains the following columns: energy, mu, normalized energy, pre_edge, post_edge\n",
    "\n",
    "pre-edge is displayed in orange, post-edge in green. E0 value is ~8981"
   ]
  },
  {
   "cell_type": "code",
   "execution_count": null,
   "id": "15969987-7bf6-403c-8d03-b0a0f9e31979",
   "metadata": {},
   "outputs": [],
   "source": []
  }
 ],
 "metadata": {
  "kernelspec": {
   "display_name": "Python 3 (ipykernel)",
   "language": "python",
   "name": "python3"
  },
  "language_info": {
   "codemirror_mode": {
    "name": "ipython",
    "version": 3
   },
   "file_extension": ".py",
   "mimetype": "text/x-python",
   "name": "python",
   "nbconvert_exporter": "python",
   "pygments_lexer": "ipython3",
   "version": "3.12.3"
  }
 },
 "nbformat": 4,
 "nbformat_minor": 5
}
