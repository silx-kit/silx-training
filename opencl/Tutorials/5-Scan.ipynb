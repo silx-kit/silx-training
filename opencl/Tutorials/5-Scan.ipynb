{
 "cells": [
  {
   "attachments": {},
   "cell_type": "markdown",
   "id": "06d17a7a-6770-4400-80bf-1a3861d4eeb4",
   "metadata": {
    "editable": true,
    "slideshow": {
     "slide_type": "slide"
    },
    "tags": []
   },
   "source": [
    "# GPU programming using PyOpenCL, part 5: Scan\n",
    "\n",
    "This is a set of exercises on the usage of PyOpenCL. There are 6 main classes of parallel algorithms:\n",
    "1. Map or Element-wise kernels: 1 thread calculates 1 result from 1 input position\n",
    "2. Gather: 1 thread calculates 1 result from several input data, one typical example is the convolution\n",
    "3. Scatter: 1 thread uses 1 input element and scatters it on one or several output pixels, this requires the usage of atomic operarions\n",
    "4. Reduction: Apply the same associative operation on all element of an ensemble, for example the sum of all elements in a list.\n",
    "5. Scan: also called *prefix sum*, this algorithm applies the same associative operation to all *previous* elements of a list, for example a cummulative sum (cumsum)\n",
    "6. Sort: using sorting network like the bitonic sort.\n",
    "\n",
    "This fith tutorial focuses on the **Scan** operation where one applies the same associative operation to all element previously in the input array. \n",
    "The result is an array with as many elements as the input array!\n",
    "\n",
    "\n",
    "\n"
   ]
  },
  {
   "cell_type": "markdown",
   "id": "39c4f57e-db48-4a23-b313-e7ac3d91c54f",
   "metadata": {
    "editable": true,
    "slideshow": {
     "slide_type": "subslide"
    },
    "tags": []
   },
   "source": [
    "Two main algorithms exists: \n",
    "\n",
    "* [Hillis and Steele](https://en.wikipedia.org/wiki/Prefix_sum?Parallel%20algorithms#Algorithm_1:_Shorter_span,_more_parallel)\n",
    "\n",
    " ![Hillis and Steele](Hillis_Steele.svg)\n",
    "\n"
   ]
  },
  {
   "cell_type": "markdown",
   "id": "41d69ecb-842a-4552-a4fc-791c81e8bf9b",
   "metadata": {
    "editable": true,
    "slideshow": {
     "slide_type": "subslide"
    },
    "tags": []
   },
   "source": [
    "* [Blelloch](https://en.wikipedia.org/wiki/Prefix_sum?Parallel%20algorithms#Algorithm_2:_Work-efficient)\n",
    "\n",
    " ![Blelloch](Prefix_sum_16.svg)\n",
    "  \n",
    "\n",
    "The later algorithm is similar to the reduction algorythm applied twice. Dues to the limited time, this algorithm will only be demonstrated using metaprogramming."
   ]
  },
  {
   "cell_type": "code",
   "execution_count": null,
   "id": "d44425e3-cca1-4afb-98c8-6b21d08d1ac6",
   "metadata": {
    "editable": true,
    "slideshow": {
     "slide_type": "subslide"
    },
    "tags": []
   },
   "outputs": [],
   "source": [
    "import numpy as np\n",
    "import pyopencl as cl\n",
    "from pyopencl import array as cla\n",
    "ctx = cl.create_some_context(interactive=False)\n",
    "queue = cl.CommandQueue(ctx, properties=cl.command_queue_properties.PROFILING_ENABLE)\n",
    "\n",
    "size = 1000\n",
    "a = np.random.randint(0, 100, size=size).astype(\"int32\")\n",
    "a_d = cla.to_device(queue, a)\n",
    "out_d = cla.empty_like(a_d)\n",
    "\n",
    "print(ctx.devices[0])\n",
    "# %load_ext pyopencl.ipython_ext"
   ]
  },
  {
   "cell_type": "code",
   "execution_count": null,
   "id": "90618651-bfd2-4d96-9204-919241fb5dbb",
   "metadata": {
    "editable": true,
    "slideshow": {
     "slide_type": "fragment"
    },
    "tags": []
   },
   "outputs": [],
   "source": [
    "from pyopencl.scan import GenericScanKernel\n",
    "cumsum = GenericScanKernel(ctx, np.int32,\n",
    "                            arguments=\"__global int *ary, __global int *out\",\n",
    "                            input_expr=\"ary[i]\",\n",
    "                            scan_expr=\"a+b\", \n",
    "                            neutral=\"0\",\n",
    "                            output_statement=\"out[i] = item;\")\n",
    "\n",
    "cumsum(a_d, out_d)\n",
    "assert np.allclose(out_d.get(), np.cumsum(a))"
   ]
  },
  {
   "cell_type": "code",
   "execution_count": null,
   "id": "6b8c7286-85b8-4f55-afb7-7fda0ba649d1",
   "metadata": {
    "editable": true,
    "slideshow": {
     "slide_type": ""
    },
    "tags": []
   },
   "outputs": [],
   "source": []
  },
  {
   "cell_type": "markdown",
   "id": "1afcfed6-27ba-4679-85e6-de17a51a348f",
   "metadata": {
    "editable": true,
    "slideshow": {
     "slide_type": "slide"
    },
    "tags": []
   },
   "source": [
    "## Now it is your turn: Sparsification kernel\n",
    "\n",
    "Write a sparsification kernel that takes one input and two outputs: *index* and *data*.\n",
    "The input array has many zeros, if the value of an element is not null, save the position in the *index* and its value in the *data* array."
   ]
  },
  {
   "cell_type": "code",
   "execution_count": null,
   "id": "1fbea999-0b83-4558-a5da-9b9d749dedaf",
   "metadata": {
    "editable": true,
    "slideshow": {
     "slide_type": "subslide"
    },
    "tags": []
   },
   "outputs": [],
   "source": [
    "size = 1<<24\n",
    "nnz = 10\n",
    "all_idx = np.arange(size)\n",
    "np.random.shuffle(all_idx)\n",
    "index = all_idx[:nnz]\n",
    "index.sort()\n",
    "values = np.random.poisson(10, size=nnz)\n",
    "dense = np.zeros(size, dtype=\"int32\")\n",
    "dense[index] = values"
   ]
  },
  {
   "cell_type": "code",
   "execution_count": null,
   "id": "8e774168-8c77-4d17-98e5-b9109f3dfa1b",
   "metadata": {
    "editable": true,
    "slideshow": {
     "slide_type": "skip"
    },
    "tags": []
   },
   "outputs": [],
   "source": [
    "dense_d = cla.to_device(queue, dense)\n",
    "index_d = cla.zeros_like(dense_d)\n",
    "values_d = cla.zeros_like(dense_d)\n",
    "\n",
    "sparsify = GenericScanKernel(ctx, np.int32,\n",
    "                             arguments=\"__global int *dense, __global int *index, __global int *values\",\n",
    "                             input_expr=\"(dense[i] > 00) ? 1 : 0\",\n",
    "                             scan_expr=\"a+b\", \n",
    "                             neutral=\"0\",\n",
    "                             output_statement=\"if (prev_item != item) {index[item-1] = i; values[item-1] = dense[i];};\")\n",
    "\n",
    "evt = sparsify(dense_d, index_d, values_d)\n",
    "evt.wait()\n",
    "print(f\"Profile time: {(evt.profile.end-evt.profile.start)*1e-6:.3f}ms\")\n",
    "assert np.allclose(index, index_d.get()[:nnz])\n",
    "assert np.allclose(values_d.get()[:nnz], values)"
   ]
  },
  {
   "cell_type": "code",
   "execution_count": null,
   "id": "e66931da-1e50-4057-8ab0-32a5059530f6",
   "metadata": {
    "editable": true,
    "slideshow": {
     "slide_type": ""
    },
    "tags": []
   },
   "outputs": [],
   "source": []
  },
  {
   "cell_type": "markdown",
   "id": "c5bd3aef-a437-4acd-bd75-11c745ed65b4",
   "metadata": {
    "editable": true,
    "slideshow": {
     "slide_type": "slide"
    },
    "tags": []
   },
   "source": [
    "## More difficult exercise:\n",
    "\n",
    "Write a byte-offset algorithm that substract the previous value from the current and stores the results on:\n",
    "* 1 byte if the value is between -127 and 127\n",
    "* 3 bytes (-128+value on 2 bytes little endian) if the difference value is between -32767 and 32767\n",
    "* 7 bytes (-128, -128, 0 + value on 4 bytes little endian) if the difference value is larger.\n",
    "\n",
    "This algorithm is used by Pilatus detector to compress the data before saving, it offers a factor 4 for compression."
   ]
  },
  {
   "cell_type": "code",
   "execution_count": null,
   "id": "b200ba8a-10d8-4dd8-a8f2-142023a948d9",
   "metadata": {
    "editable": true,
    "slideshow": {
     "slide_type": "fragment"
    },
    "tags": []
   },
   "outputs": [],
   "source": [
    "import numpy as np\n",
    "size = 100\n",
    "ary = np.random.poisson(100, size=size)"
   ]
  },
  {
   "cell_type": "code",
   "execution_count": null,
   "id": "1d144481-d1df-4e6b-b5e3-3dbc09b96967",
   "metadata": {
    "editable": true,
    "slideshow": {
     "slide_type": "subslide"
    },
    "tags": []
   },
   "outputs": [],
   "source": [
    "import numpy\n",
    "def compByteOffset_numpy(data):\n",
    "    \"\"\"\n",
    "    Compress a dataset into a string using the byte_offet algorithm\n",
    "\n",
    "    :param data: ndarray\n",
    "    :return: string/bytes with compressed data\n",
    "\n",
    "    test = numpy.array([0,1,2,127,0,1,2,128,0,1,2,32767,0,1,2,32768,0,1,2,2147483647,0,1,2,2147483648,0,1,2,128,129,130,32767,32768,128,129,130,32768,2147483647,2147483648])\n",
    "\n",
    "    \"\"\"\n",
    "    flat = numpy.ascontiguousarray(data.ravel(), numpy.int64)\n",
    "    delta = numpy.zeros_like(flat)\n",
    "    delta[0] = flat[0]\n",
    "    delta[1:] = flat[1:] - flat[:-1]\n",
    "    mask = abs(delta) > 127\n",
    "    exceptions = numpy.nonzero(mask)[0]\n",
    "    if numpy.little_endian:\n",
    "        byteswap = False\n",
    "    else:\n",
    "        byteswap = True\n",
    "    start = 0\n",
    "    binary_blob = b\"\"\n",
    "    for stop in exceptions:\n",
    "        if stop - start > 0:\n",
    "            binary_blob += delta[start:stop].astype(numpy.int8).tobytes()\n",
    "        exc = delta[stop]\n",
    "        absexc = abs(exc)\n",
    "        if absexc > 2147483647:  # 2**31-1\n",
    "            binary_blob += b\"\\x80\\x00\\x80\\x00\\x00\\x00\\x80\"\n",
    "            if byteswap:\n",
    "                binary_blob += delta[stop:stop + 1].byteswap().tobytes()\n",
    "            else:\n",
    "                binary_blob += delta[stop:stop + 1].tobytes()\n",
    "        elif absexc > 32767:  # 2**15-1\n",
    "            binary_blob += b\"\\x80\\x00\\x80\"\n",
    "            if byteswap:\n",
    "                binary_blob += delta[stop:stop + 1].astype(numpy.int32).byteswap().tobytes()\n",
    "            else:\n",
    "                binary_blob += delta[stop:stop + 1].astype(numpy.int32).tobytes()\n",
    "        else:  # >127\n",
    "            binary_blob += b\"\\x80\"\n",
    "            if byteswap:\n",
    "                binary_blob += delta[stop:stop + 1].astype(numpy.int16).byteswap().tobytes()\n",
    "            else:\n",
    "                binary_blob += delta[stop:stop + 1].astype(numpy.int16).tobytes()\n",
    "        start = stop + 1\n",
    "    if start < delta.size:\n",
    "        binary_blob += delta[start:].astype(numpy.int8).tobytes()\n",
    "    return numpy.frombuffer(binary_blob, \"int8\")"
   ]
  },
  {
   "cell_type": "code",
   "execution_count": null,
   "id": "94966fc4-9d25-4d36-93a1-b5929f518e3f",
   "metadata": {
    "editable": true,
    "slideshow": {
     "slide_type": "fragment"
    },
    "tags": []
   },
   "outputs": [],
   "source": [
    "ref = compByteOffset_numpy(ary)"
   ]
  },
  {
   "cell_type": "code",
   "execution_count": null,
   "id": "5823dab8-09b4-430d-a3c2-ce3cd169bc98",
   "metadata": {
    "editable": true,
    "slideshow": {
     "slide_type": "fragment"
    },
    "tags": []
   },
   "outputs": [],
   "source": [
    "ref"
   ]
  },
  {
   "cell_type": "code",
   "execution_count": null,
   "id": "551dde33-25e8-406c-b0d1-d00475b0ccc6",
   "metadata": {
    "editable": true,
    "slideshow": {
     "slide_type": ""
    },
    "tags": []
   },
   "outputs": [],
   "source": []
  }
 ],
 "metadata": {
  "kernelspec": {
   "display_name": "Python 3 (ipykernel)",
   "language": "python",
   "name": "python3"
  },
  "language_info": {
   "codemirror_mode": {
    "name": "ipython",
    "version": 3
   },
   "file_extension": ".py",
   "mimetype": "text/x-python",
   "name": "python",
   "nbconvert_exporter": "python",
   "pygments_lexer": "ipython3",
   "version": "3.11.2"
  }
 },
 "nbformat": 4,
 "nbformat_minor": 5
}
