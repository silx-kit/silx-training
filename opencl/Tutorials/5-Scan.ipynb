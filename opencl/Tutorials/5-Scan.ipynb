{
 "cells": [
  {
   "attachments": {},
   "cell_type": "markdown",
   "id": "06d17a7a-6770-4400-80bf-1a3861d4eeb4",
   "metadata": {},
   "source": [
    "# GPU programming using PyOpenCL, part 5: Scan\n",
    "\n",
    "This is a set of exercises on the usage of PyOpenCL. There are 6 main classes of parallel algorithms:\n",
    "1. Map or Element-wise kernels: 1 thread calculates 1 result from 1 input position\n",
    "2. Gather: 1 thread calculates 1 result from several input data, one typical example is the convolution\n",
    "3. Scatter: 1 thread uses 1 input element and scatters it on one or several output pixels, this requires the usage of atomic operarions\n",
    "4. Reduction: Apply the same associative operation on all element of an ensemble, for example the sum of all elements in a list.\n",
    "5. Scan: also called *prefix sum*, this algorithm applies the same associative operation to all *previous* elements of a list, for example a cummulative sum (cumsum)\n",
    "6. Sort: using sorting network like the bitonic sort.\n",
    "\n",
    "This fith tutorial focuses on the **Scan** operation where one applies the same associative operation to all element previously in the input array. \n",
    "The result is an array with as many elements as the input array!\n",
    "\n",
    "\n",
    "\n",
    "Two main algorithms exists: \n",
    "\n",
    "* [Hillis and Steele](https://en.wikipedia.org/wiki/Prefix_sum?Parallel%20algorithms#Algorithm_1:_Shorter_span,_more_parallel)\n",
    "\n",
    " ![Hillis and Steele](Hillis_Steele.svg)\n",
    "\n",
    "* [Blelloch](https://en.wikipedia.org/wiki/Prefix_sum?Parallel%20algorithms#Algorithm_2:_Work-efficient)\n",
    "\n",
    " ![Blelloch](Prefix_sum_16.svg)\n",
    "  \n",
    "\n",
    "The later algorithm is similar to the reduction algorythm applies twice. Dues to the limited time, this algorithm will only be demonstrates using metaprogramming."
   ]
  },
  {
   "cell_type": "code",
   "execution_count": 1,
   "id": "d44425e3-cca1-4afb-98c8-6b21d08d1ac6",
   "metadata": {},
   "outputs": [
    {
     "name": "stdout",
     "output_type": "stream",
     "text": [
      "<pyopencl.Device 'NVIDIA RTX A5000' on 'NVIDIA CUDA' at 0x55651437fd50>\n"
     ]
    }
   ],
   "source": [
    "import numpy as np\n",
    "import pyopencl as cl\n",
    "from pyopencl import array as cla\n",
    "ctx = cl.create_some_context(interactive=False)\n",
    "queue = cl.CommandQueue(ctx, properties=cl.command_queue_properties.PROFILING_ENABLE)\n",
    "\n",
    "size = 1000\n",
    "a = np.random.randint(0, 100, size=size).astype(\"int32\")\n",
    "a_d = cla.to_device(queue, a)\n",
    "out_d = cla.empty_like(a_d)\n",
    "\n",
    "print(ctx.devices[0])\n",
    "# %load_ext pyopencl.ipython_ext"
   ]
  },
  {
   "cell_type": "code",
   "execution_count": 2,
   "id": "90618651-bfd2-4d96-9204-919241fb5dbb",
   "metadata": {},
   "outputs": [],
   "source": [
    "from pyopencl.scan import GenericScanKernel\n",
    "cumsum = GenericScanKernel(ctx, np.int32,\n",
    "                            arguments=\"__global int *ary, __global int *out\",\n",
    "                            input_expr=\"ary[i]\",\n",
    "                            scan_expr=\"a+b\", \n",
    "                            neutral=\"0\",\n",
    "                            output_statement=\"out[i] = item;\")\n",
    "\n",
    "cumsum(a_d, out_d)\n",
    "assert np.allclose(out_d.get(), np.cumsum(a))"
   ]
  },
  {
   "cell_type": "markdown",
   "id": "1afcfed6-27ba-4679-85e6-de17a51a348f",
   "metadata": {},
   "source": [
    "## Now it is your turn: Sparsification kernel\n",
    "\n",
    "Write a sparsification kernel that takes one input and two outputs: *index* and *data*.\n",
    "The input array has many zeros, if the value of an element is not null, save the position in the *index* and its value in the *data* array."
   ]
  },
  {
   "cell_type": "code",
   "execution_count": 3,
   "id": "1fbea999-0b83-4558-a5da-9b9d749dedaf",
   "metadata": {},
   "outputs": [],
   "source": [
    "size = 1<<24\n",
    "nnz = 10\n",
    "all_idx = np.arange(size)\n",
    "np.random.shuffle(all_idx)\n",
    "index = all_idx[:nnz]\n",
    "index.sort()\n",
    "values = np.random.poisson(10, size=nnz)\n",
    "dense = np.zeros(size, dtype=\"int32\")\n",
    "dense[index] = values"
   ]
  },
  {
   "cell_type": "code",
   "execution_count": 4,
   "id": "8e774168-8c77-4d17-98e5-b9109f3dfa1b",
   "metadata": {},
   "outputs": [
    {
     "name": "stdout",
     "output_type": "stream",
     "text": [
      "Profile time: 0.180ms\n"
     ]
    }
   ],
   "source": [
    "dense_d = cla.to_device(queue, dense)\n",
    "index_d = cla.zeros_like(dense_d)\n",
    "values_d = cla.zeros_like(dense_d)\n",
    "\n",
    "sparsify = GenericScanKernel(ctx, np.int32,\n",
    "                             arguments=\"__global int *dense, __global int *index, __global int *values\",\n",
    "                             input_expr=\"(dense[i] > 00) ? 1 : 0\",\n",
    "                             scan_expr=\"a+b\", \n",
    "                             neutral=\"0\",\n",
    "                             output_statement=\"if (prev_item != item) {index[item-1] = i; values[item-1] = dense[i];};\")\n",
    "\n",
    "evt = sparsify(dense_d, index_d, values_d)\n",
    "evt.wait()\n",
    "print(f\"Profile time: {(evt.profile.end-evt.profile.start)*1e-6:.3f}ms\")\n",
    "assert np.allclose(index, index_d.get()[:nnz])\n",
    "assert np.allclose(values_d.get()[:nnz], values)"
   ]
  },
  {
   "cell_type": "code",
   "execution_count": null,
   "id": "e66931da-1e50-4057-8ab0-32a5059530f6",
   "metadata": {},
   "outputs": [],
   "source": []
  },
  {
   "cell_type": "markdown",
   "id": "c5bd3aef-a437-4acd-bd75-11c745ed65b4",
   "metadata": {},
   "source": [
    "## More difficult exercise:\n",
    "\n",
    "Write a byte-offset algorithm that substract the previous value from the current and stores the results on:\n",
    "* 1 byte if the value is between -127 and 127\n",
    "* 3 bytes (-128+value on 2 bytes little endian) if the difference value is between -32767 and 32767\n",
    "* 7 bytes (-128, -128, 0 + value on 4 bytes little endian) if the difference value is larger.\n",
    "\n",
    "This algorithm is used by Pilatus detector to compress the data before saving, it offers a factor 4 for compression."
   ]
  },
  {
   "cell_type": "code",
   "execution_count": 5,
   "id": "b200ba8a-10d8-4dd8-a8f2-142023a948d9",
   "metadata": {},
   "outputs": [],
   "source": [
    "import numpy as np\n",
    "size = 100\n",
    "ary = np.random.poisson(100, size=size)"
   ]
  },
  {
   "cell_type": "code",
   "execution_count": 6,
   "id": "1d144481-d1df-4e6b-b5e3-3dbc09b96967",
   "metadata": {},
   "outputs": [],
   "source": [
    "import numpy\n",
    "def compByteOffset_numpy(data):\n",
    "    \"\"\"\n",
    "    Compress a dataset into a string using the byte_offet algorithm\n",
    "\n",
    "    :param data: ndarray\n",
    "    :return: string/bytes with compressed data\n",
    "\n",
    "    test = numpy.array([0,1,2,127,0,1,2,128,0,1,2,32767,0,1,2,32768,0,1,2,2147483647,0,1,2,2147483648,0,1,2,128,129,130,32767,32768,128,129,130,32768,2147483647,2147483648])\n",
    "\n",
    "    \"\"\"\n",
    "    flat = numpy.ascontiguousarray(data.ravel(), numpy.int64)\n",
    "    delta = numpy.zeros_like(flat)\n",
    "    delta[0] = flat[0]\n",
    "    delta[1:] = flat[1:] - flat[:-1]\n",
    "    mask = abs(delta) > 127\n",
    "    exceptions = numpy.nonzero(mask)[0]\n",
    "    if numpy.little_endian:\n",
    "        byteswap = False\n",
    "    else:\n",
    "        byteswap = True\n",
    "    start = 0\n",
    "    binary_blob = b\"\"\n",
    "    for stop in exceptions:\n",
    "        if stop - start > 0:\n",
    "            binary_blob += delta[start:stop].astype(numpy.int8).tobytes()\n",
    "        exc = delta[stop]\n",
    "        absexc = abs(exc)\n",
    "        if absexc > 2147483647:  # 2**31-1\n",
    "            binary_blob += b\"\\x80\\x00\\x80\\x00\\x00\\x00\\x80\"\n",
    "            if byteswap:\n",
    "                binary_blob += delta[stop:stop + 1].byteswap().tobytes()\n",
    "            else:\n",
    "                binary_blob += delta[stop:stop + 1].tobytes()\n",
    "        elif absexc > 32767:  # 2**15-1\n",
    "            binary_blob += b\"\\x80\\x00\\x80\"\n",
    "            if byteswap:\n",
    "                binary_blob += delta[stop:stop + 1].astype(numpy.int32).byteswap().tobytes()\n",
    "            else:\n",
    "                binary_blob += delta[stop:stop + 1].astype(numpy.int32).tobytes()\n",
    "        else:  # >127\n",
    "            binary_blob += b\"\\x80\"\n",
    "            if byteswap:\n",
    "                binary_blob += delta[stop:stop + 1].astype(numpy.int16).byteswap().tobytes()\n",
    "            else:\n",
    "                binary_blob += delta[stop:stop + 1].astype(numpy.int16).tobytes()\n",
    "        start = stop + 1\n",
    "    if start < delta.size:\n",
    "        binary_blob += delta[start:].astype(numpy.int8).tobytes()\n",
    "    return numpy.frombuffer(binary_blob, \"int8\")"
   ]
  },
  {
   "cell_type": "code",
   "execution_count": 7,
   "id": "94966fc4-9d25-4d36-93a1-b5929f518e3f",
   "metadata": {},
   "outputs": [],
   "source": [
    "ref = compByteOffset_numpy(ary)"
   ]
  },
  {
   "cell_type": "code",
   "execution_count": 8,
   "id": "5823dab8-09b4-430d-a3c2-ce3cd169bc98",
   "metadata": {},
   "outputs": [
    {
     "data": {
      "text/plain": [
       "array([104,  -5,   4,   3,   4, -12,  10, -13,  12,  -8,  -5,   5,  -7,\n",
       "         0,   2,  13, -10,   1,  -3,   1,  10,  -2, -14,   6,   1, -13,\n",
       "        12,   2,  -1, -14,  20,  -1,   2,  19, -43,  40, -30,  23, -13,\n",
       "         1,   2,  -5,  13, -30,  21,  -5,  11, -28,   5,  15,  10,  -1,\n",
       "         4,  -5,  -9,   2,  19, -23,  -8,  21,   0,  -4, -16,  19,  -7,\n",
       "        -3,   2,  -5,  12,  -3, -15,  10,  -4,  -1,   1,  -3,   1,  -1,\n",
       "         6,  -2,  19, -21, -11,  -1,  27,  -5, -10,   0,  -7,   9, -21,\n",
       "        34, -27,  20,  12, -22,  13, -11,  -2,   9], dtype=int8)"
      ]
     },
     "execution_count": 8,
     "metadata": {},
     "output_type": "execute_result"
    }
   ],
   "source": [
    "ref"
   ]
  },
  {
   "cell_type": "code",
   "execution_count": null,
   "id": "551dde33-25e8-406c-b0d1-d00475b0ccc6",
   "metadata": {},
   "outputs": [],
   "source": []
  }
 ],
 "metadata": {
  "kernelspec": {
   "display_name": "Python 3 (ipykernel)",
   "language": "python",
   "name": "python3"
  },
  "language_info": {
   "codemirror_mode": {
    "name": "ipython",
    "version": 3
   },
   "file_extension": ".py",
   "mimetype": "text/x-python",
   "name": "python",
   "nbconvert_exporter": "python",
   "pygments_lexer": "ipython3",
   "version": "3.11.0"
  }
 },
 "nbformat": 4,
 "nbformat_minor": 5
}
