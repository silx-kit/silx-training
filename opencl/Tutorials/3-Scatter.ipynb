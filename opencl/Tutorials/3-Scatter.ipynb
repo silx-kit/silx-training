{
 "cells": [
  {
   "cell_type": "markdown",
   "id": "da2cbaaa-6221-4ba4-9502-0bd702b89fcb",
   "metadata": {
    "editable": true,
    "slideshow": {
     "slide_type": "slide"
    },
    "tags": []
   },
   "source": [
    "# GPU programming using PyOpenCL, part 3: Scatter\n",
    "\n",
    "This is a set of exercises on the usage of PyOpenCL. There are 6 main classes of parallel algorithms:\n",
    "1. Map or Element-wise kernels: 1 thread calculates 1 result from 1 input position\n",
    "2. Gather: 1 thread calculates 1 result from several input data, one typical example is the convolution\n",
    "3. Scatter: 1 thread uses 1 input element and scatters it on one or several output pixels, this requires the usage of atomic operarions\n",
    "4. Reduction: Apply the same associative operation on all element of an ensemble, for example the sum of all elements in a list.\n",
    "5. Scan: also called prefix sum, this algorithm applies the same associative operation to all *previous* elements of a list, for example a cummulative sum (cumsum)\n",
    "6. Sort: using sorting network like the bitonic sort.\n",
    "\n",
    "This third tutorial focuses on the **Scatter** operation where one thread is writing information in different memory locations.\n",
    "While previously (in Map & Gather), the thread know it was the only one writting at a given position, here several threads are likely to write into the very same memory location at the same time, causing errors in the processing.\n",
    "To prevent such error, the writing should be performed using an **atomic** operation.\n",
    "\n",
    "There are 2 sections: an example of usage, followed by the direct application in an exercise to be done.\n",
    "\n",
    "* Count the number of occurance of each letter in a text.\n",
    "* Calculate the histogram of each color for an image\n",
    "\n",
    "First we load some python modules to be able to read and display images. Then we initialize OpenCL, a context, a command queue, ..."
   ]
  },
  {
   "cell_type": "code",
   "execution_count": null,
   "id": "be139b67-a968-4ebb-b96f-bb2fa937d2d9",
   "metadata": {
    "editable": true,
    "slideshow": {
     "slide_type": "slide"
    },
    "tags": []
   },
   "outputs": [],
   "source": [
    "from math import ceil\n",
    "import numpy as np\n",
    "import pyopencl as cl\n",
    "from pyopencl import array as cla\n",
    "ctx = cl.create_some_context(interactive=False)\n",
    "queue = cl.CommandQueue(ctx, properties=cl.command_queue_properties.PROFILING_ENABLE)\n",
    "\n",
    "print(ctx.devices[0])"
   ]
  },
  {
   "cell_type": "code",
   "execution_count": null,
   "id": "f106449c-0b56-48c6-9e3e-199e9cfbf122",
   "metadata": {
    "editable": true,
    "slideshow": {
     "slide_type": "fragment"
    },
    "tags": []
   },
   "outputs": [],
   "source": [
    "# Read a long text, here the OpenCL API !\n",
    "filename = \"OpenCL_API.html\"\n",
    "with open(filename) as f:\n",
    "    txt = f.read()\n",
    "txt = np.array([ord(i) for i in txt if ord(i)<256], \"uint8\")\n",
    "print(len(txt))"
   ]
  },
  {
   "cell_type": "code",
   "execution_count": null,
   "id": "272610e8-7d77-4bbb-8245-a8f35539cea9",
   "metadata": {
    "editable": true,
    "slideshow": {
     "slide_type": "fragment"
    },
    "tags": []
   },
   "outputs": [],
   "source": [
    "letters_d = cla.zeros(queue, 256, \"int32\")\n",
    "txt_d = cla.to_device(queue, txt)\n",
    "%load_ext pyopencl.ipython_ext"
   ]
  },
  {
   "cell_type": "code",
   "execution_count": null,
   "id": "c9bd1113-aed1-4129-af9c-83c7e6354c39",
   "metadata": {
    "editable": true,
    "slideshow": {
     "slide_type": "subslide"
    },
    "tags": []
   },
   "outputs": [],
   "source": [
    "%%cl_kernel\n",
    "kernel void count(global uchar* txt, global int* letters){\n",
    "    int idx = get_global_id(0);\n",
    "    atomic_inc(&letters[txt[idx]]);\n",
    "}"
   ]
  },
  {
   "cell_type": "code",
   "execution_count": null,
   "id": "541f83f7-73d7-440b-a968-167c2fb88236",
   "metadata": {
    "editable": true,
    "slideshow": {
     "slide_type": "fragment"
    },
    "tags": []
   },
   "outputs": [],
   "source": [
    "letters_d.fill(0)\n",
    "evt = count(queue, txt.shape, None,\n",
    "            txt_d.data, letters_d.data)\n",
    "evt.wait()\n",
    "assert np.allclose(np.bincount(txt), letters_d.get()[:234])\n",
    "print(f\"Profile time: {(evt.profile.end-evt.profile.start)*1e-6:.3f}ms (GPU)\")\n",
    "%timeit np.bincount(txt)"
   ]
  },
  {
   "cell_type": "code",
   "execution_count": null,
   "id": "b0b77fc0-3422-4cf0-b945-c9e799679fa7",
   "metadata": {
    "editable": true,
    "slideshow": {
     "slide_type": ""
    },
    "tags": []
   },
   "outputs": [],
   "source": [
    "#done"
   ]
  },
  {
   "cell_type": "markdown",
   "id": "098914b1-3288-4f78-8ef1-c533cb4a8409",
   "metadata": {
    "editable": true,
    "slideshow": {
     "slide_type": "slide"
    },
    "tags": []
   },
   "source": [
    "One can play with the workgroup size for best performances ...\n",
    "\n",
    "## Now it is your turn:\n",
    "\n",
    "Write a kernel called *histogram* which calculates the histogram for the 3 channels of an image: red, green and blue.\n",
    "\n",
    "Test this kernel and compare the results and performances with the reference implementation\n",
    "\n",
    "Here is the reference test function in numpy:"
   ]
  },
  {
   "cell_type": "code",
   "execution_count": null,
   "id": "6423f667-0166-4094-923c-61bcfd6195d3",
   "metadata": {
    "editable": true,
    "slideshow": {
     "slide_type": ""
    },
    "tags": []
   },
   "outputs": [],
   "source": [
    "from PIL import Image\n",
    "from matplotlib.pyplot import subplots\n",
    "img = np.array(Image.open(\"14h33m35-SM-N970U1.jpg\"))\n",
    "img_d = cla.to_device(queue, img)\n",
    "R, G, B = img.reshape((-1,3)).T"
   ]
  },
  {
   "cell_type": "code",
   "execution_count": null,
   "id": "fbf34626-1b28-4459-9401-870da8f89150",
   "metadata": {
    "editable": true,
    "slideshow": {
     "slide_type": "subslide"
    },
    "tags": []
   },
   "outputs": [],
   "source": [
    "fig, ax = subplots()\n",
    "ax.plot(np.bincount(R), color=\"r\")\n",
    "ax.plot(np.bincount(G), color=\"g\")\n",
    "ax.plot(np.bincount(B), color=\"b\")"
   ]
  },
  {
   "cell_type": "code",
   "execution_count": null,
   "id": "7159b61c-af6c-4c6c-9f44-20cd11d53908",
   "metadata": {
    "editable": true,
    "slideshow": {
     "slide_type": ""
    },
    "tags": []
   },
   "outputs": [],
   "source": [
    "%%cl_kernel\n",
    "//write your OpenCL code here"
   ]
  },
  {
   "cell_type": "code",
   "execution_count": null,
   "id": "275fb1ed-5d9a-41c9-bb1a-9cbae73a3776",
   "metadata": {
    "editable": true,
    "slideshow": {
     "slide_type": ""
    },
    "tags": []
   },
   "outputs": [],
   "source": [
    "#call the kernel and test it, finally profile"
   ]
  },
  {
   "cell_type": "code",
   "execution_count": null,
   "id": "cc0e4253-c96d-4267-9657-a28de6cec155",
   "metadata": {
    "editable": true,
    "slideshow": {
     "slide_type": ""
    },
    "tags": []
   },
   "outputs": [],
   "source": [
    "#Done"
   ]
  },
  {
   "cell_type": "markdown",
   "id": "3ba4a3aa-2068-4bea-860c-dd7407151821",
   "metadata": {
    "editable": true,
    "slideshow": {
     "slide_type": "slide"
    },
    "tags": []
   },
   "source": [
    "## Some words of conclusion\n",
    "\n",
    "It is important to protect the writing with atomic operatition when several threads are likely to write at the same location.\n",
    "\n",
    "One can also perform atomic operation on shared memory (introduced in the section about reductions), where it is faster and more efficient.\n",
    "\n",
    "\n",
    "## Tips & tricks\n",
    "\n",
    "Use an *atomic_dec* to know who is the latest workgroup finishing some task, in order to perform some clean-up without having to launch another kernel."
   ]
  },
  {
   "cell_type": "code",
   "execution_count": null,
   "id": "2ddda88b-761f-4c34-8d80-0a01626da3cc",
   "metadata": {
    "editable": true,
    "slideshow": {
     "slide_type": ""
    },
    "tags": []
   },
   "outputs": [],
   "source": []
  }
 ],
 "metadata": {
  "kernelspec": {
   "display_name": "Python 3 (ipykernel)",
   "language": "python",
   "name": "python3"
  },
  "language_info": {
   "codemirror_mode": {
    "name": "ipython",
    "version": 3
   },
   "file_extension": ".py",
   "mimetype": "text/x-python",
   "name": "python",
   "nbconvert_exporter": "python",
   "pygments_lexer": "ipython3",
   "version": "3.11.2"
  }
 },
 "nbformat": 4,
 "nbformat_minor": 5
}
