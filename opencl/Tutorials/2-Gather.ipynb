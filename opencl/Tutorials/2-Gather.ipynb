{
 "cells": [
  {
   "cell_type": "markdown",
   "id": "6e4ee28c-c3ed-4393-8d1b-44c25b1c7e8b",
   "metadata": {
    "editable": true,
    "slideshow": {
     "slide_type": "slide"
    },
    "tags": []
   },
   "source": [
    "# GPU programming using PyOpenCL, part 2: Gather\n",
    "\n",
    "This is a set of exercises on the usage of PyOpenCL. There are 6 main classes of parallel algorithms:\n",
    "1. Map or Element-wise kernels: 1 thread calculates 1 result from 1 input position\n",
    "2. Gather: 1 thread calculates 1 result from several input data, one typical example is the convolution\n",
    "3. Scatter: 1 thread uses 1 input element and scatters it on one or several output pixels, this requires the usage of atomic operarions\n",
    "4. Reduction: Apply the same associative operation on all element of an ensemble, for example the sum of all elements in a list.\n",
    "5. Scan: also called prefix sum, this algorithm applies the same associative operation to all *previous* elements of a list, for example a cummulative sum (cumsum)\n",
    "6. Sort: using sorting network like the bitonic sort.\n",
    "\n",
    "This Second tutorial focuses on the **Gather** operation applied to (visible light) image treatement. \n",
    "It consists of two part: an example of usage, followed by the direct application in an exercise to be done.\n",
    "\n",
    "* Demonstration of the context using Sobel filter\n",
    "* Binning as exercise\n",
    "\n",
    "First we load some python modules to be able to read and display images. Then we initialize OpenCL, a context, a command queue, ..."
   ]
  },
  {
   "cell_type": "code",
   "execution_count": null,
   "id": "55ae89b0-3a86-4dce-a3d0-85592fff9c3f",
   "metadata": {
    "editable": true,
    "slideshow": {
     "slide_type": "slide"
    },
    "tags": []
   },
   "outputs": [],
   "source": [
    "%matplotlib widget\n",
    "from math import ceil\n",
    "import numpy as np\n",
    "from PIL import Image\n",
    "from matplotlib.pyplot import subplots"
   ]
  },
  {
   "cell_type": "code",
   "execution_count": null,
   "id": "05c3d1bf-57c0-4bc2-81bd-cf187f7707d9",
   "metadata": {
    "editable": true,
    "slideshow": {
     "slide_type": "fragment"
    },
    "tags": []
   },
   "outputs": [],
   "source": [
    "import pyopencl as cl\n",
    "from pyopencl import array as cla\n",
    "from pyopencl.elementwise import ElementwiseKernel\n",
    "\n",
    "ctx = cl.create_some_context(interactive=False)\n",
    "queue = cl.CommandQueue(ctx, properties=cl.command_queue_properties.PROFILING_ENABLE)\n",
    "\n",
    "print(ctx.devices[0])"
   ]
  },
  {
   "cell_type": "code",
   "execution_count": null,
   "id": "925e519d-ba31-431c-8763-7f7f375f2982",
   "metadata": {
    "editable": true,
    "slideshow": {
     "slide_type": "fragment"
    },
    "tags": []
   },
   "outputs": [],
   "source": [
    "filename = \"14h33m35-SM-N970U1.jpg\"\n",
    "img = np.array(Image.open(filename))\n",
    "img_d = cla.to_device(queue, img)\n",
    "gray_d = cla.empty(queue, img.shape[:2], \"float32\")\n",
    "luma_ew = ElementwiseKernel(ctx, \n",
    "                            arguments=\"float *L, uchar *rgb\", \n",
    "                            operation=\"L[i] = 0.299f * rgb[3*i] + 0.587f * rgb[3*i+1] + 0.114f * rgb[3*i+2]\")\n",
    "luma_ew(gray_d, img_d).wait()"
   ]
  },
  {
   "cell_type": "code",
   "execution_count": null,
   "id": "4ed8e60b-8023-4dbe-a9c1-ad07c490f325",
   "metadata": {
    "editable": true,
    "slideshow": {
     "slide_type": "subslide"
    },
    "tags": []
   },
   "outputs": [],
   "source": [
    "fig, ax = subplots(1, 2, figsize=(10,4))\n",
    "ax[0].imshow(img)\n",
    "ax[1].imshow(gray_d.get(), cmap=\"gray\")"
   ]
  },
  {
   "cell_type": "code",
   "execution_count": null,
   "id": "694cda9a-3fb7-492b-bef6-92660a938bee",
   "metadata": {
    "editable": true,
    "slideshow": {
     "slide_type": "fragment"
    },
    "tags": []
   },
   "outputs": [],
   "source": [
    "R, G, B = img.reshape((-1,3)).T\n",
    "Y = 0.299*R + 0.587*G + 0.114*B\n",
    "Y.shape = img.shape[:2]\n",
    "assert np.allclose(Y, gray_d.get())"
   ]
  },
  {
   "cell_type": "markdown",
   "id": "c1c39779-758c-445b-8bbf-0eb318b44766",
   "metadata": {
    "editable": true,
    "slideshow": {
     "slide_type": "slide"
    },
    "tags": []
   },
   "source": [
    "In this example we will work on the black&white version of the image.\n",
    "\n",
    "## Demonstration: [Sobel Filter](https://en.wikipedia.org/wiki/Sobel_operator):\n",
    "\n",
    "The Sobel extracts the gradiant from an image, it is obtained from the quadratic sum of Gx and Gy:\n",
    "\n",
    "$$ G_x =  \\begin{bmatrix}\n",
    "1 & 0 & -1\\\\\n",
    "2 & 0 & -2\\\\\n",
    "1 & 0 & -1\n",
    "\\end{bmatrix} \\ast I$$\n",
    "\n",
    "$$ G_y =  \\begin{bmatrix}\n",
    "1 & 2 & 1\\\\\n",
    "0 & 0 & 0\\\\\n",
    "-1 & -2 & -1\n",
    "\\end{bmatrix} \\ast I$$\n",
    "\n",
    "$$ G = \\sqrt{G_x^2 + G_y^2}$$\n",
    "\n",
    "Or the Scipy implementation: "
   ]
  },
  {
   "cell_type": "code",
   "execution_count": null,
   "id": "2750975e-42f0-4bb9-badf-64798d342ef7",
   "metadata": {
    "editable": true,
    "slideshow": {
     "slide_type": "fragment"
    },
    "tags": []
   },
   "outputs": [],
   "source": [
    "from scipy import ndimage\n",
    "sobel_h = ndimage.sobel(Y, 0)  # horizontal gradient\n",
    "sobel_v = ndimage.sobel(Y, 1)  # vertical gradient\n",
    "magnitude = np.sqrt(sobel_h**2 + sobel_v**2)"
   ]
  },
  {
   "cell_type": "code",
   "execution_count": null,
   "id": "3e29116d-72a7-445b-b81e-288c5272161d",
   "metadata": {
    "editable": true,
    "slideshow": {
     "slide_type": "subslide"
    },
    "tags": []
   },
   "outputs": [],
   "source": [
    "fig, ax = subplots(2, 2, figsize=(10,8))\n",
    "ax[0,0].imshow(Y, cmap=\"gray\")\n",
    "ax[0,1].imshow(sobel_h, cmap=\"gray\")\n",
    "ax[1,0].imshow(sobel_v, cmap=\"gray\")\n",
    "ax[1,1].imshow(magnitude, cmap=\"gray\")"
   ]
  },
  {
   "cell_type": "code",
   "execution_count": null,
   "id": "6dddc743-14bd-46d4-8e00-f4d1548ec16d",
   "metadata": {
    "editable": true,
    "slideshow": {
     "slide_type": ""
    },
    "tags": []
   },
   "outputs": [],
   "source": [
    "%load_ext pyopencl.ipython_ext"
   ]
  },
  {
   "cell_type": "code",
   "execution_count": null,
   "id": "c50ac857-79ef-4f02-a8f5-ac4c16655418",
   "metadata": {
    "editable": true,
    "slideshow": {
     "slide_type": "subslide"
    },
    "tags": []
   },
   "outputs": [],
   "source": [
    "%%cl_kernel\n",
    "\n",
    "kernel void sobel(global float *img, \n",
    "                  global float *sob, \n",
    "                 int height, \n",
    "                 int width,\n",
    "                 int axis)\n",
    "{\n",
    "    int x, y;\n",
    "    y = get_global_id(0);\n",
    "    x = get_global_id(1);\n",
    "    if ((x<width) && (y<height))\n",
    "    {\n",
    "        float Gx, Gy; \n",
    "        int w, i, j, rx, ry, r;\n",
    "\n",
    "        int avg[3] = {1, 2, 1};\n",
    "        int dif[3] = {-1, 0, 1};\n",
    "\n",
    "        Gx = 0.0f;\n",
    "        Gy = 0.0f;\n",
    "        for(i=-1; i<2; i++){\n",
    "            ry = y + i;\n",
    "            //Boundary conditions: mode reflect\n",
    "            if (ry<0) ry = abs(ry+1);\n",
    "            if (ry>=height) ry = 2*height - ry - 1;\n",
    "\n",
    "            for(j=-1; j<2; j++){\n",
    "                rx = x + j;\n",
    "                //Boundary conditions: mode reflect\n",
    "                if (rx<0) rx = abs(rx+1);\n",
    "                if (rx>=width) rx = 2*width - rx - 1;\n",
    "\n",
    "                r = ry*width + rx;\n",
    "                Gx += avg[j+1] * dif[i+1] * img[r];\n",
    "                Gy += avg[i+1] * dif[j+1] * img[r];\n",
    "            }\n",
    "        }\n",
    "        w = x + width*y;\n",
    "        if (axis==0)\n",
    "            sob[w] = Gx;\n",
    "        else if (axis==1)\n",
    "            sob[w] = Gy;\n",
    "        else \n",
    "            sob[w] = sqrt(Gx*Gx + Gy*Gy);\n",
    "    }\n",
    "}"
   ]
  },
  {
   "cell_type": "code",
   "execution_count": null,
   "id": "d8ee2d23-3652-4155-9258-a46252e8bb5e",
   "metadata": {
    "editable": true,
    "slideshow": {
     "slide_type": "subslide"
    },
    "tags": []
   },
   "outputs": [],
   "source": [
    "wg = (1, 256)#(1,256)#(32, 32)#, (256,1), (1, 256), ...\n",
    "shape = gray_d.shape[:2] if wg is None else tuple(int(ceil(i/w)*w) for i,w in zip(gray_d.shape, wg))\n",
    "sob_d = cla.empty_like(gray_d)"
   ]
  },
  {
   "cell_type": "code",
   "execution_count": null,
   "id": "1ae149a6-c29a-46da-9840-8c0e7da6cf48",
   "metadata": {
    "editable": true,
    "slideshow": {
     "slide_type": "fragment"
    },
    "tags": []
   },
   "outputs": [],
   "source": [
    "# Horizontal\n",
    "evt = sobel(queue, shape, wg, \n",
    "              gray_d.data, sob_d.data, \n",
    "          np.int32(gray_d.shape[0]), np.int32(gray_d.shape[1]), np.int32(0))\n",
    "assert np.allclose(sobel_h, sob_d.get(), rtol=1e-3, atol=1e-3)\n",
    "print(f\"Profile time: {(evt.profile.end-evt.profile.start)*1e-6:.3f}ms (GPU)\")\n",
    "%timeit ndimage.sobel(Y, 0)  # horizontal gradient"
   ]
  },
  {
   "cell_type": "code",
   "execution_count": null,
   "id": "d9d82bdc-8fe8-4f7c-8271-bb1c16cb094d",
   "metadata": {
    "editable": true,
    "slideshow": {
     "slide_type": "fragment"
    },
    "tags": []
   },
   "outputs": [],
   "source": [
    "# Vertical\n",
    "evt = sobel(queue, shape, wg, \n",
    "              gray_d.data, sob_d.data, \n",
    "              np.int32(gray_d.shape[0]), np.int32(gray_d.shape[1]), np.int32(1))\n",
    "assert np.allclose(sobel_v, sob_d.get(), rtol=1e-3, atol=1e-3)\n",
    "print(f\"Profile time: {(evt.profile.end-evt.profile.start)*1e-6:.3f}ms (GPU)\")\n",
    "%timeit ndimage.sobel(Y, 1)  # vertical gradient"
   ]
  },
  {
   "cell_type": "code",
   "execution_count": null,
   "id": "2ea5933d-c55a-4487-863c-c413144eb4a2",
   "metadata": {
    "editable": true,
    "slideshow": {
     "slide_type": "fragment"
    },
    "tags": []
   },
   "outputs": [],
   "source": [
    "#Magnitude\n",
    "evt = sobel(queue, shape, wg, \n",
    "              gray_d.data, sob_d.data, \n",
    "              np.int32(gray_d.shape[0]), np.int32(gray_d.shape[1]), np.int32(3))\n",
    "assert np.allclose(magnitude, sob_d.get(), rtol=1e-3, atol=1e-3)\n",
    "print(f\"Profile time: {(evt.profile.end-evt.profile.start)*1e-6:.3f}ms (GPU)\")\n",
    "%timeit np.sqrt(sobel_h**2 + sobel_v**2)"
   ]
  },
  {
   "cell_type": "code",
   "execution_count": null,
   "id": "e788c138-5a4f-4be5-a10a-09d4de2c9f70",
   "metadata": {
    "editable": true,
    "slideshow": {
     "slide_type": ""
    },
    "tags": []
   },
   "outputs": [],
   "source": [
    "#Done"
   ]
  },
  {
   "cell_type": "code",
   "execution_count": null,
   "id": "9f3208d7-9200-4881-8cff-17a9c6bbc36d",
   "metadata": {
    "editable": true,
    "slideshow": {
     "slide_type": "subslide"
    },
    "tags": []
   },
   "outputs": [],
   "source": [
    "fig,ax = subplots()\n",
    "ax.imshow(sob_d.get(), cmap=\"gray\")"
   ]
  },
  {
   "cell_type": "code",
   "execution_count": null,
   "id": "172f4163-cf7a-4ec1-9a7b-886b5582ef75",
   "metadata": {
    "editable": true,
    "slideshow": {
     "slide_type": ""
    },
    "tags": []
   },
   "outputs": [],
   "source": [
    "#Done"
   ]
  },
  {
   "cell_type": "markdown",
   "id": "0ffcf128-a5cd-4378-8eea-84da6787e082",
   "metadata": {
    "editable": true,
    "slideshow": {
     "slide_type": "slide"
    },
    "tags": []
   },
   "source": [
    "One can play with the workgroup size for best performances ...\n",
    "\n",
    "## Now it is your turn:\n",
    "\n",
    "Write a kernel called *binner* which performs the [binning 2x2 of an image](https://en.wikipedia.org/wiki/Pixel_binning), i.e. the resulting pixels are 2x2 times larger and contains the sum of the pixel intensities from the 4 adjacent pixels. As a consequence, there are 4x less pixels.\n",
    "\n",
    "Test this kernel and compare the results and performances with the reference implementation\n",
    "\n",
    "Here is the reference test function in numpy:"
   ]
  },
  {
   "cell_type": "code",
   "execution_count": null,
   "id": "13aaf2d9-ba8e-43b7-8cb8-9ff3ec707e11",
   "metadata": {
    "editable": true,
    "slideshow": {
     "slide_type": "fragment"
    },
    "tags": []
   },
   "outputs": [],
   "source": [
    "binned = Y.reshape(Y.shape[0]//2, 2, Y.shape[1]//2, 2).sum(axis=(1,-1))"
   ]
  },
  {
   "cell_type": "code",
   "execution_count": null,
   "id": "7f42e8aa-0d71-4645-903c-614688b83c40",
   "metadata": {
    "editable": true,
    "slideshow": {
     "slide_type": ""
    },
    "tags": []
   },
   "outputs": [],
   "source": [
    "%%cl_kernel\n",
    "//Write your OpenCL code here"
   ]
  },
  {
   "cell_type": "code",
   "execution_count": null,
   "id": "8f4b3812-371e-4e90-ab8e-793dbeb73074",
   "metadata": {
    "editable": true,
    "slideshow": {
     "slide_type": ""
    },
    "tags": []
   },
   "outputs": [],
   "source": [
    "wg = None\n",
    "shape_in = gray_d.shape\n",
    "shape_out = tuple(s//2 for s in shape_in)\n",
    "bin_d = cla.empty(queue, shape_out, \"float32\")\n",
    "shape_out = shape_out if wg is None else tuple(int(ceil(i/w)*w) for i,w in zip(shape_out, wg))"
   ]
  },
  {
   "cell_type": "code",
   "execution_count": null,
   "id": "edd9763b-fa8b-43c7-99c4-92df1fa86a73",
   "metadata": {
    "editable": true,
    "slideshow": {
     "slide_type": ""
    },
    "tags": []
   },
   "outputs": [],
   "source": [
    "# Call the kernel here, check it and profile it"
   ]
  }
 ],
 "metadata": {
  "kernelspec": {
   "display_name": "Python 3 (ipykernel)",
   "language": "python",
   "name": "python3"
  },
  "language_info": {
   "codemirror_mode": {
    "name": "ipython",
    "version": 3
   },
   "file_extension": ".py",
   "mimetype": "text/x-python",
   "name": "python",
   "nbconvert_exporter": "python",
   "pygments_lexer": "ipython3",
   "version": "3.11.2"
  }
 },
 "nbformat": 4,
 "nbformat_minor": 5
}
